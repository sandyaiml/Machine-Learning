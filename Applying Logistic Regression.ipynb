{
 "cells": [
  {
   "cell_type": "markdown",
   "metadata": {
    "colab_type": "text",
    "id": "-Ab-X-IrCyl0"
   },
   "source": [
    "# DonorsChoose"
   ]
  },
  {
   "cell_type": "markdown",
   "metadata": {
    "colab_type": "text",
    "id": "etNpzy7rCyl2"
   },
   "source": [
    "<p>\n",
    "DonorsChoose.org receives hundreds of thousands of project proposals each year for classroom projects in need of funding. Right now, a large number of volunteers is needed to manually screen each submission before it's approved to be posted on the DonorsChoose.org website.\n",
    "</p>\n",
    "<p>\n",
    "    Next year, DonorsChoose.org expects to receive close to 500,000 project proposals. As a result, there are three main problems they need to solve:\n",
    "<ul>\n",
    "<li>\n",
    "    How to scale current manual processes and resources to screen 500,000 projects so that they can be posted as quickly and as efficiently as possible</li>\n",
    "    <li>How to increase the consistency of project vetting across different volunteers to improve the experience for teachers</li>\n",
    "    <li>How to focus volunteer time on the applications that need the most assistance</li>\n",
    "    </ul>\n",
    "</p>    \n",
    "<p>\n",
    "The goal of the competition is to predict whether or not a DonorsChoose.org project proposal submitted by a teacher will be approved, using the text of project descriptions as well as additional metadata about the project, teacher, and school. DonorsChoose.org can then use this information to identify projects most likely to need further review before approval.\n",
    "</p>"
   ]
  },
  {
   "cell_type": "markdown",
   "metadata": {
    "colab_type": "text",
    "id": "kO2Kg7TgCyl4"
   },
   "source": [
    "## About the DonorsChoose Data Set\n",
    "\n",
    "The `train.csv` data set provided by DonorsChoose contains the following features:\n",
    "\n",
    "Feature | Description \n",
    "----------|---------------\n",
    "**`project_id`** | A unique identifier for the proposed project. **Example:** `p036502`   \n",
    "**`project_title`**    | Title of the project. **Examples:**<br><ul><li><code>Art Will Make You Happy!</code></li><li><code>First Grade Fun</code></li></ul> \n",
    "**`project_grade_category`** | Grade level of students for which the project is targeted. One of the following enumerated values: <br/><ul><li><code>Grades PreK-2</code></li><li><code>Grades 3-5</code></li><li><code>Grades 6-8</code></li><li><code>Grades 9-12</code></li></ul>  \n",
    " **`project_subject_categories`** | One or more (comma-separated) subject categories for the project from the following enumerated list of values:  <br/><ul><li><code>Applied Learning</code></li><li><code>Care &amp; Hunger</code></li><li><code>Health &amp; Sports</code></li><li><code>History &amp; Civics</code></li><li><code>Literacy &amp; Language</code></li><li><code>Math &amp; Science</code></li><li><code>Music &amp; The Arts</code></li><li><code>Special Needs</code></li><li><code>Warmth</code></li></ul><br/> **Examples:** <br/><ul><li><code>Music &amp; The Arts</code></li><li><code>Literacy &amp; Language, Math &amp; Science</code></li>  \n",
    "  **`school_state`** | State where school is located ([Two-letter U.S. postal code](https://en.wikipedia.org/wiki/List_of_U.S._state_abbreviations#Postal_codes)). **Example:** `WY`\n",
    "**`project_subject_subcategories`** | One or more (comma-separated) subject subcategories for the project. **Examples:** <br/><ul><li><code>Literacy</code></li><li><code>Literature &amp; Writing, Social Sciences</code></li></ul> \n",
    "**`project_resource_summary`** | An explanation of the resources needed for the project. **Example:** <br/><ul><li><code>My students need hands on literacy materials to manage sensory needs!</code</li></ul> \n",
    "**`project_essay_1`**    | First application essay<sup>*</sup>  \n",
    "**`project_essay_2`**    | Second application essay<sup>*</sup> \n",
    "**`project_essay_3`**    | Third application essay<sup>*</sup> \n",
    "**`project_essay_4`**    | Fourth application essay<sup>*</sup> \n",
    "**`project_submitted_datetime`** | Datetime when project application was submitted. **Example:** `2016-04-28 12:43:56.245`   \n",
    "**`teacher_id`** | A unique identifier for the teacher of the proposed project. **Example:** `bdf8baa8fedef6bfeec7ae4ff1c15c56`  \n",
    "**`teacher_prefix`** | Teacher's title. One of the following enumerated values: <br/><ul><li><code>nan</code></li><li><code>Dr.</code></li><li><code>Mr.</code></li><li><code>Mrs.</code></li><li><code>Ms.</code></li><li><code>Teacher.</code></li></ul>  \n",
    "**`teacher_number_of_previously_posted_projects`** | Number of project applications previously submitted by the same teacher. **Example:** `2` \n",
    "\n",
    "<sup>*</sup> See the section <b>Notes on the Essay Data</b> for more details about these features.\n",
    "\n",
    "Additionally, the `resources.csv` data set provides more data about the resources required for each project. Each line in this file represents a resource required by a project:\n",
    "\n",
    "Feature | Description \n",
    "----------|---------------\n",
    "**`id`** | A `project_id` value from the `train.csv` file.  **Example:** `p036502`   \n",
    "**`description`** | Desciption of the resource. **Example:** `Tenor Saxophone Reeds, Box of 25`   \n",
    "**`quantity`** | Quantity of the resource required. **Example:** `3`   \n",
    "**`price`** | Price of the resource required. **Example:** `9.95`   \n",
    "\n",
    "**Note:** Many projects require multiple resources. The `id` value corresponds to a `project_id` in train.csv, so you use it as a key to retrieve all resources needed for a project:\n",
    "\n",
    "The data set contains the following label (the value you will attempt to predict):\n",
    "\n",
    "Label | Description\n",
    "----------|---------------\n",
    "`project_is_approved` | A binary flag indicating whether DonorsChoose approved the project. A value of `0` indicates the project was not approved, and a value of `1` indicates the project was approved."
   ]
  },
  {
   "cell_type": "markdown",
   "metadata": {
    "colab_type": "text",
    "id": "dBGA_YStCyl6"
   },
   "source": [
    "### Notes on the Essay Data\n",
    "\n",
    "<ul>\n",
    "Prior to May 17, 2016, the prompts for the essays were as follows:\n",
    "<li>__project_essay_1:__ \"Introduce us to your classroom\"</li>\n",
    "<li>__project_essay_2:__ \"Tell us more about your students\"</li>\n",
    "<li>__project_essay_3:__ \"Describe how your students will use the materials you're requesting\"</li>\n",
    "<li>__project_essay_3:__ \"Close by sharing why your project will make a difference\"</li>\n",
    "</ul>\n",
    "\n",
    "\n",
    "<ul>\n",
    "Starting on May 17, 2016, the number of essays was reduced from 4 to 2, and the prompts for the first 2 essays were changed to the following:<br>\n",
    "<li>__project_essay_1:__ \"Describe your students: What makes your students special? Specific details about their background, your neighborhood, and your school are all helpful.\"</li>\n",
    "<li>__project_essay_2:__ \"About your project: How will these materials make a difference in your students' learning and improve their school lives?\"</li>\n",
    "<br>For all projects with project_submitted_datetime of 2016-05-17 and later, the values of project_essay_3 and project_essay_4 will be NaN.\n",
    "</ul>\n"
   ]
  },
  {
   "cell_type": "code",
   "execution_count": 0,
   "metadata": {
    "colab": {},
    "colab_type": "code",
    "id": "XTrCJ5p9Cyl7"
   },
   "outputs": [],
   "source": [
    "%matplotlib inline\n",
    "import warnings\n",
    "warnings.filterwarnings(\"ignore\")\n",
    "import sqlite3\n",
    "import pandas as pd\n",
    "import numpy as np\n",
    "import nltk\n",
    "import string\n",
    "import matplotlib.pyplot as plt\n",
    "import seaborn as sns\n",
    "from sklearn.feature_extraction.text import TfidfTransformer\n",
    "from sklearn.feature_extraction.text import TfidfVectorizer\n",
    "from sklearn.feature_extraction.text import CountVectorizer\n",
    "from sklearn.metrics import confusion_matrix\n",
    "from sklearn import metrics\n",
    "from sklearn.metrics import roc_curve, auc\n",
    "from nltk.stem.porter import PorterStemmer\n",
    "import re\n",
    "# Tutorial about Python regular expressions: https://pymotw.com/2/re/\n",
    "import string\n",
    "from nltk.corpus import stopwords\n",
    "from nltk.stem import PorterStemmer\n",
    "from nltk.stem.wordnet import WordNetLemmatizer\n",
    "from gensim.models import Word2Vec\n",
    "from gensim.models import KeyedVectors\n",
    "import pickle\n",
    "from tqdm import tqdm\n",
    "import os\n",
    "import chart_studio.plotly\n",
    "# from plotly import plotly\n",
    "import plotly.offline as offline\n",
    "import plotly.graph_objs as go\n",
    "offline.init_notebook_mode()\n",
    "from collections import Counter\n",
    "from scipy.sparse import hstack,vstack\n",
    "from sklearn.model_selection import train_test_split\n",
    "from sklearn.neighbors import KNeighborsClassifier\n",
    "from sklearn.metrics import accuracy_score\n",
    "from sklearn.model_selection import cross_val_score\n",
    "from sklearn import model_selection\n",
    "from sklearn.preprocessing import StandardScaler\n",
    "from sklearn.model_selection import RandomizedSearchCV\n",
    "#from sklearn.impute import SimpleImputer\n",
    "from sklearn.datasets import load_digits\n",
    "#from sklearn.feature_selection import SelectKBest, chi2\n",
    "from sklearn.model_selection import GridSearchCV\n",
    "from sklearn.feature_selection import SelectKBest,f_classif\n",
    "from prettytable import PrettyTable\n",
    "from sklearn.naive_bayes import MultinomialNB\n",
    "from sklearn.preprocessing import Normalizer\n",
    "from sklearn.metrics import confusion_matrix\n",
    "#import math\n",
    "from sklearn.linear_model import LogisticRegression\n",
    "import nltk\n",
    "from nltk.sentiment.vader import SentimentIntensityAnalyzer\n",
    "nltk.download('vader_lexicon')\n",
    "import pdb"
   ]
  },
  {
   "cell_type": "markdown",
   "metadata": {
    "colab_type": "text",
    "id": "MjknLZQqCymQ"
   },
   "source": [
    "## 1.1 Reading Data"
   ]
  },
  {
   "cell_type": "code",
   "execution_count": 0,
   "metadata": {
    "colab": {
     "base_uri": "https://localhost:8080/",
     "height": 51
    },
    "colab_type": "code",
    "executionInfo": {
     "elapsed": 57162,
     "status": "ok",
     "timestamp": 1574831744960,
     "user": {
      "displayName": "Santhosh Kumar",
      "photoUrl": "https://lh3.googleusercontent.com/a-/AAuE7mCRlaOX8dDmFuSGPHMZtyYyi8ks0uwyxMgvosSa=s64",
      "userId": "02443764688110331515"
     },
     "user_tz": -330
    },
    "id": "abtcqBS8CymT",
    "outputId": "aa855e9f-7cd5-4bb9-afd5-2249696042a4"
   },
   "outputs": [
    {
     "name": "stdout",
     "output_type": "stream",
     "text": [
      "(109248, 17)\n",
      "(1541272, 4)\n"
     ]
    }
   ],
   "source": [
    "Project_data = pd.read_csv('train_data.csv')\n",
    "Resource_data = pd.read_csv('resources.csv')\n",
    "print(Project_data.shape)\n",
    "print(Resource_data.shape)"
   ]
  },
  {
   "cell_type": "code",
   "execution_count": 0,
   "metadata": {
    "colab": {
     "base_uri": "https://localhost:8080/",
     "height": 250
    },
    "colab_type": "code",
    "executionInfo": {
     "elapsed": 57122,
     "status": "ok",
     "timestamp": 1574831744962,
     "user": {
      "displayName": "Santhosh Kumar",
      "photoUrl": "https://lh3.googleusercontent.com/a-/AAuE7mCRlaOX8dDmFuSGPHMZtyYyi8ks0uwyxMgvosSa=s64",
      "userId": "02443764688110331515"
     },
     "user_tz": -330
    },
    "id": "BTGMDQoPCymc",
    "outputId": "96472a11-93e4-4435-f3b3-a196a309a215"
   },
   "outputs": [
    {
     "data": {
      "text/html": [
       "<div>\n",
       "<style scoped>\n",
       "    .dataframe tbody tr th:only-of-type {\n",
       "        vertical-align: middle;\n",
       "    }\n",
       "\n",
       "    .dataframe tbody tr th {\n",
       "        vertical-align: top;\n",
       "    }\n",
       "\n",
       "    .dataframe thead th {\n",
       "        text-align: right;\n",
       "    }\n",
       "</style>\n",
       "<table border=\"1\" class=\"dataframe\">\n",
       "  <thead>\n",
       "    <tr style=\"text-align: right;\">\n",
       "      <th></th>\n",
       "      <th>Unnamed: 0</th>\n",
       "      <th>id</th>\n",
       "      <th>teacher_id</th>\n",
       "      <th>teacher_prefix</th>\n",
       "      <th>school_state</th>\n",
       "      <th>Date</th>\n",
       "      <th>project_grade_category</th>\n",
       "      <th>project_subject_categories</th>\n",
       "      <th>project_subject_subcategories</th>\n",
       "      <th>project_title</th>\n",
       "      <th>project_essay_1</th>\n",
       "      <th>project_essay_2</th>\n",
       "      <th>project_essay_3</th>\n",
       "      <th>project_essay_4</th>\n",
       "      <th>project_resource_summary</th>\n",
       "      <th>teacher_number_of_previously_posted_projects</th>\n",
       "      <th>project_is_approved</th>\n",
       "    </tr>\n",
       "  </thead>\n",
       "  <tbody>\n",
       "    <tr>\n",
       "      <th>55660</th>\n",
       "      <td>8393</td>\n",
       "      <td>p205479</td>\n",
       "      <td>2bf07ba08945e5d8b2a3f269b2b3cfe5</td>\n",
       "      <td>Mrs.</td>\n",
       "      <td>CA</td>\n",
       "      <td>2016-04-27 00:27:36</td>\n",
       "      <td>Grades PreK-2</td>\n",
       "      <td>Math &amp; Science</td>\n",
       "      <td>Applied Sciences, Health &amp; Life Science</td>\n",
       "      <td>Engineering STEAM into the Primary Classroom</td>\n",
       "      <td>I have been fortunate enough to use the Fairy ...</td>\n",
       "      <td>My students come from a variety of backgrounds...</td>\n",
       "      <td>Each month I try to do several science or STEM...</td>\n",
       "      <td>It is challenging to develop high quality scie...</td>\n",
       "      <td>My students need STEM kits to learn critical s...</td>\n",
       "      <td>53</td>\n",
       "      <td>1</td>\n",
       "    </tr>\n",
       "    <tr>\n",
       "      <th>76127</th>\n",
       "      <td>37728</td>\n",
       "      <td>p043609</td>\n",
       "      <td>3f60494c61921b3b43ab61bdde2904df</td>\n",
       "      <td>Ms.</td>\n",
       "      <td>UT</td>\n",
       "      <td>2016-04-27 00:31:25</td>\n",
       "      <td>Grades 3-5</td>\n",
       "      <td>Special Needs</td>\n",
       "      <td>Special Needs</td>\n",
       "      <td>Sensory Tools for Focus</td>\n",
       "      <td>Imagine being 8-9 years old. You're in your th...</td>\n",
       "      <td>Most of my students have autism, anxiety, anot...</td>\n",
       "      <td>It is tough to do more than one thing at a tim...</td>\n",
       "      <td>When my students are able to calm themselves d...</td>\n",
       "      <td>My students need Boogie Boards for quiet senso...</td>\n",
       "      <td>4</td>\n",
       "      <td>1</td>\n",
       "    </tr>\n",
       "  </tbody>\n",
       "</table>\n",
       "</div>"
      ],
      "text/plain": [
       "       Unnamed: 0  ... project_is_approved\n",
       "55660        8393  ...                   1\n",
       "76127       37728  ...                   1\n",
       "\n",
       "[2 rows x 17 columns]"
      ]
     },
     "execution_count": 5,
     "metadata": {
      "tags": []
     },
     "output_type": "execute_result"
    }
   ],
   "source": [
    "# how to replace elements in list python: https://stackoverflow.com/a/2582163/4084039\n",
    "cols = ['Date' if x=='project_submitted_datetime' else x for x in list(Project_data.columns)]\n",
    "#sort dataframe based on time pandas python: https://stackoverflow.com/a/49702492/4084039\n",
    "Project_data['Date'] = pd.to_datetime(Project_data['project_submitted_datetime'])\n",
    "Project_data.drop('project_submitted_datetime', axis=1, inplace=True)\n",
    "Project_data.sort_values(by=['Date'], inplace=True)\n",
    "# how to reorder columns pandas python: https://stackoverflow.com/a/13148611/4084039\n",
    "Project_data = Project_data[cols]\n",
    "Project_data.head(2)"
   ]
  },
  {
   "cell_type": "markdown",
   "metadata": {
    "colab_type": "text",
    "id": "6WZaYhwJCymp"
   },
   "source": [
    "## 1.2 preprocessing of `project_subject_categories`"
   ]
  },
  {
   "cell_type": "code",
   "execution_count": 0,
   "metadata": {
    "colab": {},
    "colab_type": "code",
    "id": "7jBObH6k-aGO"
   },
   "outputs": [],
   "source": [
    "y = Project_data['project_is_approved'].values\n",
    "Project_data.drop(['project_is_approved'], axis=1, inplace=True)\n",
    "lpd = len(Project_data)\n",
    "ys = np.zeros(lpd, dtype=np.int32)\n",
    "X = Project_data"
   ]
  },
  {
   "cell_type": "code",
   "execution_count": 0,
   "metadata": {
    "colab": {
     "base_uri": "https://localhost:8080/",
     "height": 68
    },
    "colab_type": "code",
    "executionInfo": {
     "elapsed": 58264,
     "status": "ok",
     "timestamp": 1574831746238,
     "user": {
      "displayName": "Santhosh Kumar",
      "photoUrl": "https://lh3.googleusercontent.com/a-/AAuE7mCRlaOX8dDmFuSGPHMZtyYyi8ks0uwyxMgvosSa=s64",
      "userId": "02443764688110331515"
     },
     "user_tz": -330
    },
    "id": "MmoqG2jr-aGR",
    "outputId": "38281fef-47f1-40d5-d471-2bb7231bad1c"
   },
   "outputs": [
    {
     "name": "stdout",
     "output_type": "stream",
     "text": [
      "Shape of the X_Train data is (49041, 16) and Y_Train data is: 49041\n",
      "Shape of the X_CV data is    (24155, 16) and Y_CV data is   : 24155\n",
      "Shape of the X_Test data is  (36052, 16) and Y_Test data is : 36052\n"
     ]
    }
   ],
   "source": [
    "#Spliting the Dataset into three Train,CV and Test\n",
    "X1, X_Test, Y1, Y_Test = train_test_split(X, y, test_size=0.33, random_state=0, stratify=ys)\n",
    "nx1 = len(X1)\n",
    "ys1 = np.zeros(nx1, dtype=np.int32)\n",
    "X_Train, X_CV, Y_Train, Y_CV = train_test_split(X1, Y1, test_size=0.33, random_state=0, stratify=ys1)\n",
    "print('Shape of the X_Train data is {0} and Y_Train data is: {1}'.format(X_Train.shape,Y_Train.shape[0]))\n",
    "print('Shape of the X_CV data is    {0} and Y_CV data is   : {1}'.format(X_CV.shape,Y_CV.shape[0]))\n",
    "print('Shape of the X_Test data is  {0} and Y_Test data is : {1}'.format(X_Test.shape,Y_Test.shape[0]))"
   ]
  },
  {
   "cell_type": "code",
   "execution_count": 0,
   "metadata": {
    "colab": {
     "base_uri": "https://localhost:8080/",
     "height": 34
    },
    "colab_type": "code",
    "executionInfo": {
     "elapsed": 58208,
     "status": "ok",
     "timestamp": 1574831746241,
     "user": {
      "displayName": "Santhosh Kumar",
      "photoUrl": "https://lh3.googleusercontent.com/a-/AAuE7mCRlaOX8dDmFuSGPHMZtyYyi8ks0uwyxMgvosSa=s64",
      "userId": "02443764688110331515"
     },
     "user_tz": -330
    },
    "id": "Mdkhq7PRCymr",
    "outputId": "3c857d44-52b8-4483-828e-2b510250a369"
   },
   "outputs": [
    {
     "name": "stdout",
     "output_type": "stream",
     "text": [
      "9\n"
     ]
    }
   ],
   "source": [
    "# remove special characters from list of strings python: https://stackoverflow.com/a/47301924/4084039\n",
    "\n",
    "# https://www.geeksforgeeks.org/removing-stop-words-nltk-python/\n",
    "# https://stackoverflow.com/questions/23669024/how-to-strip-a-specific-word-from-a-string\n",
    "# https://stackoverflow.com/questions/8270092/remove-all-whitespace-in-a-string-in-python\n",
    "\n",
    "#****************************************************************Train Data********************************************************************************************\n",
    "catogories = list(X_Train['project_subject_categories'].values)\n",
    "cat_list = []\n",
    "for i in catogories:\n",
    "    temp = \"\"\n",
    "    # consider we have text like this \"Math & Science, Warmth, Care & Hunger\"\n",
    "    for j in i.split(','): # it will split it in three parts [\"Math & Science\", \"Warmth\", \"Care & Hunger\"]\n",
    "        if 'The' in j.split(): # this will split each of the catogory based on space \"Math & Science\"=> \"Math\",\"&\", \"Science\"\n",
    "            j=j.replace('The','') # if we have the words \"The\" we are going to replace it with ''(i.e removing 'The')\n",
    "        j = j.replace(' ','') # we are placeing all the ' '(space) with ''(empty) ex:\"Math & Science\"=>\"Math&Science\"\n",
    "        temp+=j.strip()+\" \" #\" abc \".strip() will return \"abc\", remove the trailing spaces\n",
    "        temp = temp.replace('&','_') # we are replacing the & value into \n",
    "    cat_list.append(temp.strip())\n",
    "    \n",
    "X_Train['clean_categories'] = cat_list\n",
    "X_Train.drop(['project_subject_categories'], axis=1, inplace=True)\n",
    "\n",
    "from collections import Counter\n",
    "my_counter = Counter()\n",
    "for word in X_Train['clean_categories'].values:\n",
    "    my_counter.update(word.split())\n",
    "\n",
    "cat_dict = dict(my_counter)\n",
    "sorted_cat_dict_Train = dict(sorted(cat_dict.items(), key=lambda kv: kv[1]))\n",
    "print(len(sorted_cat_dict_Train))\n",
    "#****************************************************************CV Data********************************************************************************************\n",
    "catogories = list(X_CV['project_subject_categories'].values)\n",
    "cat_list = []\n",
    "for i in catogories:\n",
    "    temp = \"\"\n",
    "    # consider we have text like this \"Math & Science, Warmth, Care & Hunger\"\n",
    "    for j in i.split(','): # it will split it in three parts [\"Math & Science\", \"Warmth\", \"Care & Hunger\"]\n",
    "        if 'The' in j.split(): # this will split each of the catogory based on space \"Math & Science\"=> \"Math\",\"&\", \"Science\"\n",
    "            j=j.replace('The','') # if we have the words \"The\" we are going to replace it with ''(i.e removing 'The')\n",
    "        j = j.replace(' ','') # we are placeing all the ' '(space) with ''(empty) ex:\"Math & Science\"=>\"Math&Science\"\n",
    "        temp+=j.strip()+\" \" #\" abc \".strip() will return \"abc\", remove the trailing spaces\n",
    "        temp = temp.replace('&','_') # we are replacing the & value into \n",
    "    cat_list.append(temp.strip())\n",
    "    \n",
    "X_CV['clean_categories'] = cat_list\n",
    "X_CV.drop(['project_subject_categories'], axis=1, inplace=True)\n",
    "\n",
    "#****************************************************************Test Data********************************************************************************************\n",
    "catogories = list(X_Test['project_subject_categories'].values)\n",
    "cat_list = []\n",
    "for i in catogories:\n",
    "    temp = \"\"\n",
    "    # consider we have text like this \"Math & Science, Warmth, Care & Hunger\"\n",
    "    for j in i.split(','): # it will split it in three parts [\"Math & Science\", \"Warmth\", \"Care & Hunger\"]\n",
    "        if 'The' in j.split(): # this will split each of the catogory based on space \"Math & Science\"=> \"Math\",\"&\", \"Science\"\n",
    "            j=j.replace('The','') # if we have the words \"The\" we are going to replace it with ''(i.e removing 'The')\n",
    "        j = j.replace(' ','') # we are placeing all the ' '(space) with ''(empty) ex:\"Math & Science\"=>\"Math&Science\"\n",
    "        temp+=j.strip()+\" \" #\" abc \".strip() will return \"abc\", remove the trailing spaces\n",
    "        temp = temp.replace('&','_') # we are replacing the & value into \n",
    "    cat_list.append(temp.strip())\n",
    "    \n",
    "X_Test['clean_categories'] = cat_list\n",
    "X_Test.drop(['project_subject_categories'], axis=1, inplace=True)\n"
   ]
  },
  {
   "cell_type": "markdown",
   "metadata": {
    "colab_type": "text",
    "id": "386yx3T2Cymv"
   },
   "source": [
    "## 1.3 preprocessing of `project_subject_subcategories`"
   ]
  },
  {
   "cell_type": "code",
   "execution_count": 0,
   "metadata": {
    "colab": {
     "base_uri": "https://localhost:8080/",
     "height": 34
    },
    "colab_type": "code",
    "executionInfo": {
     "elapsed": 58134,
     "status": "ok",
     "timestamp": 1574831746245,
     "user": {
      "displayName": "Santhosh Kumar",
      "photoUrl": "https://lh3.googleusercontent.com/a-/AAuE7mCRlaOX8dDmFuSGPHMZtyYyi8ks0uwyxMgvosSa=s64",
      "userId": "02443764688110331515"
     },
     "user_tz": -330
    },
    "id": "4QSP0r8XCymw",
    "outputId": "d91e9a33-8726-4aae-ad45-6ca2e6b4eea6"
   },
   "outputs": [
    {
     "name": "stdout",
     "output_type": "stream",
     "text": [
      "30\n"
     ]
    }
   ],
   "source": [
    "# remove special characters from list of strings python: https://stackoverflow.com/a/47301924/4084039\n",
    "\n",
    "# https://www.geeksforgeeks.org/removing-stop-words-nltk-python/\n",
    "# https://stackoverflow.com/questions/23669024/how-to-strip-a-specific-word-from-a-string\n",
    "# https://stackoverflow.com/questions/8270092/remove-all-whitespace-in-a-string-in-python\n",
    "#****************************************************************Train Data********************************************************************************************\n",
    "sub_catogories = list(X_Train['project_subject_subcategories'].values)\n",
    "sub_cat_list = []\n",
    "for i in sub_catogories:\n",
    "    temp = \"\"\n",
    "    # consider we have text like this \"Math & Science, Warmth, Care & Hunger\"\n",
    "    for j in i.split(','): # it will split it in three parts [\"Math & Science\", \"Warmth\", \"Care & Hunger\"]\n",
    "        if 'The' in j.split(): # this will split each of the catogory based on space \"Math & Science\"=> \"Math\",\"&\", \"Science\"\n",
    "            j=j.replace('The','') # if we have the words \"The\" we are going to replace it with ''(i.e removing 'The')\n",
    "        j = j.replace(' ','') # we are placeing all the ' '(space) with ''(empty) ex:\"Math & Science\"=>\"Math&Science\"\n",
    "        temp +=j.strip()+\" \"#\" abc \".strip() will return \"abc\", remove the trailing spaces\n",
    "        temp = temp.replace('&','_')\n",
    "    sub_cat_list.append(temp.strip())\n",
    "\n",
    "X_Train['clean_subcategories'] = sub_cat_list\n",
    "X_Train.drop(['project_subject_subcategories'], axis=1, inplace=True)\n",
    "\n",
    "# count of all the words in corpus python: https://stackoverflow.com/a/22898595/4084039\n",
    "my_counter = Counter()\n",
    "for word in X_Train['clean_subcategories'].values:\n",
    "    my_counter.update(word.split())\n",
    "    \n",
    "sub_cat_dict = dict(my_counter)\n",
    "sorted_sub_cat_dict_Train = dict(sorted(sub_cat_dict.items(), key=lambda kv: kv[1]))\n",
    "print(len(sorted_sub_cat_dict_Train))\n",
    "#****************************************************************CV Data********************************************************************************************\n",
    "sub_catogories = list(X_CV['project_subject_subcategories'].values)\n",
    "sub_cat_list = []\n",
    "for i in sub_catogories:\n",
    "    temp = \"\"\n",
    "    # consider we have text like this \"Math & Science, Warmth, Care & Hunger\"\n",
    "    for j in i.split(','): # it will split it in three parts [\"Math & Science\", \"Warmth\", \"Care & Hunger\"]\n",
    "        if 'The' in j.split(): # this will split each of the catogory based on space \"Math & Science\"=> \"Math\",\"&\", \"Science\"\n",
    "            j=j.replace('The','') # if we have the words \"The\" we are going to replace it with ''(i.e removing 'The')\n",
    "        j = j.replace(' ','') # we are placeing all the ' '(space) with ''(empty) ex:\"Math & Science\"=>\"Math&Science\"\n",
    "        temp +=j.strip()+\" \"#\" abc \".strip() will return \"abc\", remove the trailing spaces\n",
    "        temp = temp.replace('&','_')\n",
    "    sub_cat_list.append(temp.strip())\n",
    "\n",
    "X_CV['clean_subcategories'] = sub_cat_list\n",
    "X_CV.drop(['project_subject_subcategories'], axis=1, inplace=True)\n",
    "\n",
    "#****************************************************************Test Data********************************************************************************************\n",
    "sub_catogories = list(X_Test['project_subject_subcategories'].values)\n",
    "sub_cat_list = []\n",
    "for i in sub_catogories:\n",
    "    temp = \"\"\n",
    "    # consider we have text like this \"Math & Science, Warmth, Care & Hunger\"\n",
    "    for j in i.split(','): # it will split it in three parts [\"Math & Science\", \"Warmth\", \"Care & Hunger\"]\n",
    "        if 'The' in j.split(): # this will split each of the catogory based on space \"Math & Science\"=> \"Math\",\"&\", \"Science\"\n",
    "            j=j.replace('The','') # if we have the words \"The\" we are going to replace it with ''(i.e removing 'The')\n",
    "        j = j.replace(' ','') # we are placeing all the ' '(space) with ''(empty) ex:\"Math & Science\"=>\"Math&Science\"\n",
    "        temp +=j.strip()+\" \"#\" abc \".strip() will return \"abc\", remove the trailing spaces\n",
    "        temp = temp.replace('&','_')\n",
    "    sub_cat_list.append(temp.strip())\n",
    "\n",
    "X_Test['clean_subcategories'] = sub_cat_list\n",
    "X_Test.drop(['project_subject_subcategories'], axis=1, inplace=True)"
   ]
  },
  {
   "cell_type": "markdown",
   "metadata": {
    "colab_type": "text",
    "id": "NANzhWlLCynN"
   },
   "source": [
    "## 1.3 Text preprocessing"
   ]
  },
  {
   "cell_type": "code",
   "execution_count": 0,
   "metadata": {
    "colab": {},
    "colab_type": "code",
    "id": "yqsmu-BTCynQ"
   },
   "outputs": [],
   "source": [
    "# merge two column text dataframe: \n",
    "X_Train[\"essay\"] = X_Train[\"project_essay_1\"].map(str) +\\\n",
    "                        X_Train[\"project_essay_2\"].map(str) + \\\n",
    "                        X_Train[\"project_essay_3\"].map(str) + \\\n",
    "                        X_Train[\"project_essay_4\"].map(str)\n",
    "\n",
    "X_CV[\"essay\"] = X_CV[\"project_essay_1\"].map(str) +\\\n",
    "                        X_CV[\"project_essay_2\"].map(str) + \\\n",
    "                        X_CV[\"project_essay_3\"].map(str) + \\\n",
    "                        X_CV[\"project_essay_4\"].map(str)\n",
    "\n",
    "X_Test[\"essay\"] = X_Test[\"project_essay_1\"].map(str) +\\\n",
    "                        X_Test[\"project_essay_2\"].map(str) + \\\n",
    "                        X_Test[\"project_essay_3\"].map(str) + \\\n",
    "                        X_Test[\"project_essay_4\"].map(str)"
   ]
  },
  {
   "cell_type": "code",
   "execution_count": 0,
   "metadata": {
    "colab": {},
    "colab_type": "code",
    "id": "Yqj4vGVoCynh"
   },
   "outputs": [],
   "source": [
    "# https://stackoverflow.com/a/47091490/4084039\n",
    "import re\n",
    "\n",
    "def decontracted(phrase):\n",
    "    # specific\n",
    "    phrase = re.sub(r\"won't\", \"will not\", phrase)\n",
    "    phrase = re.sub(r\"can\\'t\", \"can not\", phrase)\n",
    "    # general\n",
    "    phrase = re.sub(r\"n\\'t\", \" not\", phrase)\n",
    "    phrase = re.sub(r\"\\'re\", \" are\", phrase)\n",
    "    phrase = re.sub(r\"\\'s\", \" is\", phrase)\n",
    "    phrase = re.sub(r\"\\'d\", \" would\", phrase)\n",
    "    phrase = re.sub(r\"\\'ll\", \" will\", phrase)\n",
    "    phrase = re.sub(r\"\\'t\", \" not\", phrase)\n",
    "    phrase = re.sub(r\"\\'ve\", \" have\", phrase)\n",
    "    phrase = re.sub(r\"\\'m\", \" am\", phrase)\n",
    "    return phrase"
   ]
  },
  {
   "cell_type": "code",
   "execution_count": 0,
   "metadata": {
    "colab": {},
    "colab_type": "code",
    "id": "hhyPw-8wCyny"
   },
   "outputs": [],
   "source": [
    "# https://gist.github.com/sebleier/554280\n",
    "# we are removing the words from the stop words list: 'no', 'nor', 'not'\n",
    "stopwords = ['i', 'me', 'my', 'myself', 'we', 'our', 'ours', 'ourselves', 'you', \"you're\", \"you've\",\\\n",
    "            \"you'll\", \"you'd\", 'your', 'yours', 'yourself', 'yourselves', 'he', 'him', 'his', 'himself', \\\n",
    "            'she', \"she's\", 'her', 'hers', 'herself', 'it', \"it's\", 'its', 'itself', 'they', 'them', 'their',\\\n",
    "            'theirs', 'themselves', 'what', 'which', 'who', 'whom', 'this', 'that', \"that'll\", 'these', 'those', \\\n",
    "            'am', 'is', 'are', 'was', 'were', 'be', 'been', 'being', 'have', 'has', 'had', 'having', 'do', 'does', \\\n",
    "            'did', 'doing', 'a', 'an', 'the', 'and', 'but', 'if', 'or', 'because', 'as', 'until', 'while', 'of', \\\n",
    "            'at', 'by', 'for', 'with', 'about', 'against', 'between', 'into', 'through', 'during', 'before', 'after',\\\n",
    "            'above', 'below', 'to', 'from', 'up', 'down', 'in', 'out', 'on', 'off', 'over', 'under', 'again', 'further',\\\n",
    "            'then', 'once', 'here', 'there', 'when', 'where', 'why', 'how', 'all', 'any', 'both', 'each', 'few', 'more',\\\n",
    "            'most', 'other', 'some', 'such', 'only', 'own', 'same', 'so', 'than', 'too', 'very', \\\n",
    "            's', 't', 'can', 'will', 'just', 'don', \"don't\", 'should', \"should've\", 'now', 'd', 'll', 'm', 'o', 're', \\\n",
    "            've', 'y', 'ain', 'aren', \"aren't\", 'couldn', \"couldn't\", 'didn', \"didn't\", 'doesn', \"doesn't\", 'hadn',\\\n",
    "            \"hadn't\", 'hasn', \"hasn't\", 'haven', \"haven't\", 'isn', \"isn't\", 'ma', 'mightn', \"mightn't\", 'mustn',\\\n",
    "            \"mustn't\", 'needn', \"needn't\", 'shan', \"shan't\", 'shouldn', \"shouldn't\", 'wasn', \"wasn't\", 'weren', \"weren't\", \\\n",
    "            'won', \"won't\", 'wouldn', \"wouldn't\"]"
   ]
  },
  {
   "cell_type": "code",
   "execution_count": 0,
   "metadata": {
    "colab": {
     "base_uri": "https://localhost:8080/",
     "height": 68
    },
    "colab_type": "code",
    "executionInfo": {
     "elapsed": 114501,
     "status": "ok",
     "timestamp": 1574831802730,
     "user": {
      "displayName": "Santhosh Kumar",
      "photoUrl": "https://lh3.googleusercontent.com/a-/AAuE7mCRlaOX8dDmFuSGPHMZtyYyi8ks0uwyxMgvosSa=s64",
      "userId": "02443764688110331515"
     },
     "user_tz": -330
    },
    "id": "3LtS9vU9-aGd",
    "outputId": "82e4ca46-e02e-49c9-df5b-d793bf530e27"
   },
   "outputs": [
    {
     "name": "stderr",
     "output_type": "stream",
     "text": [
      "100%|██████████| 49041/49041 [00:25<00:00, 1955.95it/s]\n",
      "100%|██████████| 24155/24155 [00:12<00:00, 1946.96it/s]\n",
      "100%|██████████| 36052/36052 [00:18<00:00, 1947.68it/s]\n"
     ]
    }
   ],
   "source": [
    "# Combining all the above stundents \n",
    "# tqdm is for printing the status bar\n",
    "\n",
    "#----------------------------------PreProcessing of Essays in Train data set------------------------------------------------\n",
    "preprocessed_essays_Train = []\n",
    "for sentance in tqdm(X_Train['essay'].values):\n",
    "    sent = decontracted(sentance)\n",
    "    sent = sent.replace('\\\\r', ' ')\n",
    "    sent = sent.replace('\\\\\"', ' ')\n",
    "    sent = sent.replace('\\\\n', ' ')\n",
    "    sent = re.sub('[^A-Za-z0-9]+', ' ', sent)\n",
    "    # https://gist.github.com/sebleier/554280\n",
    "    sent = ' '.join(e for e in sent.split() if e.lower() not in stopwords)\n",
    "    preprocessed_essays_Train.append(sent.lower().strip())\n",
    "# pdb.set_trace()\n",
    "\n",
    "#----------------------------------PreProcessing of Essays in CV data set---------------------------------------------------\n",
    "preprocessed_essays_CV = []\n",
    "for sentance in tqdm(X_CV['essay'].values):\n",
    "    sent = decontracted(sentance)\n",
    "    sent = sent.replace('\\\\r', ' ')\n",
    "    sent = sent.replace('\\\\\"', ' ')\n",
    "    sent = sent.replace('\\\\n', ' ')\n",
    "    sent = re.sub('[^A-Za-z0-9]+', ' ', sent)\n",
    "    # https://gist.github.com/sebleier/554280\n",
    "    sent = ' '.join(e for e in sent.split() if e.lower() not in stopwords)\n",
    "    preprocessed_essays_CV.append(sent.lower().strip())\n",
    "# pdb.set_trace()\n",
    "\n",
    "#----------------------------------PreProcessing of Essays in Test data set--------------------------------------------------\n",
    "preprocessed_essays_Test = []\n",
    "for sentance in tqdm(X_Test['essay'].values):\n",
    "    sent = decontracted(sentance)\n",
    "    sent = sent.replace('\\\\r', ' ')\n",
    "    sent = sent.replace('\\\\\"', ' ')\n",
    "    sent = sent.replace('\\\\n', ' ')\n",
    "    sent = re.sub('[^A-Za-z0-9]+', ' ', sent)\n",
    "    # https://gist.github.com/sebleier/554280\n",
    "    sent = ' '.join(e for e in sent.split() if e.lower() not in stopwords)\n",
    "    preprocessed_essays_Test.append(sent.lower().strip())\n",
    "# pdb.set_trace()"
   ]
  },
  {
   "cell_type": "code",
   "execution_count": 0,
   "metadata": {
    "colab": {
     "base_uri": "https://localhost:8080/",
     "height": 68
    },
    "colab_type": "code",
    "executionInfo": {
     "elapsed": 117220,
     "status": "ok",
     "timestamp": 1574831805488,
     "user": {
      "displayName": "Santhosh Kumar",
      "photoUrl": "https://lh3.googleusercontent.com/a-/AAuE7mCRlaOX8dDmFuSGPHMZtyYyi8ks0uwyxMgvosSa=s64",
      "userId": "02443764688110331515"
     },
     "user_tz": -330
    },
    "id": "15kCkfATNxsB",
    "outputId": "58cacfab-b0ab-41cc-886f-03a9b5659de5"
   },
   "outputs": [
    {
     "name": "stderr",
     "output_type": "stream",
     "text": [
      "100%|██████████| 49041/49041 [00:00<00:00, 60905.74it/s]\n",
      "100%|██████████| 24155/24155 [00:00<00:00, 61626.91it/s]\n",
      "100%|██████████| 36052/36052 [00:00<00:00, 64253.97it/s]\n"
     ]
    }
   ],
   "source": [
    "word_count_essay_Train = []\n",
    "for a in tqdm(X_Train[\"essay\"]) :\n",
    "    b = len(a.split())\n",
    "    word_count_essay_Train.append(b)\n",
    "\n",
    "X_Train[\"word_count_essay_Train\"] = word_count_essay_Train\n",
    "\n",
    "word_count_essay_CV = []\n",
    "for a in tqdm(X_CV[\"essay\"]) :\n",
    "    b = len(a.split())\n",
    "    word_count_essay_CV.append(b)\n",
    "\n",
    "X_CV[\"word_count_essay_CV\"] = word_count_essay_CV\n",
    "\n",
    "word_count_essay_Test = []\n",
    "for a in tqdm(X_Test[\"essay\"]) :\n",
    "    b = len(a.split())\n",
    "    word_count_essay_Test.append(b)\n",
    "\n",
    "X_Test[\"word_count_essay_Test\"] = word_count_essay_Test"
   ]
  },
  {
   "cell_type": "markdown",
   "metadata": {
    "colab_type": "text",
    "id": "QeUw6WMKCyn7"
   },
   "source": [
    "<h2><font color='red'> 1.4 Preprocessing of `project_title`</font></h2>"
   ]
  },
  {
   "cell_type": "code",
   "execution_count": 0,
   "metadata": {
    "colab": {
     "base_uri": "https://localhost:8080/",
     "height": 68
    },
    "colab_type": "code",
    "executionInfo": {
     "elapsed": 119005,
     "status": "ok",
     "timestamp": 1574831807316,
     "user": {
      "displayName": "Santhosh Kumar",
      "photoUrl": "https://lh3.googleusercontent.com/a-/AAuE7mCRlaOX8dDmFuSGPHMZtyYyi8ks0uwyxMgvosSa=s64",
      "userId": "02443764688110331515"
     },
     "user_tz": -330
    },
    "id": "Ql9ttfW3Cyn7",
    "outputId": "c0a08a05-831d-4223-a808-fc864459e520"
   },
   "outputs": [
    {
     "name": "stderr",
     "output_type": "stream",
     "text": [
      "100%|██████████| 49041/49041 [00:01<00:00, 41782.89it/s]\n",
      "100%|██████████| 24155/24155 [00:00<00:00, 41483.84it/s]\n",
      "100%|██████████| 36052/36052 [00:00<00:00, 42899.12it/s]\n"
     ]
    }
   ],
   "source": [
    "# Combining all the above stundents \n",
    "# tqdm is for printing the status bar\n",
    "\n",
    "#----------------------------------PreProcessing of Project Title in Train data set-----------------------------------------\n",
    "preprocessed_titles_Train = []\n",
    "for sentance in tqdm(X_Train['project_title'].values):\n",
    "    sent = decontracted(sentance)\n",
    "    sent = sent.replace('\\\\r', ' ')\n",
    "    sent = sent.replace('\\\\\"', ' ')\n",
    "    sent = sent.replace('\\\\n', ' ')\n",
    "    sent = re.sub('[^A-Za-z0-9]+', ' ', sent)\n",
    "    # https://gist.github.com/sebleier/554280\n",
    "    sent = ' '.join(e for e in sent.split() if e not in stopwords)\n",
    "    preprocessed_titles_Train.append(sent.lower().strip())\n",
    "# pdb.set_trace()\n",
    "\n",
    "#----------------------------------PreProcessing of Project Title in CV data set--------------------------------------------\n",
    "preprocessed_titles_CV = []\n",
    "for sentance in tqdm(X_CV['project_title'].values):\n",
    "    sent = decontracted(sentance)\n",
    "    sent = sent.replace('\\\\r', ' ')\n",
    "    sent = sent.replace('\\\\\"', ' ')\n",
    "    sent = sent.replace('\\\\n', ' ')\n",
    "    sent = re.sub('[^A-Za-z0-9]+', ' ', sent)\n",
    "    # https://gist.github.com/sebleier/554280\n",
    "    sent = ' '.join(e for e in sent.split() if e not in stopwords)\n",
    "    preprocessed_titles_CV.append(sent.lower().strip())\n",
    "# pdb.set_trace()\n",
    "\n",
    "#----------------------------------PreProcessing of Project Title in Test data set------------------------------------------\n",
    "preprocessed_titles_Test = []\n",
    "for sentance in tqdm(X_Test['project_title'].values):\n",
    "    sent = decontracted(sentance)\n",
    "    sent = sent.replace('\\\\r', ' ')\n",
    "    sent = sent.replace('\\\\\"', ' ')\n",
    "    sent = sent.replace('\\\\n', ' ')\n",
    "    sent = re.sub('[^A-Za-z0-9]+', ' ', sent)\n",
    "    # https://gist.github.com/sebleier/554280\n",
    "    sent = ' '.join(e for e in sent.split() if e not in stopwords)\n",
    "    preprocessed_titles_Test.append(sent.lower().strip())\n",
    "# pdb.set_trace()"
   ]
  },
  {
   "cell_type": "code",
   "execution_count": 0,
   "metadata": {
    "colab": {
     "base_uri": "https://localhost:8080/",
     "height": 68
    },
    "colab_type": "code",
    "executionInfo": {
     "elapsed": 119400,
     "status": "ok",
     "timestamp": 1574831807741,
     "user": {
      "displayName": "Santhosh Kumar",
      "photoUrl": "https://lh3.googleusercontent.com/a-/AAuE7mCRlaOX8dDmFuSGPHMZtyYyi8ks0uwyxMgvosSa=s64",
      "userId": "02443764688110331515"
     },
     "user_tz": -330
    },
    "id": "VqRM_z71NxsJ",
    "outputId": "9a5477d4-6dfc-4e38-97b3-e2bb2c175c7f"
   },
   "outputs": [
    {
     "name": "stderr",
     "output_type": "stream",
     "text": [
      "100%|██████████| 49041/49041 [00:00<00:00, 734072.06it/s]\n",
      "100%|██████████| 24155/24155 [00:00<00:00, 865490.16it/s]\n",
      "100%|██████████| 36052/36052 [00:00<00:00, 892691.70it/s]\n"
     ]
    }
   ],
   "source": [
    "word_count_title_Train = []\n",
    "for a in tqdm(X_Train[\"project_title\"]) :\n",
    "    b = len(a.split())\n",
    "    word_count_title_Train.append(b)\n",
    "\n",
    "X_Train[\"word_count_title_Train\"] = word_count_title_Train\n",
    "\n",
    "word_count_title_CV = []\n",
    "for a in tqdm(X_CV[\"project_title\"]) :\n",
    "    b = len(a.split())\n",
    "    word_count_title_CV.append(b)\n",
    "\n",
    "X_CV[\"word_count_title_CV\"] = word_count_title_CV\n",
    "\n",
    "word_count_title_Test = []\n",
    "for a in tqdm(X_Test[\"project_title\"]) :\n",
    "    b = len(a.split())\n",
    "    word_count_title_Test.append(b)\n",
    "\n",
    "X_Test[\"word_count_title_Test\"] = word_count_title_Test"
   ]
  },
  {
   "cell_type": "markdown",
   "metadata": {
    "colab_type": "text",
    "id": "NQg4ZfFtCyn9"
   },
   "source": [
    "## 1.5 Preparing data for models"
   ]
  },
  {
   "cell_type": "markdown",
   "metadata": {
    "colab_type": "text",
    "id": "0d0QeeQ-CyoD"
   },
   "source": [
    "### 1.5.1 Vectorizing Categorical data"
   ]
  },
  {
   "cell_type": "markdown",
   "metadata": {
    "colab_type": "text",
    "id": "kFZFSOirCyoD"
   },
   "source": [
    "- https://www.appliedaicourse.com/course/applied-ai-course-online/lessons/handling-categorical-and-numerical-features/"
   ]
  },
  {
   "cell_type": "code",
   "execution_count": 0,
   "metadata": {
    "colab": {
     "base_uri": "https://localhost:8080/",
     "height": 102
    },
    "colab_type": "code",
    "executionInfo": {
     "elapsed": 120631,
     "status": "ok",
     "timestamp": 1574831809006,
     "user": {
      "displayName": "Santhosh Kumar",
      "photoUrl": "https://lh3.googleusercontent.com/a-/AAuE7mCRlaOX8dDmFuSGPHMZtyYyi8ks0uwyxMgvosSa=s64",
      "userId": "02443764688110331515"
     },
     "user_tz": -330
    },
    "id": "_5mt7VMXCyoF",
    "outputId": "e7db1475-34ff-4757-d249-5b3ebe299c4c"
   },
   "outputs": [
    {
     "name": "stdout",
     "output_type": "stream",
     "text": [
      "['Warmth', 'Care_Hunger', 'History_Civics', 'Music_Arts', 'AppliedLearning', 'SpecialNeeds', 'Health_Sports', 'Math_Science', 'Literacy_Language']\n",
      "------------------------------------------------------------------------------------------------------------------------\n",
      "Shape of Train dataset matrix after one hot encoding is: (49041, 9)\n",
      "Shape of CV dataset matrix after one hot encoding is: (24155, 9)\n",
      "Shape of Test dataset matrix after one hot encoding is: (36052, 9)\n"
     ]
    }
   ],
   "source": [
    "#-------------------------Vectorizing categorical data for Train,CV and Test------------------------------------------------\n",
    "\n",
    "# we use count vectorizer to convert the values into one hot encoding\n",
    "vectorizer_cat = CountVectorizer(vocabulary=list(sorted_cat_dict_Train.keys()), lowercase=False, binary=True)\n",
    "vectorizer_cat.fit(X_Train['clean_categories'].values)\n",
    "categories_one_hot_Train = vectorizer_cat.transform(X_Train['clean_categories'].values)\n",
    "categories_one_hot_CV = vectorizer_cat.transform(X_CV['clean_categories'].values)\n",
    "categories_one_hot_Test = vectorizer_cat.transform(X_Test['clean_categories'].values)\n",
    "print(vectorizer_cat.get_feature_names())\n",
    "print(\"-\"*120)\n",
    "print('Shape of Train dataset matrix after one hot encoding is: {0}'.format(categories_one_hot_Train.shape))\n",
    "print('Shape of CV dataset matrix after one hot encoding is: {0}'.format(categories_one_hot_CV.shape))\n",
    "print('Shape of Test dataset matrix after one hot encoding is: {0}'.format(categories_one_hot_Test.shape))"
   ]
  },
  {
   "cell_type": "code",
   "execution_count": 0,
   "metadata": {
    "colab": {
     "base_uri": "https://localhost:8080/",
     "height": 122
    },
    "colab_type": "code",
    "executionInfo": {
     "elapsed": 120569,
     "status": "ok",
     "timestamp": 1574831809008,
     "user": {
      "displayName": "Santhosh Kumar",
      "photoUrl": "https://lh3.googleusercontent.com/a-/AAuE7mCRlaOX8dDmFuSGPHMZtyYyi8ks0uwyxMgvosSa=s64",
      "userId": "02443764688110331515"
     },
     "user_tz": -330
    },
    "id": "npr7SzACCyoH",
    "outputId": "e2b6d282-317e-4a74-c0c6-bf2a8466b7be"
   },
   "outputs": [
    {
     "name": "stdout",
     "output_type": "stream",
     "text": [
      "['Economics', 'CommunityService', 'FinancialLiteracy', 'ParentInvolvement', 'Extracurricular', 'Civics_Government', 'ForeignLanguages', 'Warmth', 'Care_Hunger', 'NutritionEducation', 'SocialSciences', 'PerformingArts', 'CharacterEducation', 'TeamSports', 'Other', 'College_CareerPrep', 'Music', 'History_Geography', 'EarlyDevelopment', 'Health_LifeScience', 'ESL', 'Gym_Fitness', 'EnvironmentalScience', 'VisualArts', 'Health_Wellness', 'AppliedSciences', 'SpecialNeeds', 'Literature_Writing', 'Mathematics', 'Literacy']\n",
      "------------------------------------------------------------------------------------------------------------------------\n",
      "Shape of Train dataset matrix after one hot encoding is: (49041, 30)\n",
      "Shape of CV dataset matrix after one hot encoding is: (24155, 30)\n",
      "Shape of Test dataset matrix after one hot encoding is: (36052, 30)\n"
     ]
    }
   ],
   "source": [
    "#-------------------------Vectorizing Sub categorical data for Train,CV and Test------------------------------------------------\n",
    "\n",
    "# we use count vectorizer to convert the values into one hot encoding\n",
    "vectorizer_sub_cat = CountVectorizer(vocabulary=list(sorted_sub_cat_dict_Train.keys()), lowercase=False, binary=True)\n",
    "vectorizer_sub_cat.fit(X_Train['clean_categories'].values)\n",
    "sub_categories_one_hot_Train = vectorizer_sub_cat.transform(X_Train['clean_subcategories'].values)\n",
    "sub_categories_one_hot_CV = vectorizer_sub_cat.transform(X_CV['clean_subcategories'].values)\n",
    "sub_categories_one_hot_Test = vectorizer_sub_cat.transform(X_Test['clean_subcategories'].values)\n",
    "print(vectorizer_sub_cat.get_feature_names())\n",
    "print(\"-\"*120)\n",
    "print('Shape of Train dataset matrix after one hot encoding is: {0}'.format(sub_categories_one_hot_Train.shape))\n",
    "print('Shape of CV dataset matrix after one hot encoding is: {0}'.format(sub_categories_one_hot_CV.shape))\n",
    "print('Shape of Test dataset matrix after one hot encoding is: {0}'.format(sub_categories_one_hot_Test.shape))"
   ]
  },
  {
   "cell_type": "markdown",
   "metadata": {
    "colab_type": "text",
    "id": "nTUTds5P-aGs"
   },
   "source": [
    "**School State**"
   ]
  },
  {
   "cell_type": "code",
   "execution_count": 0,
   "metadata": {
    "colab": {
     "base_uri": "https://localhost:8080/",
     "height": 85
    },
    "colab_type": "code",
    "executionInfo": {
     "elapsed": 120909,
     "status": "ok",
     "timestamp": 1574831809391,
     "user": {
      "displayName": "Santhosh Kumar",
      "photoUrl": "https://lh3.googleusercontent.com/a-/AAuE7mCRlaOX8dDmFuSGPHMZtyYyi8ks0uwyxMgvosSa=s64",
      "userId": "02443764688110331515"
     },
     "user_tz": -330
    },
    "id": "0ecQOf-JCyoL",
    "outputId": "b30a04b8-7792-46c0-ea85-6a8c4fc48d30"
   },
   "outputs": [
    {
     "name": "stdout",
     "output_type": "stream",
     "text": [
      "------------------------------------------------------------------------------------------------------------------------\n",
      "Shape of Train dataset matrix after one hot encoding is: (49041, 51)\n",
      "Shape of CV dataset matrix after one hot encoding is: (24155, 51)\n",
      "Shape of Test dataset matrix after one hot encoding is: (36052, 51)\n"
     ]
    }
   ],
   "source": [
    "#-------------------------Vectorizing categorical data of School state for Train dataset-------------------------------------\n",
    "\n",
    "school_catogories_Train = list(X_Train['school_state'].values)\n",
    "school_list_Train = []\n",
    "for sent in school_catogories_Train:\n",
    "    school_list_Train.append(sent.lower().strip())\n",
    "X_Train['school_categories'] = school_list_Train\n",
    "X_Train.drop(['school_state'], axis=1, inplace=True)\n",
    "\n",
    "# count of all the words in corpus python: https://stackoverflow.com/a/22898595/4084039\n",
    "my_counter_school_Train = Counter()\n",
    "for word in X_Train['school_categories'].values:\n",
    "    my_counter_school_Train.update(word.split())\n",
    "\n",
    "# dict sort by value python: https://stackoverflow.com/a/613218/4084039\n",
    "school_dict_Train = dict(my_counter_school_Train)\n",
    "sorted_school_dict_Train = dict(sorted(school_dict_Train.items(), key=lambda kv: kv[1]))\n",
    "\n",
    "vectorizer_school = CountVectorizer(vocabulary=list(sorted_school_dict_Train.keys()), lowercase=False, binary=True)\n",
    "vectorizer_school.fit(X_Train['school_categories'].values)\n",
    "#print(vectorizer.get_feature_names())\n",
    "\n",
    "school_one_hot_Train = vectorizer_school.transform(X_Train['school_categories'].values)\n",
    "\n",
    "#-------------------------Vectorizing categorical data of School state for CV dataset---------------------------------------\n",
    "\n",
    "school_catogories_CV = list(X_CV['school_state'].values)\n",
    "school_list_CV = []\n",
    "for sent in school_catogories_CV:\n",
    "    school_list_CV.append(sent.lower().strip())\n",
    "X_CV['school_categories'] = school_list_CV\n",
    "X_CV.drop(['school_state'], axis=1, inplace=True)\n",
    "\n",
    "# count of all the words in corpus python: https://stackoverflow.com/a/22898595/4084039\n",
    "my_counter_school_CV = Counter()\n",
    "for word in X_CV['school_categories'].values:\n",
    "    my_counter_school_CV.update(word.split())\n",
    "\n",
    "# dict sort by value python: https://stackoverflow.com/a/613218/4084039\n",
    "school_dict_CV = dict(my_counter_school_CV)\n",
    "sorted_school_dict_CV = dict(sorted(school_dict_CV.items(), key=lambda kv: kv[1]))\n",
    "school_one_hot_CV = vectorizer_school.transform(X_CV['school_categories'].values)\n",
    "\n",
    "#-------------------------Vectorizing categorical data of School state for Test dataset--------------------------------------\n",
    "\n",
    "school_catogories_Test = list(X_Test['school_state'].values)\n",
    "school_list_Test = []\n",
    "for sent in school_catogories_Test:\n",
    "    school_list_Test.append(sent.lower().strip())\n",
    "X_Test['school_categories'] = school_list_Test\n",
    "X_Test.drop(['school_state'], axis=1, inplace=True)\n",
    "\n",
    "# count of all the words in corpus python: https://stackoverflow.com/a/22898595/4084039\n",
    "my_counter_school_Test = Counter()\n",
    "for word in X_Test['school_categories'].values:\n",
    "    my_counter_school_Test.update(word.split())\n",
    "\n",
    "# dict sort by value python: https://stackoverflow.com/a/613218/4084039\n",
    "school_dict_Test = dict(my_counter_school_Test)\n",
    "sorted_school_dict_Test = dict(sorted(school_dict_Test.items(), key=lambda kv: kv[1]))\n",
    "school_one_hot_Test = vectorizer_school.transform(X_Test['school_categories'].values)\n",
    "print(\"-\"*120)\n",
    "print('Shape of Train dataset matrix after one hot encoding is: {0}'.format(school_one_hot_Train.shape))\n",
    "print('Shape of CV dataset matrix after one hot encoding is: {0}'.format(school_one_hot_CV.shape))\n",
    "print('Shape of Test dataset matrix after one hot encoding is: {0}'.format(school_one_hot_Test.shape))"
   ]
  },
  {
   "cell_type": "markdown",
   "metadata": {
    "colab_type": "text",
    "id": "a1wJsZ0q-aGw"
   },
   "source": [
    "**Prefix**"
   ]
  },
  {
   "cell_type": "code",
   "execution_count": 0,
   "metadata": {
    "colab": {
     "base_uri": "https://localhost:8080/",
     "height": 85
    },
    "colab_type": "code",
    "executionInfo": {
     "elapsed": 122611,
     "status": "ok",
     "timestamp": 1574831811120,
     "user": {
      "displayName": "Santhosh Kumar",
      "photoUrl": "https://lh3.googleusercontent.com/a-/AAuE7mCRlaOX8dDmFuSGPHMZtyYyi8ks0uwyxMgvosSa=s64",
      "userId": "02443764688110331515"
     },
     "user_tz": -330
    },
    "id": "mwn-LS8E-aGx",
    "outputId": "987ad848-6797-413d-ce55-8bd6c226008a"
   },
   "outputs": [
    {
     "name": "stdout",
     "output_type": "stream",
     "text": [
      "------------------------------------------------------------------------------------------------------------------------\n",
      "Shape of Train dataset matrix after one hot encoding is: (49041, 6)\n",
      "Shape of CV dataset matrix after one hot encoding is: (24155, 6)\n",
      "Shape of Test dataset matrix after one hot encoding is: (36052, 6)\n"
     ]
    }
   ],
   "source": [
    "#-------------------------Vectorizing categorical data of Teacher Prefix for Train dataset-------------------------------------\n",
    "\n",
    "# remove special characters from list of strings python: https://stackoverflow.com/a/47301924/4084039\n",
    "# https://www.geeksforgeeks.org/removing-stop-words-nltk-python/\n",
    "# https://stackoverflow.com/questions/23669024/how-to-strip-a-specific-word-from-a-string\n",
    "# https://stackoverflow.com/questions/8270092/remove-all-whitespace-in-a-string-in-python\n",
    "prefix_catogories_Train = list(X_Train['teacher_prefix'].values)\n",
    "prefix_list_Train = []\n",
    "for sent in prefix_catogories_Train:\n",
    "    sent = re.sub('[^A-Za-z0-9]+', ' ', str(sent))\n",
    "    # https://gist.github.com/sebleier/554280\n",
    "    sent = ' '.join(e for e in sent.split())\n",
    "    prefix_list_Train.append(sent.lower().strip())\n",
    "X_Train['prefix_catogories'] = prefix_list_Train\n",
    "X_Train.drop(['teacher_prefix'], axis=1, inplace=True)\n",
    "\n",
    "# count of all the words in corpus python: https://stackoverflow.com/a/22898595/4084039\n",
    "my_counter_prefix_Train = Counter()\n",
    "for word in X_Train['prefix_catogories'].values:\n",
    "    my_counter_prefix_Train.update(word.split())\n",
    "\n",
    "# dict sort by value python: https://stackoverflow.com/a/613218/4084039\n",
    "prefix_dict_Train = dict(my_counter_prefix_Train)\n",
    "sorted_prefix_dict_Train = dict(sorted(prefix_dict_Train.items(), key=lambda kv: kv[1]))\n",
    "\n",
    "\n",
    "vectorizer_prefix = CountVectorizer(vocabulary=list(sorted_prefix_dict_Train.keys()), lowercase=False, binary=True)\n",
    "vectorizer_prefix.fit(X_Train['prefix_catogories'].values)\n",
    "#print(vectorizer.get_feature_names())\n",
    "\n",
    "prefix_one_hot_Train = vectorizer_prefix.transform(X_Train['prefix_catogories'].values)\n",
    "#print(\"Shape of matrix after one hot encodig \",prefix_one_hot.shape)\n",
    "\n",
    "#-------------------------Vectorizing categorical data of Teacher Prefix for CV dataset---------------------------------------\n",
    "\n",
    "prefix_catogories_CV = list(X_CV['teacher_prefix'].values)\n",
    "prefix_list_CV = []\n",
    "for sent in prefix_catogories_CV:\n",
    "    sent = re.sub('[^A-Za-z0-9]+', ' ', str(sent))\n",
    "    # https://gist.github.com/sebleier/554280\n",
    "    sent = ' '.join(e for e in sent.split())\n",
    "    prefix_list_CV.append(sent.lower().strip())\n",
    "X_CV['prefix_catogories'] = prefix_list_CV\n",
    "X_CV.drop(['teacher_prefix'], axis=1, inplace=True)\n",
    "\n",
    "# count of all the words in corpus python: https://stackoverflow.com/a/22898595/4084039\n",
    "my_counter_prefix_CV = Counter()\n",
    "for word in X_CV['prefix_catogories'].values:\n",
    "    my_counter_prefix_CV.update(word.split())\n",
    "\n",
    "# dict sort by value python: https://stackoverflow.com/a/613218/4084039\n",
    "prefix_dict_CV = dict(my_counter_prefix_CV)\n",
    "sorted_prefix_dict_CV = dict(sorted(prefix_dict_CV.items(), key=lambda kv: kv[1]))\n",
    "prefix_one_hot_CV = vectorizer_prefix.transform(X_CV['prefix_catogories'].values)\n",
    "\n",
    "#-------------------------Vectorizing categorical data of Teacher Prefix for Test dataset-------------------------------------\n",
    "\n",
    "prefix_catogories_Test = list(X_Test['teacher_prefix'].values)\n",
    "prefix_list_Test = []\n",
    "for sent in prefix_catogories_Test:\n",
    "    sent = re.sub('[^A-Za-z0-9]+', ' ', str(sent))\n",
    "    # https://gist.github.com/sebleier/554280\n",
    "    sent = ' '.join(e for e in sent.split())\n",
    "    prefix_list_Test.append(sent.lower().strip())\n",
    "X_Test['prefix_catogories'] = prefix_list_Test\n",
    "X_Test.drop(['teacher_prefix'], axis=1, inplace=True)\n",
    "\n",
    "# count of all the words in corpus python: https://stackoverflow.com/a/22898595/4084039\n",
    "my_counter_prefix_Test = Counter()\n",
    "for word in X_Test['prefix_catogories'].values:\n",
    "    my_counter_prefix_Test.update(word.split())\n",
    "\n",
    "# dict sort by value python: https://stackoverflow.com/a/613218/4084039\n",
    "prefix_dict_Test = dict(my_counter_prefix_Test)\n",
    "sorted_prefix_dict_Test = dict(sorted(prefix_dict_Test.items(), key=lambda kv: kv[1]))\n",
    "prefix_one_hot_Test = vectorizer_prefix.transform(X_Test['prefix_catogories'].values)\n",
    "print(\"-\"*120)\n",
    "print('Shape of Train dataset matrix after one hot encoding is: {0}'.format(prefix_one_hot_Train.shape))\n",
    "print('Shape of CV dataset matrix after one hot encoding is: {0}'.format(prefix_one_hot_CV.shape))\n",
    "print('Shape of Test dataset matrix after one hot encoding is: {0}'.format(prefix_one_hot_Test.shape))"
   ]
  },
  {
   "cell_type": "markdown",
   "metadata": {
    "colab_type": "text",
    "id": "jI6l_2wt-aG4"
   },
   "source": [
    "**project_grade_category**"
   ]
  },
  {
   "cell_type": "code",
   "execution_count": 0,
   "metadata": {
    "colab": {
     "base_uri": "https://localhost:8080/",
     "height": 85
    },
    "colab_type": "code",
    "executionInfo": {
     "elapsed": 123918,
     "status": "ok",
     "timestamp": 1574831812456,
     "user": {
      "displayName": "Santhosh Kumar",
      "photoUrl": "https://lh3.googleusercontent.com/a-/AAuE7mCRlaOX8dDmFuSGPHMZtyYyi8ks0uwyxMgvosSa=s64",
      "userId": "02443764688110331515"
     },
     "user_tz": -330
    },
    "id": "7Z7dCeuL-aG_",
    "outputId": "837bd07e-8db2-415d-ac6e-8a41649bc5a7"
   },
   "outputs": [
    {
     "name": "stdout",
     "output_type": "stream",
     "text": [
      "------------------------------------------------------------------------------------------------------------------------\n",
      "Shape of Train dataset matrix after one hot encoding is: (49041, 4)\n",
      "Shape of CV dataset matrix after one hot encoding is: (24155, 4)\n",
      "Shape of Test dataset matrix after one hot encoding is: (36052, 4)\n"
     ]
    }
   ],
   "source": [
    "#-------------------------Vectorizing categorical data of Project Grade for Train dataset------------------------------------\n",
    "\n",
    "# remove special characters from list of strings python: https://stackoverflow.com/a/47301924/4084039\n",
    "# https://www.geeksforgeeks.org/removing-stop-words-nltk-python/\n",
    "# https://stackoverflow.com/questions/23669024/how-to-strip-a-specific-word-from-a-string\n",
    "# https://stackoverflow.com/questions/8270092/remove-all-whitespace-in-a-string-in-python\n",
    "grade_catogories_Train = list(X_Train['project_grade_category'].values)\n",
    "grade_list_Train = []\n",
    "for sent in grade_catogories_Train:\n",
    "    sent = sent.replace('-','_')\n",
    "    sent = sent.replace(' ','_')\n",
    "    # sent = re.sub('[^A-Za-z0-9]+', ' ', str(sent))\n",
    "    # https://gist.github.com/sebleier/554280\n",
    "    sent = ' '.join(e for e in sent.split())\n",
    "    grade_list_Train.append(sent.lower().strip())\n",
    "\n",
    "# temp = temp.replace('-','_')\n",
    "X_Train['new_grade_category'] = grade_list_Train\n",
    "X_Train.drop(['project_grade_category'], axis=1, inplace=True)\n",
    "\n",
    "# count of all the words in corpus python: https://stackoverflow.com/a/22898595/4084039\n",
    "my_counter_grade_Train = Counter()\n",
    "for word in X_Train['new_grade_category'].values:\n",
    "    my_counter_grade_Train.update(word.split())\n",
    "\n",
    "# dict sort by value python: https://stackoverflow.com/a/613218/4084039\n",
    "grade_dict_Train = dict(my_counter_grade_Train)\n",
    "sorted_grade_dict_Train = dict(sorted(grade_dict_Train.items(), key=lambda kv: kv[1]))\n",
    "\n",
    "vectorizer_grade = CountVectorizer(vocabulary=list(sorted_grade_dict_Train.keys()), lowercase=False, binary=True)\n",
    "vectorizer_grade.fit(X_Train['new_grade_category'].values)\n",
    "#print(vectorizer.get_feature_names())\n",
    "\n",
    "grade_one_hot_Train = vectorizer_grade.transform(X_Train['new_grade_category'].values)\n",
    "\n",
    "#-------------------------Vectorizing categorical data of Project Grade for CV dataset--------------------------------------\n",
    "\n",
    "grade_catogories_CV = list(X_CV['project_grade_category'].values)\n",
    "grade_list_CV = []\n",
    "for sent in grade_catogories_CV:\n",
    "    sent = sent.replace('-','_')\n",
    "    sent = sent.replace(' ','_')\n",
    "    # sent = re.sub('[^A-Za-z0-9]+', ' ', str(sent))\n",
    "    # https://gist.github.com/sebleier/554280\n",
    "    sent = ' '.join(e for e in sent.split())\n",
    "    grade_list_CV.append(sent.lower().strip())\n",
    "\n",
    "# temp = temp.replace('-','_')\n",
    "X_CV['new_grade_category'] = grade_list_CV\n",
    "X_CV.drop(['project_grade_category'], axis=1, inplace=True)\n",
    "\n",
    "# count of all the words in corpus python: https://stackoverflow.com/a/22898595/4084039\n",
    "my_counter_grade_CV = Counter()\n",
    "for word in X_CV['new_grade_category'].values:\n",
    "    my_counter_grade_CV.update(word.split())\n",
    "\n",
    "# dict sort by value python: https://stackoverflow.com/a/613218/4084039\n",
    "grade_dict_CV = dict(my_counter_grade_CV)\n",
    "sorted_grade_dict_CV = dict(sorted(grade_dict_CV.items(), key=lambda kv: kv[1]))\n",
    "\n",
    "grade_one_hot_CV = vectorizer_grade.transform(X_CV['new_grade_category'].values)\n",
    "\n",
    "#-------------------------Vectorizing categorical data of Project Grade for Train dataset-----------------------------------\n",
    "\n",
    "grade_catogories_Test = list(X_Test['project_grade_category'].values)\n",
    "grade_list_Test = []\n",
    "for sent in grade_catogories_Test:\n",
    "    sent = sent.replace('-','_')\n",
    "    sent = sent.replace(' ','_')\n",
    "    # sent = re.sub('[^A-Za-z0-9]+', ' ', str(sent))\n",
    "    # https://gist.github.com/sebleier/554280\n",
    "    sent = ' '.join(e for e in sent.split())\n",
    "    grade_list_Test.append(sent.lower().strip())\n",
    "\n",
    "# temp = temp.replace('-','_')\n",
    "X_Test['new_grade_category'] = grade_list_Test\n",
    "X_Test.drop(['project_grade_category'], axis=1, inplace=True)\n",
    "\n",
    "# count of all the words in corpus python: https://stackoverflow.com/a/22898595/4084039\n",
    "my_counter_grade_Test = Counter()\n",
    "for word in X_Test['new_grade_category'].values:\n",
    "    my_counter_grade_Test.update(word.split())\n",
    "\n",
    "# dict sort by value python: https://stackoverflow.com/a/613218/4084039\n",
    "grade_dict_Test = dict(my_counter_grade_Test)\n",
    "sorted_grade_dict_Test = dict(sorted(grade_dict_Test.items(), key=lambda kv: kv[1]))\n",
    "\n",
    "grade_one_hot_Test = vectorizer_grade.transform(X_Test['new_grade_category'].values)\n",
    "print(\"-\"*120)\n",
    "print('Shape of Train dataset matrix after one hot encoding is: {0}'.format(grade_one_hot_Train.shape))\n",
    "print('Shape of CV dataset matrix after one hot encoding is: {0}'.format(grade_one_hot_CV.shape))\n",
    "print('Shape of Test dataset matrix after one hot encoding is: {0}'.format(grade_one_hot_Test.shape))"
   ]
  },
  {
   "cell_type": "markdown",
   "metadata": {
    "colab_type": "text",
    "id": "6Em6Kb2-CypR"
   },
   "source": [
    "### 1.5.2 Vectorizing Numerical features"
   ]
  },
  {
   "cell_type": "code",
   "execution_count": 0,
   "metadata": {
    "colab": {},
    "colab_type": "code",
    "id": "nmy2EugK-aHF"
   },
   "outputs": [],
   "source": [
    "price_data = Resource_data.groupby('id').agg({'price':'sum', 'quantity':'sum'}).reset_index()\n",
    "X_Train = pd.merge(X_Train, price_data, on='id', how='left')\n",
    "X_CV = pd.merge(X_CV, price_data, on='id', how='left')\n",
    "X_Test = pd.merge(X_Test, price_data, on='id', how='left')"
   ]
  },
  {
   "cell_type": "code",
   "execution_count": 0,
   "metadata": {
    "colab": {
     "base_uri": "https://localhost:8080/",
     "height": 85
    },
    "colab_type": "code",
    "executionInfo": {
     "elapsed": 123878,
     "status": "ok",
     "timestamp": 1574831812461,
     "user": {
      "displayName": "Santhosh Kumar",
      "photoUrl": "https://lh3.googleusercontent.com/a-/AAuE7mCRlaOX8dDmFuSGPHMZtyYyi8ks0uwyxMgvosSa=s64",
      "userId": "02443764688110331515"
     },
     "user_tz": -330
    },
    "id": "c4Xx_uJdNxsj",
    "outputId": "c5e5cbb1-5d4d-4a29-e4f6-10c6a5cf2cf1"
   },
   "outputs": [
    {
     "name": "stdout",
     "output_type": "stream",
     "text": [
      "------------------------------------------------------------------------------------------------------------------------\n",
      "Shape of Train normalized price dataset matrix after one hot encoding is: (49041, 1)\n",
      "Shape of CV normalized price dataset matrix after one hot encoding is: (24155, 1)\n",
      "Shape of Test normalized price dataset matrix after one hot encoding is: (36052, 1)\n"
     ]
    }
   ],
   "source": [
    "price_norm = Normalizer(norm='l2', copy=False)\n",
    "price_norm.fit(X_Train['price'].values.reshape(1,-1))\n",
    "\n",
    "p=price_norm.transform(X_Train['price'].values.reshape(1,-1))\n",
    "price_norm.transform(X_CV['price'].values.reshape(1,-1))\n",
    "price_norm.transform(X_Test['price'].values.reshape(1,-1))\n",
    "price_norm_Train = (X_Train['price'].values.reshape(-1,1))\n",
    "price_norm_CV = (X_CV['price'].values.reshape(-1,1))\n",
    "price_norm_Test = (X_Test['price'].values.reshape(-1,1))\n",
    "print(\"-\"*120)\n",
    "print('Shape of Train normalized price dataset matrix after one hot encoding is: {0}'.format(price_norm_Train.shape))\n",
    "print('Shape of CV normalized price dataset matrix after one hot encoding is: {0}'.format(price_norm_CV.shape))\n",
    "print('Shape of Test normalized price dataset matrix after one hot encoding is: {0}'.format(price_norm_Test.shape))"
   ]
  },
  {
   "cell_type": "code",
   "execution_count": 0,
   "metadata": {
    "colab": {
     "base_uri": "https://localhost:8080/",
     "height": 85
    },
    "colab_type": "code",
    "executionInfo": {
     "elapsed": 124238,
     "status": "ok",
     "timestamp": 1574831812847,
     "user": {
      "displayName": "Santhosh Kumar",
      "photoUrl": "https://lh3.googleusercontent.com/a-/AAuE7mCRlaOX8dDmFuSGPHMZtyYyi8ks0uwyxMgvosSa=s64",
      "userId": "02443764688110331515"
     },
     "user_tz": -330
    },
    "id": "pVIlvXWRNxsl",
    "outputId": "4f4795ff-4648-46b4-f441-3505d46b003e"
   },
   "outputs": [
    {
     "name": "stdout",
     "output_type": "stream",
     "text": [
      "------------------------------------------------------------------------------------------------------------------------\n",
      "Shape of Train normalized quantity dataset matrix after one hot encoding is: (49041, 1)\n",
      "Shape of CV normalized quantity dataset matrix after one hot encoding is: (24155, 1)\n",
      "Shape of Test normalized quantity dataset matrix after one hot encoding is: (36052, 1)\n"
     ]
    }
   ],
   "source": [
    "quantity_norm = Normalizer(norm='l2', copy=False)\n",
    "quantity_norm.fit(X_Train['quantity'].values.reshape(1,-1))\n",
    "\n",
    "quantity_norm.transform(X_Train['quantity'].values.reshape(1,-1))\n",
    "quantity_norm.transform(X_CV['quantity'].values.reshape(1,-1))\n",
    "quantity_norm.transform(X_Test['quantity'].values.reshape(1,-1))\n",
    "quantity_norm_Train = quantity_norm.transform(X_Train['quantity'].values.reshape(-1,1))\n",
    "quantity_norm_CV = quantity_norm.transform(X_CV['quantity'].values.reshape(-1,1))\n",
    "quantity_norm_Test = quantity_norm.transform(X_Test['quantity'].values.reshape(-1,1))\n",
    "print(\"-\"*120)\n",
    "print('Shape of Train normalized quantity dataset matrix after one hot encoding is: {0}'.format(quantity_norm_Train.shape))\n",
    "print('Shape of CV normalized quantity dataset matrix after one hot encoding is: {0}'.format(quantity_norm_CV.shape))\n",
    "print('Shape of Test normalized quantity dataset matrix after one hot encoding is: {0}'.format(quantity_norm_Test.shape))"
   ]
  },
  {
   "cell_type": "code",
   "execution_count": 0,
   "metadata": {
    "colab": {
     "base_uri": "https://localhost:8080/",
     "height": 85
    },
    "colab_type": "code",
    "executionInfo": {
     "elapsed": 124217,
     "status": "ok",
     "timestamp": 1574831812849,
     "user": {
      "displayName": "Santhosh Kumar",
      "photoUrl": "https://lh3.googleusercontent.com/a-/AAuE7mCRlaOX8dDmFuSGPHMZtyYyi8ks0uwyxMgvosSa=s64",
      "userId": "02443764688110331515"
     },
     "user_tz": -330
    },
    "id": "TNvwYUe0Nxsr",
    "outputId": "ece6a6c2-3531-48c5-c8c2-55de8f914a8d"
   },
   "outputs": [
    {
     "name": "stdout",
     "output_type": "stream",
     "text": [
      "------------------------------------------------------------------------------------------------------------------------\n",
      "Shape of Train normalized previously posted project dataset matrix after one hot encoding is: (49041, 1)\n",
      "Shape of CV normalized previously posted project dataset matrix after one hot encoding is: (24155, 1)\n",
      "Shape of Test normalized previously posted project dataset matrix after one hot encoding is: (36052, 1)\n"
     ]
    }
   ],
   "source": [
    "teacher_prev_post_norm = Normalizer(norm='l2', copy=False)\n",
    "teacher_prev_post_norm.fit(X_Train['teacher_number_of_previously_posted_projects'].values.reshape(1,-1))\n",
    "\n",
    "teacher_prev_post_norm.transform(X_Train['teacher_number_of_previously_posted_projects'].values.reshape(1,-1))\n",
    "teacher_prev_post_norm.transform(X_CV['teacher_number_of_previously_posted_projects'].values.reshape(1,-1))\n",
    "teacher_prev_post_norm.transform(X_Test['teacher_number_of_previously_posted_projects'].values.reshape(1,-1))\n",
    "teacher_prev_post_norm_Train = teacher_prev_post_norm.transform(X_Train['teacher_number_of_previously_posted_projects'].values.reshape(-1,1))\n",
    "teacher_prev_post_norm_CV = teacher_prev_post_norm.transform(X_CV['teacher_number_of_previously_posted_projects'].values.reshape(-1,1))\n",
    "teacher_prev_post_norm_Test = teacher_prev_post_norm.transform(X_Test['teacher_number_of_previously_posted_projects'].values.reshape(-1,1))\n",
    "print(\"-\"*120)\n",
    "print('Shape of Train normalized previously posted project dataset matrix after one hot encoding is: {0}'.format(teacher_prev_post_norm_Train.shape))\n",
    "print('Shape of CV normalized previously posted project dataset matrix after one hot encoding is: {0}'.format(teacher_prev_post_norm_CV.shape))\n",
    "print('Shape of Test normalized previously posted project dataset matrix after one hot encoding is: {0}'.format(teacher_prev_post_norm_Test.shape))"
   ]
  },
  {
   "cell_type": "code",
   "execution_count": 0,
   "metadata": {
    "colab": {
     "base_uri": "https://localhost:8080/",
     "height": 85
    },
    "colab_type": "code",
    "executionInfo": {
     "elapsed": 124195,
     "status": "ok",
     "timestamp": 1574831812852,
     "user": {
      "displayName": "Santhosh Kumar",
      "photoUrl": "https://lh3.googleusercontent.com/a-/AAuE7mCRlaOX8dDmFuSGPHMZtyYyi8ks0uwyxMgvosSa=s64",
      "userId": "02443764688110331515"
     },
     "user_tz": -330
    },
    "id": "ANmIMh2VNxst",
    "outputId": "4a10a97b-bf80-44d5-9c76-cab4e69528d6"
   },
   "outputs": [
    {
     "name": "stdout",
     "output_type": "stream",
     "text": [
      "------------------------------------------------------------------------------------------------------------------------\n",
      "Shape of Train normalized title dataset matrix after one hot encoding is: (49041, 1)\n",
      "Shape of CV normalized title dataset matrix after one hot encoding is: (24155, 1)\n",
      "Shape of Test normalized title dataset matrix after one hot encoding is: (36052, 1)\n"
     ]
    }
   ],
   "source": [
    "title_norm = Normalizer(norm='l2', copy=False)\n",
    "title_norm.fit(X_Train['word_count_title_Train'].values.reshape(1,-1))\n",
    "title_norm.transform(X_Train['word_count_title_Train'].values.reshape(1,-1))\n",
    "title_norm.transform(X_CV['word_count_title_CV'].values.reshape(1,-1))\n",
    "title_norm.transform(X_Test['word_count_title_Test'].values.reshape(1,-1))\n",
    "word_count_title_Train = title_norm.transform(X_Train['word_count_title_Train'].values.reshape(-1,1))\n",
    "word_count_title_CV = title_norm.transform(X_CV['word_count_title_CV'].values.reshape(-1,1))\n",
    "word_count_title_Test = title_norm.transform(X_Test['word_count_title_Test'].values.reshape(-1,1))\n",
    "print(\"-\"*120)\n",
    "print('Shape of Train normalized title dataset matrix after one hot encoding is: {0}'.format(word_count_title_Train.shape))\n",
    "print('Shape of CV normalized title dataset matrix after one hot encoding is: {0}'.format(word_count_title_CV.shape))\n",
    "print('Shape of Test normalized title dataset matrix after one hot encoding is: {0}'.format(word_count_title_Test.shape))"
   ]
  },
  {
   "cell_type": "code",
   "execution_count": 0,
   "metadata": {
    "colab": {
     "base_uri": "https://localhost:8080/",
     "height": 85
    },
    "colab_type": "code",
    "executionInfo": {
     "elapsed": 124173,
     "status": "ok",
     "timestamp": 1574831812853,
     "user": {
      "displayName": "Santhosh Kumar",
      "photoUrl": "https://lh3.googleusercontent.com/a-/AAuE7mCRlaOX8dDmFuSGPHMZtyYyi8ks0uwyxMgvosSa=s64",
      "userId": "02443764688110331515"
     },
     "user_tz": -330
    },
    "id": "Abm6wEtONxsw",
    "outputId": "46bb7b6c-6478-4d80-ee35-85bd76ec8939"
   },
   "outputs": [
    {
     "name": "stdout",
     "output_type": "stream",
     "text": [
      "------------------------------------------------------------------------------------------------------------------------\n",
      "Shape of Train normalized title dataset matrix after one hot encoding is: (49041, 1)\n",
      "Shape of CV normalized title dataset matrix after one hot encoding is: (24155, 1)\n",
      "Shape of Test normalized title dataset matrix after one hot encoding is: (36052, 1)\n"
     ]
    }
   ],
   "source": [
    "essay_norm = Normalizer(norm='l2', copy=False)\n",
    "essay_norm.fit(X_Train['word_count_essay_Train'].values.reshape(1,-1))\n",
    "essay_norm.transform(X_Train['word_count_essay_Train'].values.reshape(1,-1))\n",
    "essay_norm.transform(X_CV['word_count_essay_CV'].values.reshape(1,-1))\n",
    "essay_norm.transform(X_Test['word_count_essay_Test'].values.reshape(1,-1))\n",
    "word_count_essay_Train = essay_norm.transform(X_Train['word_count_essay_Train'].values.reshape(-1,1))\n",
    "word_count_essay_CV = essay_norm.transform(X_CV['word_count_essay_CV'].values.reshape(-1,1))\n",
    "word_count_essay_Test = essay_norm.transform(X_Test['word_count_essay_Test'].values.reshape(-1,1))\n",
    "print(\"-\"*120)\n",
    "print('Shape of Train normalized title dataset matrix after one hot encoding is: {0}'.format(word_count_essay_Train.shape))\n",
    "print('Shape of CV normalized title dataset matrix after one hot encoding is: {0}'.format(word_count_essay_CV.shape))\n",
    "print('Shape of Test normalized title dataset matrix after one hot encoding is: {0}'.format(word_count_essay_Test.shape))"
   ]
  },
  {
   "cell_type": "markdown",
   "metadata": {
    "colab_type": "text",
    "id": "5YnkzKnmCyoN"
   },
   "source": [
    "### 1.5.3 Vectorizing Text data"
   ]
  },
  {
   "cell_type": "markdown",
   "metadata": {
    "colab_type": "text",
    "id": "W544CoFtCyoN"
   },
   "source": [
    "#### 1.5.3.1 Bag of words"
   ]
  },
  {
   "cell_type": "code",
   "execution_count": 0,
   "metadata": {
    "colab": {
     "base_uri": "https://localhost:8080/",
     "height": 119
    },
    "colab_type": "code",
    "executionInfo": {
     "elapsed": 148358,
     "status": "ok",
     "timestamp": 1574831837062,
     "user": {
      "displayName": "Santhosh Kumar",
      "photoUrl": "https://lh3.googleusercontent.com/a-/AAuE7mCRlaOX8dDmFuSGPHMZtyYyi8ks0uwyxMgvosSa=s64",
      "userId": "02443764688110331515"
     },
     "user_tz": -330
    },
    "id": "2D93QosECyoP",
    "outputId": "99e7c349-ad6e-46ee-df5b-76f1f492305f"
   },
   "outputs": [
    {
     "name": "stdout",
     "output_type": "stream",
     "text": [
      "------------------------------------------------------------------------------------------------------------------------\n",
      "Applying Bag Of Words for Text Data\n",
      "------------------------------------------------------------------------------------------------------------------------\n",
      "Shape of Train dataset matrix after one hot encoding is: (49041, 5000)\n",
      "Shape of CV dataset matrix after one hot encoding is: (24155, 5000)\n",
      "Shape of Test dataset matrix after one hot encoding is: (36052, 5000)\n"
     ]
    }
   ],
   "source": [
    "# We are considering only the words which appeared in at least 10 documents(rows or projects).\n",
    "vectorizer_essays_bow = CountVectorizer(min_df=10,max_features = 5000,ngram_range=(2, 2))\n",
    "text_bow_Train = vectorizer_essays_bow.fit_transform(preprocessed_essays_Train)\n",
    "text_bow_CV = vectorizer_essays_bow.transform(preprocessed_essays_CV)\n",
    "text_bow_Test = vectorizer_essays_bow.transform(preprocessed_essays_Test)\n",
    "print(\"-\"*120)\n",
    "print(\"Applying Bag Of Words for Text Data\")\n",
    "print(\"-\"*120)\n",
    "print('Shape of Train dataset matrix after one hot encoding is: {0}'.format(text_bow_Train.shape))\n",
    "print('Shape of CV dataset matrix after one hot encoding is: {0}'.format(text_bow_CV.shape))\n",
    "print('Shape of Test dataset matrix after one hot encoding is: {0}'.format(text_bow_Test.shape))"
   ]
  },
  {
   "cell_type": "markdown",
   "metadata": {
    "colab_type": "text",
    "id": "LopTX4CI-aHP"
   },
   "source": [
    "**Bag of Words for Project Title**"
   ]
  },
  {
   "cell_type": "code",
   "execution_count": 0,
   "metadata": {
    "colab": {
     "base_uri": "https://localhost:8080/",
     "height": 119
    },
    "colab_type": "code",
    "executionInfo": {
     "elapsed": 149636,
     "status": "ok",
     "timestamp": 1574831838364,
     "user": {
      "displayName": "Santhosh Kumar",
      "photoUrl": "https://lh3.googleusercontent.com/a-/AAuE7mCRlaOX8dDmFuSGPHMZtyYyi8ks0uwyxMgvosSa=s64",
      "userId": "02443764688110331515"
     },
     "user_tz": -330
    },
    "id": "rvPTRSkrCyoU",
    "outputId": "cc954d2f-eb99-479e-d6e4-a22e80485766"
   },
   "outputs": [
    {
     "name": "stdout",
     "output_type": "stream",
     "text": [
      "------------------------------------------------------------------------------------------------------------------------\n",
      "Applying Bag Of Words for Project Title Data\n",
      "------------------------------------------------------------------------------------------------------------------------\n",
      "Shape of Train dataset matrix after one hot encoding is: (49041, 1731)\n",
      "Shape of CV dataset matrix after one hot encoding is: (24155, 1731)\n",
      "Shape of Test dataset matrix after one hot encoding is: (36052, 1731)\n"
     ]
    }
   ],
   "source": [
    "# you can vectorize the title also \n",
    "# before you vectorize the title make sure you preprocess it\n",
    "vectorizer_titles_bow = CountVectorizer(min_df=10,max_features = 5000,ngram_range=(2, 2))\n",
    "title_bow_Train = vectorizer_titles_bow.fit_transform(preprocessed_titles_Train)\n",
    "title_bow_CV = vectorizer_titles_bow.transform(preprocessed_titles_CV)\n",
    "title_bow_Test = vectorizer_titles_bow.transform(preprocessed_titles_Test)\n",
    "print(\"-\"*120)\n",
    "print(\"Applying Bag Of Words for Project Title Data\")\n",
    "print(\"-\"*120)\n",
    "print('Shape of Train dataset matrix after one hot encoding is: {0}'.format(title_bow_Train.shape))\n",
    "print('Shape of CV dataset matrix after one hot encoding is: {0}'.format(title_bow_CV.shape))\n",
    "print('Shape of Test dataset matrix after one hot encoding is: {0}'.format(title_bow_Test.shape))\n"
   ]
  },
  {
   "cell_type": "markdown",
   "metadata": {
    "colab_type": "text",
    "id": "gK_SHRpTCyol"
   },
   "source": [
    "#### 1.5.2.2 TFIDF vectorizer"
   ]
  },
  {
   "cell_type": "code",
   "execution_count": 0,
   "metadata": {
    "colab": {
     "base_uri": "https://localhost:8080/",
     "height": 119
    },
    "colab_type": "code",
    "executionInfo": {
     "elapsed": 175518,
     "status": "ok",
     "timestamp": 1574831864269,
     "user": {
      "displayName": "Santhosh Kumar",
      "photoUrl": "https://lh3.googleusercontent.com/a-/AAuE7mCRlaOX8dDmFuSGPHMZtyYyi8ks0uwyxMgvosSa=s64",
      "userId": "02443764688110331515"
     },
     "user_tz": -330
    },
    "id": "l0gzc2iwCyoo",
    "outputId": "fd8a1e70-514e-4876-b25d-71b4fba55cb7"
   },
   "outputs": [
    {
     "name": "stdout",
     "output_type": "stream",
     "text": [
      "------------------------------------------------------------------------------------------------------------------------\n",
      "Applying TFIDF for Text Data\n",
      "------------------------------------------------------------------------------------------------------------------------\n",
      "Shape of Train dataset matrix after one hot encoding is: (49041, 5000)\n",
      "Shape of CV dataset matrix after one hot encoding is: (24155, 5000)\n",
      "Shape of Test dataset matrix after one hot encoding is: (36052, 5000)\n"
     ]
    }
   ],
   "source": [
    "from sklearn.feature_extraction.text import TfidfVectorizer\n",
    "vectorizer_essays_tfidf = TfidfVectorizer(min_df=10,max_features = 5000,ngram_range=(2, 2))\n",
    "text_tfidf_Train = vectorizer_essays_tfidf.fit_transform(preprocessed_essays_Train)\n",
    "text_tfidf_CV = vectorizer_essays_tfidf.transform(preprocessed_essays_CV)\n",
    "text_tfidf_Test = vectorizer_essays_tfidf.transform(preprocessed_essays_Test)\n",
    "print(\"-\"*120)\n",
    "print(\"Applying TFIDF for Text Data\")\n",
    "print(\"-\"*120)\n",
    "print('Shape of Train dataset matrix after one hot encoding is: {0}'.format(text_tfidf_Train.shape))\n",
    "print('Shape of CV dataset matrix after one hot encoding is: {0}'.format(text_tfidf_CV.shape))\n",
    "print('Shape of Test dataset matrix after one hot encoding is: {0}'.format(text_tfidf_Test.shape))"
   ]
  },
  {
   "cell_type": "markdown",
   "metadata": {
    "colab_type": "text",
    "id": "Sk-rG85_-aHW"
   },
   "source": [
    "**TFIDF vectorizer for Project Title**"
   ]
  },
  {
   "cell_type": "code",
   "execution_count": 0,
   "metadata": {
    "colab": {
     "base_uri": "https://localhost:8080/",
     "height": 119
    },
    "colab_type": "code",
    "executionInfo": {
     "elapsed": 175498,
     "status": "ok",
     "timestamp": 1574831864272,
     "user": {
      "displayName": "Santhosh Kumar",
      "photoUrl": "https://lh3.googleusercontent.com/a-/AAuE7mCRlaOX8dDmFuSGPHMZtyYyi8ks0uwyxMgvosSa=s64",
      "userId": "02443764688110331515"
     },
     "user_tz": -330
    },
    "id": "84_ZNZpe-aHX",
    "outputId": "4e833dba-e202-4f0c-eaf8-7a380aad4852"
   },
   "outputs": [
    {
     "name": "stdout",
     "output_type": "stream",
     "text": [
      "------------------------------------------------------------------------------------------------------------------------\n",
      "Applying TFIDF for Project Title\n",
      "------------------------------------------------------------------------------------------------------------------------\n",
      "Shape of Train dataset matrix after one hot encoding is: (49041, 1731)\n",
      "Shape of CV dataset matrix after one hot encoding is: (24155, 1731)\n",
      "Shape of Test dataset matrix after one hot encoding is: (36052, 1731)\n"
     ]
    }
   ],
   "source": [
    "vectorizer_titles_tfidf = TfidfVectorizer(min_df=10,max_features = 5000,ngram_range=(2, 2))\n",
    "title_tfidf_Train = vectorizer_titles_tfidf.fit_transform(preprocessed_titles_Train)\n",
    "title_tfidf_CV = vectorizer_titles_tfidf.transform(preprocessed_titles_CV)\n",
    "title_tfidf_Test = vectorizer_titles_tfidf.transform(preprocessed_titles_Test)\n",
    "print(\"-\"*120)\n",
    "print(\"Applying TFIDF for Project Title\")\n",
    "print(\"-\"*120)\n",
    "print('Shape of Train dataset matrix after one hot encoding is: {0}'.format(title_tfidf_Train.shape))\n",
    "print('Shape of CV dataset matrix after one hot encoding is: {0}'.format(title_tfidf_CV.shape))\n",
    "print('Shape of Test dataset matrix after one hot encoding is: {0}'.format(title_tfidf_Test.shape))"
   ]
  },
  {
   "cell_type": "markdown",
   "metadata": {
    "colab_type": "text",
    "id": "jVJ1rkNOPeEv"
   },
   "source": [
    "#### 1.5.2.3 Using Pretrained Models: Avg W2V"
   ]
  },
  {
   "cell_type": "code",
   "execution_count": 0,
   "metadata": {
    "colab": {},
    "colab_type": "code",
    "id": "WjoxM5CbPahC"
   },
   "outputs": [],
   "source": [
    "# stronging variables into pickle files python: http://www.jessicayung.com/how-to-use-pickle-to-save-and-load-variables-in-python/\n",
    "# make sure you have the glove_vectors file\n",
    "with open('glove_vectors', 'rb') as f:\n",
    "    model = pickle.load(f)\n",
    "    glove_words =  set(model.keys())"
   ]
  },
  {
   "cell_type": "code",
   "execution_count": 0,
   "metadata": {
    "colab": {
     "base_uri": "https://localhost:8080/",
     "height": 102
    },
    "colab_type": "code",
    "executionInfo": {
     "elapsed": 206940,
     "status": "ok",
     "timestamp": 1574831895752,
     "user": {
      "displayName": "Santhosh Kumar",
      "photoUrl": "https://lh3.googleusercontent.com/a-/AAuE7mCRlaOX8dDmFuSGPHMZtyYyi8ks0uwyxMgvosSa=s64",
      "userId": "02443764688110331515"
     },
     "user_tz": -330
    },
    "id": "dgcGi0llPnii",
    "outputId": "df58841d-1470-4ffd-d6e5-40baa542f62b"
   },
   "outputs": [
    {
     "name": "stderr",
     "output_type": "stream",
     "text": [
      "100%|██████████| 49041/49041 [00:13<00:00, 3663.57it/s]\n",
      "100%|██████████| 24155/24155 [00:06<00:00, 3713.38it/s]\n",
      "100%|██████████| 36052/36052 [00:09<00:00, 3752.70it/s]"
     ]
    },
    {
     "name": "stdout",
     "output_type": "stream",
     "text": [
      "36052\n",
      "300\n"
     ]
    },
    {
     "name": "stderr",
     "output_type": "stream",
     "text": [
      "\n"
     ]
    }
   ],
   "source": [
    "# average Word2Vec\n",
    "# compute average word2vec for each review.\n",
    "avg_w2v_vectors_Train = []; # the avg-w2v for each sentence/review is stored in this list\n",
    "for sentence in tqdm(preprocessed_essays_Train): # for each review/sentence\n",
    "    vector = np.zeros(300) # as word vectors are of zero length\n",
    "    cnt_words =0; # num of words with a valid vector in the sentence/review\n",
    "    for word in sentence.split(): # for each word in a review/sentence\n",
    "        if word in glove_words:\n",
    "            vector += model[word]\n",
    "            cnt_words += 1\n",
    "    if cnt_words != 0:\n",
    "        vector /= cnt_words\n",
    "    avg_w2v_vectors_Train.append(vector)\n",
    "#------------------------------------------------------------------------------------------\n",
    "\n",
    "avg_w2v_vectors_CV = []; # the avg-w2v for each sentence/review is stored in this list\n",
    "for sentence in tqdm(preprocessed_essays_CV): # for each review/sentence\n",
    "    vector = np.zeros(300) # as word vectors are of zero length\n",
    "    cnt_words =0; # num of words with a valid vector in the sentence/review\n",
    "    for word in sentence.split(): # for each word in a review/sentence\n",
    "        if word in glove_words:\n",
    "            vector += model[word]\n",
    "            cnt_words += 1\n",
    "    if cnt_words != 0:\n",
    "        vector /= cnt_words\n",
    "    avg_w2v_vectors_CV.append(vector)\n",
    "#------------------------------------------------------------------------------------------\n",
    "    \n",
    "avg_w2v_vectors_Test = []; # the avg-w2v for each sentence/review is stored in this list\n",
    "for sentence in tqdm(preprocessed_essays_Test): # for each review/sentence\n",
    "    vector = np.zeros(300) # as word vectors are of zero length\n",
    "    cnt_words =0; # num of words with a valid vector in the sentence/review\n",
    "    for word in sentence.split(): # for each word in a review/sentence\n",
    "        if word in glove_words:\n",
    "            vector += model[word]\n",
    "            cnt_words += 1\n",
    "    if cnt_words != 0:\n",
    "        vector /= cnt_words\n",
    "    avg_w2v_vectors_Test.append(vector)\n",
    "\n",
    "print(len(avg_w2v_vectors_Test))\n",
    "print(len(avg_w2v_vectors_Test[1]))"
   ]
  },
  {
   "cell_type": "markdown",
   "metadata": {
    "colab_type": "text",
    "id": "UWmB6JY8PvOt"
   },
   "source": [
    "**AVG W2V on project_title**"
   ]
  },
  {
   "cell_type": "code",
   "execution_count": 0,
   "metadata": {
    "colab": {
     "base_uri": "https://localhost:8080/",
     "height": 102
    },
    "colab_type": "code",
    "executionInfo": {
     "elapsed": 208858,
     "status": "ok",
     "timestamp": 1574831897694,
     "user": {
      "displayName": "Santhosh Kumar",
      "photoUrl": "https://lh3.googleusercontent.com/a-/AAuE7mCRlaOX8dDmFuSGPHMZtyYyi8ks0uwyxMgvosSa=s64",
      "userId": "02443764688110331515"
     },
     "user_tz": -330
    },
    "id": "F6I-LHe-Pzw3",
    "outputId": "50a849d7-21fe-4cba-bee7-f52daabb9446"
   },
   "outputs": [
    {
     "name": "stderr",
     "output_type": "stream",
     "text": [
      "100%|██████████| 49041/49041 [00:00<00:00, 60048.21it/s]\n",
      "100%|██████████| 24155/24155 [00:00<00:00, 57875.06it/s]\n",
      "100%|██████████| 36052/36052 [00:00<00:00, 57462.66it/s]"
     ]
    },
    {
     "name": "stdout",
     "output_type": "stream",
     "text": [
      "36052\n",
      "300\n"
     ]
    },
    {
     "name": "stderr",
     "output_type": "stream",
     "text": [
      "\n"
     ]
    }
   ],
   "source": [
    "# Similarly you can vectorize for title also\n",
    "# compute average word2vec for each title.\n",
    "avg_w2v_vectors_title_Train = []; # the avg-w2v for each sentence/review is stored in this list\n",
    "for sentence in tqdm(preprocessed_titles_Train): # for each review/sentence\n",
    "    vector_title = np.zeros(300) # as word vectors are of zero length\n",
    "    cnt_title_words =0; # num of words with a valid vector in the sentence/review\n",
    "    for word in sentence.split(): # for each word in a review/sentence\n",
    "        if word in glove_words:\n",
    "            vector_title += model[word]\n",
    "            cnt_title_words += 1\n",
    "    if cnt_title_words != 0:\n",
    "        vector_title /= cnt_title_words\n",
    "    avg_w2v_vectors_title_Train.append(vector_title)\n",
    "\n",
    "\n",
    "#------------------------------------------------------------------------------------------\n",
    "avg_w2v_vectors_title_CV = []; # the avg-w2v for each sentence/review is stored in this list\n",
    "for sentence in tqdm(preprocessed_titles_CV): # for each review/sentence\n",
    "    vector_title = np.zeros(300) # as word vectors are of zero length\n",
    "    cnt_title_words =0; # num of words with a valid vector in the sentence/review\n",
    "    for word in sentence.split(): # for each word in a review/sentence\n",
    "        if word in glove_words:\n",
    "            vector_title += model[word]\n",
    "            cnt_title_words += 1\n",
    "    if cnt_title_words != 0:\n",
    "        vector_title /= cnt_title_words\n",
    "    avg_w2v_vectors_title_CV.append(vector_title)\n",
    "\n",
    "#------------------------------------------------------------------------------------------\n",
    "avg_w2v_vectors_title_Test = []; # the avg-w2v for each sentence/review is stored in this list\n",
    "for sentence in tqdm(preprocessed_titles_Test): # for each review/sentence\n",
    "    vector_title = np.zeros(300) # as word vectors are of zero length\n",
    "    cnt_title_words =0; # num of words with a valid vector in the sentence/review\n",
    "    for word in sentence.split(): # for each word in a review/sentence\n",
    "        if word in glove_words:\n",
    "            vector_title += model[word]\n",
    "            cnt_title_words += 1\n",
    "    if cnt_title_words != 0:\n",
    "        vector_title /= cnt_title_words\n",
    "    avg_w2v_vectors_title_Test.append(vector_title)\n",
    "\n",
    "print(len(avg_w2v_vectors_title_Test))\n",
    "print(len(avg_w2v_vectors_title_Test[0]))"
   ]
  },
  {
   "cell_type": "markdown",
   "metadata": {
    "colab_type": "text",
    "id": "rtKGvG6jP_LX"
   },
   "source": [
    "#### 1.5.2.3 Using Pretrained Models: TFIDF weighted W2V"
   ]
  },
  {
   "cell_type": "code",
   "execution_count": 0,
   "metadata": {
    "colab": {},
    "colab_type": "code",
    "id": "_30T-lc8QH2m"
   },
   "outputs": [],
   "source": [
    "tfidf_model_essays = TfidfVectorizer()\n",
    "tfidf_model_essays.fit(preprocessed_essays_Train)\n",
    "# we are converting a dictionary with word as a key, and the idf as a value\n",
    "dictionary = dict(zip(tfidf_model_essays.get_feature_names(), list(tfidf_model_essays.idf_)))\n",
    "tfidf_words_essays = set(tfidf_model_essays.get_feature_names())"
   ]
  },
  {
   "cell_type": "code",
   "execution_count": 0,
   "metadata": {
    "colab": {
     "base_uri": "https://localhost:8080/",
     "height": 102
    },
    "colab_type": "code",
    "executionInfo": {
     "elapsed": 414538,
     "status": "ok",
     "timestamp": 1574832103416,
     "user": {
      "displayName": "Santhosh Kumar",
      "photoUrl": "https://lh3.googleusercontent.com/a-/AAuE7mCRlaOX8dDmFuSGPHMZtyYyi8ks0uwyxMgvosSa=s64",
      "userId": "02443764688110331515"
     },
     "user_tz": -330
    },
    "id": "JAAhbtTDQJFq",
    "outputId": "276e9328-4981-49ff-e4f8-14bdc230d6ec"
   },
   "outputs": [
    {
     "name": "stderr",
     "output_type": "stream",
     "text": [
      "100%|██████████| 49041/49041 [01:30<00:00, 544.49it/s]\n",
      "100%|██████████| 24155/24155 [00:44<00:00, 546.24it/s]\n",
      "100%|██████████| 36052/36052 [01:05<00:00, 549.31it/s]"
     ]
    },
    {
     "name": "stdout",
     "output_type": "stream",
     "text": [
      "36052\n",
      "300\n"
     ]
    },
    {
     "name": "stderr",
     "output_type": "stream",
     "text": [
      "\n"
     ]
    }
   ],
   "source": [
    "# average Word2Vec\n",
    "# compute average word2vec for each review.\n",
    "tfidf_w2v_vectors_Train = []; # the avg-w2v for each sentence/review is stored in this list\n",
    "for sentence in tqdm(preprocessed_essays_Train): # for each review/sentence\n",
    "    vector = np.zeros(300) # as word vectors are of zero length\n",
    "    tf_idf_weight =0; # num of words with a valid vector in the sentence/review\n",
    "    for word in sentence.split(): # for each word in a review/sentence\n",
    "        if (word in glove_words) and (word in tfidf_words_essays):\n",
    "            vec = model[word] # getting the vector for each word\n",
    "            # here we are multiplying idf value(dictionary[word]) and the tf value((sentence.count(word)/len(sentence.split())))\n",
    "            tf_idf = dictionary[word]*(sentence.count(word)/len(sentence.split())) # getting the tfidf value for each word\n",
    "            vector += (vec * tf_idf) # calculating tfidf weighted w2v\n",
    "            tf_idf_weight += tf_idf\n",
    "    if tf_idf_weight != 0:\n",
    "        vector /= tf_idf_weight\n",
    "    tfidf_w2v_vectors_Train.append(vector)\n",
    "\n",
    "#------------------------------------------------------------------------------------------\n",
    "tfidf_w2v_vectors_CV = []; # the avg-w2v for each sentence/review is stored in this list\n",
    "for sentence in tqdm(preprocessed_essays_CV): # for each review/sentence\n",
    "    vector = np.zeros(300) # as word vectors are of zero length\n",
    "    tf_idf_weight =0; # num of words with a valid vector in the sentence/review\n",
    "    for word in sentence.split(): # for each word in a review/sentence\n",
    "        if (word in glove_words) and (word in tfidf_words_essays):\n",
    "            vec = model[word] # getting the vector for each word\n",
    "            # here we are multiplying idf value(dictionary[word]) and the tf value((sentence.count(word)/len(sentence.split())))\n",
    "            tf_idf = dictionary[word]*(sentence.count(word)/len(sentence.split())) # getting the tfidf value for each word\n",
    "            vector += (vec * tf_idf) # calculating tfidf weighted w2v\n",
    "            tf_idf_weight += tf_idf\n",
    "    if tf_idf_weight != 0:\n",
    "        vector /= tf_idf_weight\n",
    "    tfidf_w2v_vectors_CV.append(vector)\n",
    "#------------------------------------------------------------------------------------------\n",
    "tfidf_w2v_vectors_Test = []; # the avg-w2v for each sentence/review is stored in this list\n",
    "for sentence in tqdm(preprocessed_essays_Test): # for each review/sentence\n",
    "    vector = np.zeros(300) # as word vectors are of zero length\n",
    "    tf_idf_weight =0; # num of words with a valid vector in the sentence/review\n",
    "    for word in sentence.split(): # for each word in a review/sentence\n",
    "        if (word in glove_words) and (word in tfidf_words_essays):\n",
    "            vec = model[word] # getting the vector for each word\n",
    "            # here we are multiplying idf value(dictionary[word]) and the tf value((sentence.count(word)/len(sentence.split())))\n",
    "            tf_idf = dictionary[word]*(sentence.count(word)/len(sentence.split())) # getting the tfidf value for each word\n",
    "            vector += (vec * tf_idf) # calculating tfidf weighted w2v\n",
    "            tf_idf_weight += tf_idf\n",
    "    if tf_idf_weight != 0:\n",
    "        vector /= tf_idf_weight\n",
    "    tfidf_w2v_vectors_Test.append(vector)\n",
    "    \n",
    "print(len(tfidf_w2v_vectors_Test))\n",
    "print(len(tfidf_w2v_vectors_Test[0]))\n"
   ]
  },
  {
   "cell_type": "markdown",
   "metadata": {
    "colab_type": "text",
    "id": "TdyZ3Bx-QO2Y"
   },
   "source": [
    "**Using Pretrained Models: TFIDF weighted W2V on project_title**"
   ]
  },
  {
   "cell_type": "code",
   "execution_count": 0,
   "metadata": {
    "colab": {
     "base_uri": "https://localhost:8080/",
     "height": 102
    },
    "colab_type": "code",
    "executionInfo": {
     "elapsed": 417986,
     "status": "ok",
     "timestamp": 1574832106888,
     "user": {
      "displayName": "Santhosh Kumar",
      "photoUrl": "https://lh3.googleusercontent.com/a-/AAuE7mCRlaOX8dDmFuSGPHMZtyYyi8ks0uwyxMgvosSa=s64",
      "userId": "02443764688110331515"
     },
     "user_tz": -330
    },
    "id": "IeQ-8fiBQTes",
    "outputId": "380f430c-ee1a-46b9-bef6-eda076fce96e"
   },
   "outputs": [
    {
     "name": "stderr",
     "output_type": "stream",
     "text": [
      "100%|██████████| 49041/49041 [00:01<00:00, 31280.20it/s]\n",
      "100%|██████████| 24155/24155 [00:00<00:00, 31929.34it/s]\n",
      "100%|██████████| 36052/36052 [00:01<00:00, 32024.76it/s]"
     ]
    },
    {
     "name": "stdout",
     "output_type": "stream",
     "text": [
      "36052\n",
      "300\n"
     ]
    },
    {
     "name": "stderr",
     "output_type": "stream",
     "text": [
      "\n"
     ]
    }
   ],
   "source": [
    "# Similarly you can vectorize for title also\n",
    "tfidf_model_title = TfidfVectorizer()\n",
    "tfidf_model_title.fit(preprocessed_titles_Train)\n",
    "# we are converting a dictionary with word as a key, and the idf as a value\n",
    "dictionary = dict(zip(tfidf_model_title.get_feature_names(), list(tfidf_model_title.idf_)))\n",
    "tfidf_words_title = set(tfidf_model_title.get_feature_names())\n",
    "\n",
    "# compute tfidf word2vec for each title.\n",
    "tfidf_w2v_vectors_title_Train = []; # the avg-w2v for each sentence/review is stored in this list\n",
    "for sentence in tqdm(preprocessed_titles_Train): # for each review/sentence\n",
    "    vector_title = np.zeros(300) # as word vectors are of zero length\n",
    "    tf_idf_weight =0; # num of words with a valid vector in the sentence/review\n",
    "    for word in sentence.split(): # for each word in a review/sentence\n",
    "        if (word in glove_words) and (word in tfidf_words_title):\n",
    "            vec = model[word] # getting the vector for each word\n",
    "            # here we are multiplying idf value(dictionary[word]) and the tf value((sentence.count(word)/len(sentence.split())))\n",
    "            tf_idf = dictionary[word]*(sentence.count(word)/len(sentence.split())) # getting the tfidf value for each word\n",
    "            vector_title += (vector_title * tf_idf) # calculating tfidf weighted w2v\n",
    "            tf_idf_weight += tf_idf\n",
    "    if tf_idf_weight != 0:\n",
    "        vector_title /= tf_idf_weight\n",
    "    tfidf_w2v_vectors_title_Train.append(vector_title)\n",
    "#-----------------------------------------------------------------------------------------------------------------------------------------\n",
    "\n",
    "tfidf_w2v_vectors_title_CV = []; # the avg-w2v for each sentence/review is stored in this list\n",
    "for sentence in tqdm(preprocessed_titles_CV): # for each review/sentence\n",
    "    vector_title = np.zeros(300) # as word vectors are of zero length\n",
    "    tf_idf_weight =0; # num of words with a valid vector in the sentence/review\n",
    "    for word in sentence.split(): # for each word in a review/sentence\n",
    "        if (word in glove_words) and (word in tfidf_words_title):\n",
    "            vec = model[word] # getting the vector for each word\n",
    "            # here we are multiplying idf value(dictionary[word]) and the tf value((sentence.count(word)/len(sentence.split())))\n",
    "            tf_idf = dictionary[word]*(sentence.count(word)/len(sentence.split())) # getting the tfidf value for each word\n",
    "            vector_title += (vector_title * tf_idf) # calculating tfidf weighted w2v\n",
    "            tf_idf_weight += tf_idf\n",
    "    if tf_idf_weight != 0:\n",
    "        vector_title /= tf_idf_weight\n",
    "    tfidf_w2v_vectors_title_CV.append(vector_title)\n",
    "#-----------------------------------------------------------------------------------------------------------------------------------------\n",
    "\n",
    "    \n",
    "tfidf_w2v_vectors_title_Test = []; # the avg-w2v for each sentence/review is stored in this list\n",
    "for sentence in tqdm(preprocessed_titles_Test): # for each review/sentence\n",
    "    vector_title = np.zeros(300) # as word vectors are of zero length\n",
    "    tf_idf_weight =0; # num of words with a valid vector in the sentence/review\n",
    "    for word in sentence.split(): # for each word in a review/sentence\n",
    "        if (word in glove_words) and (word in tfidf_words_title):\n",
    "            vec = model[word] # getting the vector for each word\n",
    "            # here we are multiplying idf value(dictionary[word]) and the tf value((sentence.count(word)/len(sentence.split())))\n",
    "            tf_idf = dictionary[word]*(sentence.count(word)/len(sentence.split())) # getting the tfidf value for each word\n",
    "            vector_title += (vector_title * tf_idf) # calculating tfidf weighted w2v\n",
    "            tf_idf_weight += tf_idf\n",
    "    if tf_idf_weight != 0:\n",
    "        vector_title /= tf_idf_weight\n",
    "    tfidf_w2v_vectors_title_Test.append(vector_title)\n",
    "\n",
    "print(len(tfidf_w2v_vectors_title_Test))\n",
    "print(len(tfidf_w2v_vectors_title_Test[0]))\n",
    "\n"
   ]
  },
  {
   "cell_type": "markdown",
   "metadata": {
    "colab_type": "text",
    "id": "fY2T-686bBIN"
   },
   "source": [
    "**Calculating the sentiment score's of each of the essay** "
   ]
  },
  {
   "cell_type": "code",
   "execution_count": 0,
   "metadata": {
    "colab": {
     "base_uri": "https://localhost:8080/",
     "height": 119
    },
    "colab_type": "code",
    "executionInfo": {
     "elapsed": 713692,
     "status": "ok",
     "timestamp": 1574832402619,
     "user": {
      "displayName": "Santhosh Kumar",
      "photoUrl": "https://lh3.googleusercontent.com/a-/AAuE7mCRlaOX8dDmFuSGPHMZtyYyi8ks0uwyxMgvosSa=s64",
      "userId": "02443764688110331515"
     },
     "user_tz": -330
    },
    "id": "2-q-BcFpbBIO",
    "outputId": "5274e52e-3df1-411c-883c-dcbf7ecf6c5f"
   },
   "outputs": [
    {
     "name": "stderr",
     "output_type": "stream",
     "text": [
      "100%|██████████| 49041/49041 [02:12<00:00, 369.63it/s]\n",
      "100%|██████████| 24155/24155 [01:05<00:00, 367.92it/s]\n",
      "100%|██████████| 36052/36052 [01:37<00:00, 381.43it/s]"
     ]
    },
    {
     "name": "stdout",
     "output_type": "stream",
     "text": [
      "Shape of sentiment Train matrix after one hot encodig  (49041, 1)\n",
      "Shape of sentiment CV matrix after one hot encodig  (24155, 1)\n",
      "Shape of sentiment Test matrix after one hot encodig  (36052, 1)\n"
     ]
    },
    {
     "name": "stderr",
     "output_type": "stream",
     "text": [
      "\n"
     ]
    }
   ],
   "source": [
    "\n",
    "sid = SentimentIntensityAnalyzer()\n",
    "\n",
    "essays = X_Train['essay']\n",
    "essays_sentiment_Train = []\n",
    "for essay in tqdm(essays):\n",
    "    res = sid.polarity_scores(essay)\n",
    "    essays_sentiment_Train.append(res['compound']) #Considering compound as a criteria.\n",
    "X_Train['sentiment_essay'] = essays_sentiment_Train\n",
    "\n",
    "essays = X_CV['essay']\n",
    "essays_sentiment_CV = []\n",
    "for essay in tqdm(essays):\n",
    "    res = sid.polarity_scores(essay)\n",
    "    essays_sentiment_CV.append(res['compound']) #Considering compound as a criteria.\n",
    "X_CV['sentiment_essay'] = essays_sentiment_CV\n",
    "\n",
    "essays = X_Test['essay']\n",
    "essays_sentiment_Test = []\n",
    "for essay in tqdm(essays):\n",
    "    res = sid.polarity_scores(essay)\n",
    "    essays_sentiment_Test.append(res['compound']) #Considering compound as a criteria.\n",
    "X_Test['sentiment_essay'] = essays_sentiment_Test\n",
    "\n",
    "sentiment_norm = Normalizer(norm='l2', copy=False)\n",
    "sentiment_norm.fit(X_Train['sentiment_essay'].values.reshape(1,-1))\n",
    "\n",
    "sentiment_Train = sentiment_norm.transform(X_Train['sentiment_essay'].values.reshape(1,-1))\n",
    "\n",
    "sentiment_CV = sentiment_norm.transform(X_CV['sentiment_essay'].values.reshape(1,-1))\n",
    "\n",
    "sentiment_Test = sentiment_norm.transform(X_Test['sentiment_essay'].values.reshape(1,-1))\n",
    "\n",
    "sentiment_Train = (X_Train['sentiment_essay'].values.reshape(-1,1))\n",
    "sentiment_CV = (X_CV['sentiment_essay'].values.reshape(-1,1))\n",
    "sentiment_Test = (X_Test['sentiment_essay'].values.reshape(-1,1))\n",
    "\n",
    "\n",
    "print(\"Shape of sentiment Train matrix after one hot encodig \",sentiment_Train.shape)\n",
    "print(\"Shape of sentiment CV matrix after one hot encodig \",sentiment_CV.shape)\n",
    "print(\"Shape of sentiment Test matrix after one hot encodig \",sentiment_Test.shape)"
   ]
  },
  {
   "cell_type": "markdown",
   "metadata": {
    "colab_type": "text",
    "id": "V3vrK7BSCypi"
   },
   "source": [
    "# Assignment 5: Logistic Regression"
   ]
  },
  {
   "cell_type": "markdown",
   "metadata": {
    "colab_type": "text",
    "id": "WFI1ug-gCypi"
   },
   "source": [
    "<ol>\n",
    "    <li><strong>[Task-1] Logistic Regression(either SGDClassifier with log loss, or LogisticRegression) on these feature sets</strong>\n",
    "        <ul>\n",
    "            <li><font color='red'>Set 1</font>: categorical, numerical features + project_title(BOW) + preprocessed_eassay (`BOW with bi-grams` with `min_df=10` and `max_features=5000`)</li>\n",
    "            <li><font color='red'>Set 2</font>: categorical, numerical features + project_title(TFIDF)+  preprocessed_eassay (`TFIDF with bi-grams` with `min_df=10` and `max_features=5000`)</li>\n",
    "            <li><font color='red'>Set 3</font>: categorical, numerical features + project_title(AVG W2V)+  preprocessed_eassay (AVG W2V)</li>\n",
    "            <li><font color='red'>Set 4</font>: categorical, numerical features + project_title(TFIDF W2V)+  preprocessed_essay (TFIDF W2V)</li>        </ul>\n",
    "    </li>\n",
    "    <br>\n",
    "    <li><strong>Hyper paramter tuning (find best hyper parameters corresponding the algorithm that you choose)</strong>\n",
    "        <ul>\n",
    "    <li>Find the best hyper parameter which will give the maximum <a href='https://www.appliedaicourse.com/course/applied-ai-course-online/lessons/receiver-operating-characteristic-curve-roc-curve-and-auc-1/'>AUC</a> value</li>\n",
    "    <li>Find the best hyper paramter using k-fold cross validation or simple cross validation data</li>\n",
    "    <li>Use gridsearch cv or randomsearch cv or you can also write your own for loops to do this task of hyperparameter tuning</li>          \n",
    "        </ul>\n",
    "    </li>\n",
    "    <br>\n",
    "    <li><strong>Representation of results</strong>\n",
    "        <ul>\n",
    "    <li>You need to plot the performance of model both on train data and cross validation data for each hyper parameter, like shown in the figure.\n",
    "    <img src='train_cv_auc.JPG' width=300px></li>\n",
    "    <li>Once after you found the best hyper parameter, you need to train your model with it, and find the AUC on test data and plot the ROC curve on both train and test.\n",
    "    <img src='train_test_auc.JPG' width=300px></li>\n",
    "    <li>Along with plotting ROC curve, you need to print the <a href='https://www.appliedaicourse.com/course/applied-ai-course-online/lessons/confusion-matrix-tpr-fpr-fnr-tnr-1/'>confusion matrix</a> with predicted and original labels of test data points. Please visualize your confusion matrices using <a href='https://seaborn.pydata.org/generated/seaborn.heatmap.html'>seaborn heatmaps.\n",
    "    <img src='confusion_matrix.png' width=300px></li>\n",
    "        </ul>\n",
    "    </li>\n",
    "    <br>\n",
    "    <li><strong>[Task-2] Apply Logistic Regression on the below feature set <font color='red'> Set 5 </font> by finding the best hyper parameter as suggested in step 2 and step 3.</strong>\n",
    "    <li> Consider these set of features <font color='red'> Set 5 :</font>\n",
    "            <ul>\n",
    "                <li><strong>school_state</strong> : categorical data</li>\n",
    "                <li><strong>clean_categories</strong> : categorical data</li>\n",
    "                <li><strong>clean_subcategories</strong> : categorical data</li>\n",
    "                <li><strong>project_grade_category</strong> :categorical data</li>\n",
    "                <li><strong>teacher_prefix</strong> : categorical data</li>\n",
    "                <li><strong>quantity</strong> : numerical data</li>\n",
    "                <li><strong>teacher_number_of_previously_posted_projects</strong> : numerical data</li>\n",
    "                <li><strong>price</strong> : numerical data</li>\n",
    "                <li><strong>sentiment score's of each of the essay</strong> : numerical data</li>\n",
    "                <li><strong>number of words in the title</strong> : numerical data</li>\n",
    "                <li><strong>number of words in the combine essays</strong> : numerical data</li>\n",
    "            </ul>\n",
    "        And apply the Logistic regression on these features by finding the best hyper paramter as suggested in step 2 and step 3 <br>\n",
    "    </li>\n",
    "    <br>\n",
    "    <li><strong>Conclusion</strong>\n",
    "        <ul>\n",
    "    <li>You need to summarize the results at the end of the notebook, summarize it in the table format. To print out a table please refer to this prettytable library<a href='http://zetcode.com/python/prettytable/'>  link</a> \n",
    "        <img src='summary.JPG' width=400px>\n",
    "    </li>\n",
    "        </ul>\n",
    "</ol>"
   ]
  },
  {
   "cell_type": "markdown",
   "metadata": {
    "colab_type": "text",
    "id": "uhpkz5yrLNgr"
   },
   "source": [
    "<h4><font color='red'>Note: Data Leakage</font></h4>\n",
    "\n",
    "1. There will be an issue of data-leakage if you vectorize the entire data and then split it into train/cv/test.\n",
    "2. To avoid the issue of data-leakage, make sure to split your data first and then vectorize it. \n",
    "3. While vectorizing your data, apply the method fit_transform() on you train data, and apply the method transform() on cv/test data.\n",
    "4. For more details please go through this <a href='https://soundcloud.com/applied-ai-course/leakage-bow-and-tfidf'>link.</a>"
   ]
  },
  {
   "cell_type": "markdown",
   "metadata": {
    "colab_type": "text",
    "id": "I3_9nR1QLU3S"
   },
   "source": [
    "<h1>2. Logistic Regression </h1>"
   ]
  },
  {
   "cell_type": "markdown",
   "metadata": {
    "colab_type": "text",
    "id": "5UbaJH21Cypa"
   },
   "source": [
    "### 1.5.4 Merging all the above features"
   ]
  },
  {
   "cell_type": "markdown",
   "metadata": {
    "colab_type": "text",
    "id": "fAZixvIeCypb"
   },
   "source": [
    "- we need to merge all the numerical vectors i.e catogorical, text, numerical vectors"
   ]
  },
  {
   "cell_type": "code",
   "execution_count": 0,
   "metadata": {
    "colab": {
     "base_uri": "https://localhost:8080/",
     "height": 102
    },
    "colab_type": "code",
    "executionInfo": {
     "elapsed": 716130,
     "status": "ok",
     "timestamp": 1574832405079,
     "user": {
      "displayName": "Santhosh Kumar",
      "photoUrl": "https://lh3.googleusercontent.com/a-/AAuE7mCRlaOX8dDmFuSGPHMZtyYyi8ks0uwyxMgvosSa=s64",
      "userId": "02443764688110331515"
     },
     "user_tz": -330
    },
    "id": "Tsay467cCypt",
    "outputId": "ddc8be17-fed0-41f6-d3da-83c7a8c8f5e8"
   },
   "outputs": [
    {
     "name": "stdout",
     "output_type": "stream",
     "text": [
      "(49041, 6837)\n",
      "(49041, 6837)\n",
      "(49041, 706)\n",
      "(49041, 706)\n",
      "(49041, 106)\n"
     ]
    }
   ],
   "source": [
    "# merge two sparse matrices: https://stackoverflow.com/a/19710648/4084039\n",
    "BOW_Train = hstack((categories_one_hot_Train,sub_categories_one_hot_Train,school_one_hot_Train,grade_one_hot_Train,prefix_one_hot_Train,text_bow_Train,title_bow_Train,price_norm_Train, quantity_norm_Train, teacher_prev_post_norm_Train, word_count_title_Train, word_count_essay_Train, sentiment_Train))\n",
    "print(BOW_Train.shape)\n",
    "TFIDF_Train = hstack((categories_one_hot_Train,sub_categories_one_hot_Train,school_one_hot_Train,grade_one_hot_Train,prefix_one_hot_Train,text_tfidf_Train,title_tfidf_Train, price_norm_Train, quantity_norm_Train, teacher_prev_post_norm_Train, word_count_title_Train, word_count_essay_Train, sentiment_Train))\n",
    "print(TFIDF_Train.shape)\n",
    "AVG_W2V_Train = hstack((categories_one_hot_Train,sub_categories_one_hot_Train,school_one_hot_Train,grade_one_hot_Train,prefix_one_hot_Train,avg_w2v_vectors_Train,avg_w2v_vectors_title_Train, price_norm_Train, quantity_norm_Train, teacher_prev_post_norm_Train, word_count_title_Train, word_count_essay_Train, sentiment_Train))\n",
    "print(AVG_W2V_Train.shape)\n",
    "TFIDF_W2V_Train = hstack((categories_one_hot_Train,sub_categories_one_hot_Train,school_one_hot_Train,grade_one_hot_Train,prefix_one_hot_Train,tfidf_w2v_vectors_Train,tfidf_w2v_vectors_title_Train, price_norm_Train, quantity_norm_Train, teacher_prev_post_norm_Train, word_count_title_Train, word_count_essay_Train, sentiment_Train))\n",
    "print(TFIDF_W2V_Train.shape)\n",
    "FiveF_Train = hstack((categories_one_hot_Train,sub_categories_one_hot_Train,school_one_hot_Train,grade_one_hot_Train,prefix_one_hot_Train, price_norm_Train, quantity_norm_Train, teacher_prev_post_norm_Train, word_count_title_Train, word_count_essay_Train, sentiment_Train))\n",
    "print(FiveF_Train.shape)"
   ]
  },
  {
   "cell_type": "code",
   "execution_count": 0,
   "metadata": {
    "colab": {
     "base_uri": "https://localhost:8080/",
     "height": 102
    },
    "colab_type": "code",
    "executionInfo": {
     "elapsed": 717665,
     "status": "ok",
     "timestamp": 1574832406638,
     "user": {
      "displayName": "Santhosh Kumar",
      "photoUrl": "https://lh3.googleusercontent.com/a-/AAuE7mCRlaOX8dDmFuSGPHMZtyYyi8ks0uwyxMgvosSa=s64",
      "userId": "02443764688110331515"
     },
     "user_tz": -330
    },
    "id": "0PQ4xa6R-aIE",
    "outputId": "5f7945f5-4401-43d0-b070-123a8c5bdfe0"
   },
   "outputs": [
    {
     "name": "stdout",
     "output_type": "stream",
     "text": [
      "(24155, 6837)\n",
      "(24155, 6837)\n",
      "(24155, 706)\n",
      "(24155, 706)\n",
      "(24155, 106)\n"
     ]
    }
   ],
   "source": [
    "BOW_CV = hstack((categories_one_hot_CV,sub_categories_one_hot_CV,school_one_hot_CV,grade_one_hot_CV,prefix_one_hot_CV,text_bow_CV,title_bow_CV,price_norm_CV, quantity_norm_CV, teacher_prev_post_norm_CV, word_count_title_CV, word_count_essay_CV, sentiment_CV))\n",
    "print(BOW_CV.shape)\n",
    "TFIDF_CV = hstack((categories_one_hot_CV,sub_categories_one_hot_CV,school_one_hot_CV,grade_one_hot_CV,prefix_one_hot_CV,text_tfidf_CV,title_tfidf_CV,price_norm_CV, quantity_norm_CV, teacher_prev_post_norm_CV, word_count_title_CV, word_count_essay_CV, sentiment_CV))\n",
    "print(TFIDF_CV.shape) \n",
    "AVG_W2V_CV = hstack((categories_one_hot_CV,sub_categories_one_hot_CV,school_one_hot_CV,grade_one_hot_CV,prefix_one_hot_CV,avg_w2v_vectors_CV,avg_w2v_vectors_title_CV, price_norm_CV, quantity_norm_CV, teacher_prev_post_norm_CV, word_count_title_CV, word_count_essay_CV, sentiment_CV))\n",
    "print(AVG_W2V_CV.shape)\n",
    "TFIDF_W2V_CV = hstack((categories_one_hot_CV,sub_categories_one_hot_CV,school_one_hot_CV,grade_one_hot_CV,prefix_one_hot_CV,tfidf_w2v_vectors_CV,tfidf_w2v_vectors_title_CV, price_norm_CV, quantity_norm_CV, teacher_prev_post_norm_CV, word_count_title_CV, word_count_essay_CV, sentiment_CV))\n",
    "print(TFIDF_W2V_CV.shape)\n",
    "FiveF_CV = hstack((categories_one_hot_CV,sub_categories_one_hot_CV,school_one_hot_CV,grade_one_hot_CV,prefix_one_hot_CV, price_norm_CV, quantity_norm_CV, teacher_prev_post_norm_CV, word_count_title_CV, word_count_essay_CV, sentiment_CV))\n",
    "print(FiveF_CV.shape)"
   ]
  },
  {
   "cell_type": "code",
   "execution_count": 0,
   "metadata": {
    "colab": {
     "base_uri": "https://localhost:8080/",
     "height": 102
    },
    "colab_type": "code",
    "executionInfo": {
     "elapsed": 719032,
     "status": "ok",
     "timestamp": 1574832408028,
     "user": {
      "displayName": "Santhosh Kumar",
      "photoUrl": "https://lh3.googleusercontent.com/a-/AAuE7mCRlaOX8dDmFuSGPHMZtyYyi8ks0uwyxMgvosSa=s64",
      "userId": "02443764688110331515"
     },
     "user_tz": -330
    },
    "id": "znblBhXF-aIL",
    "outputId": "145c9665-cfa9-4391-b20c-35619d645216"
   },
   "outputs": [
    {
     "name": "stdout",
     "output_type": "stream",
     "text": [
      "(36052, 6837)\n",
      "(36052, 6837)\n",
      "(36052, 706)\n",
      "(36052, 706)\n",
      "(36052, 106)\n"
     ]
    }
   ],
   "source": [
    "BOW_Test = hstack((categories_one_hot_Test,sub_categories_one_hot_Test,school_one_hot_Test,grade_one_hot_Test,prefix_one_hot_Test,text_bow_Test,title_bow_Test, price_norm_Test, quantity_norm_Test, teacher_prev_post_norm_Test, word_count_title_Test, word_count_essay_Test, sentiment_Test))\n",
    "print(BOW_Test.shape)\n",
    "TFIDF_Test = hstack((categories_one_hot_Test,sub_categories_one_hot_Test,school_one_hot_Test,grade_one_hot_Test,prefix_one_hot_Test,text_tfidf_Test,title_tfidf_Test, price_norm_Test, quantity_norm_Test, teacher_prev_post_norm_Test, word_count_title_Test, word_count_essay_Test, sentiment_Test))\n",
    "print(TFIDF_Test.shape)\n",
    "AVG_W2V_Test = hstack((categories_one_hot_Test,sub_categories_one_hot_Test,school_one_hot_Test,grade_one_hot_Test,prefix_one_hot_Test,avg_w2v_vectors_Test,avg_w2v_vectors_title_Test, price_norm_Test, quantity_norm_Test, teacher_prev_post_norm_Test, word_count_title_Test, word_count_essay_Test, sentiment_Test))\n",
    "print(AVG_W2V_Test.shape)\n",
    "TFIDF_W2V_Test = hstack((categories_one_hot_Test,sub_categories_one_hot_Test,school_one_hot_Test,grade_one_hot_Test,prefix_one_hot_Test,tfidf_w2v_vectors_Test,tfidf_w2v_vectors_title_Test, price_norm_Test, quantity_norm_Test, teacher_prev_post_norm_Test, word_count_title_Test, word_count_essay_Test, sentiment_Test))\n",
    "print(TFIDF_W2V_Test.shape)\n",
    "FiveF_Test = hstack((categories_one_hot_Test,sub_categories_one_hot_Test,school_one_hot_Test,grade_one_hot_Test,prefix_one_hot_Test, price_norm_Test, quantity_norm_Test, teacher_prev_post_norm_Test, word_count_title_Test, word_count_essay_Test, sentiment_Test))\n",
    "print(FiveF_Test.shape)"
   ]
  },
  {
   "cell_type": "markdown",
   "metadata": {
    "colab_type": "text",
    "id": "B1dIm8PiCypw"
   },
   "source": [
    "### Applying Logistic Regression on BOW,<font color='red'> SET 1</font>"
   ]
  },
  {
   "cell_type": "code",
   "execution_count": 0,
   "metadata": {
    "colab": {
     "base_uri": "https://localhost:8080/",
     "height": 363
    },
    "colab_type": "code",
    "executionInfo": {
     "elapsed": 787389,
     "status": "ok",
     "timestamp": 1574832476409,
     "user": {
      "displayName": "Santhosh Kumar",
      "photoUrl": "https://lh3.googleusercontent.com/a-/AAuE7mCRlaOX8dDmFuSGPHMZtyYyi8ks0uwyxMgvosSa=s64",
      "userId": "02443764688110331515"
     },
     "user_tz": -330
    },
    "id": "uCXFZQCIhgJj",
    "outputId": "c66f3e7a-5de7-44f3-a69b-7ff417e02515"
   },
   "outputs": [
    {
     "name": "stderr",
     "output_type": "stream",
     "text": [
      "100%|██████████| 9/9 [01:07<00:00, 15.25s/it]\n",
      "100%|██████████| 9/9 [00:00<00:00, 33794.75it/s]\n"
     ]
    },
    {
     "data": {
      "image/png": "[encoded data removed]",
      "text/plain": [
       "<Figure size 432x288 with 1 Axes>"
      ]
     },
     "metadata": {
      "tags": []
     },
     "output_type": "display_data"
    },
    {
     "name": "stdout",
     "output_type": "stream",
     "text": [
      "CPU times: user 1min 7s, sys: 245 ms, total: 1min 8s\n",
      "Wall time: 1min 8s\n"
     ]
    }
   ],
   "source": [
    "%%time\n",
    "\n",
    "BOW_TR_CSR = BOW_Train.tocsr()\n",
    "BOW_CV_CSR = BOW_CV.tocsr()\n",
    "BOW_TS_CSR = BOW_Test.tocsr()\n",
    "\n",
    "C_Para = [0.00001, 0.0001, 0.001, 0.01,0.1, 1, 10,100,1000]\n",
    "L_C_Para= []\n",
    "ACCV = []\n",
    "AUC_TR = []\n",
    "AUC_CV = []\n",
    "\n",
    "for i in tqdm(C_Para):\n",
    "    LR = LogisticRegression(penalty='l2', C=i,class_weight='balanced', n_jobs=-1)\n",
    "    LR.fit(BOW_Train, Y_Train)\n",
    "    pred = LR.predict(BOW_CV)\n",
    "    acc = accuracy_score(Y_CV, pred, normalize=True) * float(100)\n",
    "    ACCV.append(acc)\n",
    "    a_fpr_train, a_tpr_train, thresholds = roc_curve(Y_Train, LR.predict_proba(BOW_TR_CSR) [:,1])\n",
    "    AUC_TR.append(auc(a_fpr_train, a_tpr_train))\n",
    "    \n",
    "    a_fpr_cv, a_tpr_cv, thresholds = roc_curve(Y_CV, LR.predict_proba(BOW_CV_CSR) [:,1])\n",
    "    AUC_CV.append(auc(a_fpr_cv, a_tpr_cv))\n",
    "\n",
    "\n",
    "for av in tqdm(C_Para):\n",
    "    b = np.log10(av)\n",
    "    L_C_Para.append(b) \n",
    "\n",
    "# Performance of model on Train data and Test data for each hyper parameter.\n",
    "plt.plot(L_C_Para, AUC_TR, label='AUC_Train',color='red',linewidth=2) \n",
    "plt.scatter(L_C_Para, AUC_TR, label='AUC_Train',color='red',linewidth=2) \n",
    "plt.gca() \n",
    "plt.plot(L_C_Para, AUC_CV, label='AUC_CV',color='blue',linewidth=2) \n",
    "plt.scatter(L_C_Para, AUC_CV, label='AUC_CV',color='blue',linewidth=2) \n",
    "plt.gca()\n",
    "plt.legend()\n",
    "plt.xlabel(\"Log C: hyperparameter\") \n",
    "plt.ylabel(\"AUC\")\n",
    "plt.title(\"AUC Values for respective C Values(Hyperparameter Tuning)\")\n",
    "plt.grid()\n",
    "plt.show()"
   ]
  },
  {
   "cell_type": "markdown",
   "metadata": {
    "colab_type": "text",
    "id": "8gH2ankMNxte"
   },
   "source": [
    "<font color='red'>**OBSERVATION:**</font>\n",
    "<font color='blue'>\n",
    " 1. C value has been choose based on the alpha which maximize the AUC CV score.<br>\n",
    " 2. In this case <font color='green'>**C = 0.01**</font> is having the highest AUC CV score.<br>\n",
    " 3. Hence <font color='green'>**C = 0.01**</font> is choosen as a best C value."
   ]
  },
  {
   "cell_type": "code",
   "execution_count": 0,
   "metadata": {
    "colab": {
     "base_uri": "https://localhost:8080/",
     "height": 51
    },
    "colab_type": "code",
    "executionInfo": {
     "elapsed": 788627,
     "status": "ok",
     "timestamp": 1574832477709,
     "user": {
      "displayName": "Santhosh Kumar",
      "photoUrl": "https://lh3.googleusercontent.com/a-/AAuE7mCRlaOX8dDmFuSGPHMZtyYyi8ks0uwyxMgvosSa=s64",
      "userId": "02443764688110331515"
     },
     "user_tz": -330
    },
    "id": "8V0s_VIaqwb-",
    "outputId": "70363cad-7a4e-479f-ac07-8d5a72393ced"
   },
   "outputs": [
    {
     "name": "stdout",
     "output_type": "stream",
     "text": [
      "\n",
      "Test accuracy for C Value = 0.01 is 64.73982025962499%\n"
     ]
    }
   ],
   "source": [
    "LR_OPT= 0.01\n",
    "BOW_opt = LogisticRegression(penalty='l2', C=LR_OPT, class_weight='balanced', n_jobs=-1)\n",
    "BOW_opt.fit(BOW_Train, Y_Train)\n",
    "pred = BOW_opt.predict(BOW_Test)\n",
    "acc = accuracy_score(Y_Test, pred, normalize=True) * float(100)\n",
    "print('\\nTest accuracy for C Value = {0} is {1}%'.format(LR_OPT,acc))\n",
    "\n",
    "a_fpr_train, a_tpr_train, thresholds = roc_curve(Y_Train, BOW_opt.predict_proba(BOW_TR_CSR) [:,1])\n",
    "a_fpr_Test, a_tpr_Test, thresholds = roc_curve(Y_Test, BOW_opt.predict_proba(BOW_TS_CSR)[:,1])"
   ]
  },
  {
   "cell_type": "markdown",
   "metadata": {
    "colab_type": "text",
    "id": "tVcg_mVN-aIt"
   },
   "source": [
    "# BOW ROC PLOT"
   ]
  },
  {
   "cell_type": "code",
   "execution_count": 0,
   "metadata": {
    "colab": {
     "base_uri": "https://localhost:8080/",
     "height": 380
    },
    "colab_type": "code",
    "executionInfo": {
     "elapsed": 789440,
     "status": "ok",
     "timestamp": 1574832478548,
     "user": {
      "displayName": "Santhosh Kumar",
      "photoUrl": "https://lh3.googleusercontent.com/a-/AAuE7mCRlaOX8dDmFuSGPHMZtyYyi8ks0uwyxMgvosSa=s64",
      "userId": "02443764688110331515"
     },
     "user_tz": -330
    },
    "id": "p10AtBVG-aIy",
    "outputId": "6e744dae-d998-485a-e38a-30a0a29bd61a"
   },
   "outputs": [
    {
     "data": {
      "image/png": "[encoded data removed]",
      "text/plain": [
       "<Figure size 432x288 with 1 Axes>"
      ]
     },
     "metadata": {
      "tags": []
     },
     "output_type": "display_data"
    },
    {
     "name": "stdout",
     "output_type": "stream",
     "text": [
      "------------------------------------------------------------------------------------------------------------------------\n",
      "AUC Train (for optimal C Value) = 0.7913722296177689\n",
      "AUC Test (for optimal C Value) = 0.6586750584660401\n",
      "CPU times: user 388 ms, sys: 7.01 ms, total: 395 ms\n",
      "Wall time: 396 ms\n"
     ]
    }
   ],
   "source": [
    "%%time\n",
    "\n",
    "#https://stackoverflow.com/questions/52910061/implementing-roc-curves-for-k-nn-machine-learning-algorithm-using-python-and-sci\n",
    "    \n",
    "plt.plot([0,1],[0,1],'k-', color='blue')\n",
    "plt.plot(a_fpr_train, a_tpr_train, label=\"BOW AUC Train (for optimal C Value)\", color='green')\n",
    "plt.plot(a_fpr_Test, a_tpr_Test, label=\"BOW AUC Test (for optimal C Value)\", color='orange')\n",
    "plt.legend() \n",
    "plt.ylabel(\"True Positive Rate(TPR)\")\n",
    "plt.xlabel(\"False Positive Rate(FPR)\")\n",
    "plt.title(\"BOW ROC PLOTS\")\n",
    "plt.show()\n",
    "print(\"-\"*120)\n",
    "print(\"AUC Train (for optimal C Value) =\", auc(a_fpr_train, a_tpr_train))\n",
    "print(\"AUC Test (for optimal C Value) =\", auc(a_fpr_Test, a_tpr_Test))\n",
    "BOW_AOPT=LR_OPT\n",
    "BOW_AUC=round(auc(a_fpr_Test, a_tpr_Test)*100)\n",
    "pred1 = BOW_opt.predict(BOW_Train)\n",
    "pred2 = BOW_opt.predict(BOW_Test)\n"
   ]
  },
  {
   "cell_type": "markdown",
   "metadata": {
    "colab_type": "text",
    "id": "t54vzoAP-aI0"
   },
   "source": [
    "# BOW CONFUSION MATRIX"
   ]
  },
  {
   "cell_type": "code",
   "execution_count": 0,
   "metadata": {
    "colab": {
     "base_uri": "https://localhost:8080/",
     "height": 329
    },
    "colab_type": "code",
    "executionInfo": {
     "elapsed": 789415,
     "status": "ok",
     "timestamp": 1574832478550,
     "user": {
      "displayName": "Santhosh Kumar",
      "photoUrl": "https://lh3.googleusercontent.com/a-/AAuE7mCRlaOX8dDmFuSGPHMZtyYyi8ks0uwyxMgvosSa=s64",
      "userId": "02443764688110331515"
     },
     "user_tz": -330
    },
    "id": "LovEc9W2Nxtk",
    "outputId": "e8a5a029-040d-4b39-88a8-4de0a650f66c"
   },
   "outputs": [
    {
     "name": "stdout",
     "output_type": "stream",
     "text": [
      "CPU times: user 132 ms, sys: 34 ms, total: 166 ms\n",
      "Wall time: 126 ms\n"
     ]
    },
    {
     "data": {
      "image/png": "[encoded data removed]",
      "text/plain": [
       "<Figure size 432x288 with 2 Axes>"
      ]
     },
     "metadata": {
      "tags": []
     },
     "output_type": "display_data"
    }
   ],
   "source": [
    "%%time\n",
    "#https://seaborn.pydata.org/generated/seaborn.heatmap.html\n",
    "#https://getaravind.com/blog/confusion-matrix-seaborn-heatmap/\n",
    "%matplotlib inline\n",
    "from sklearn.metrics import confusion_matrix\n",
    "Train = confusion_matrix(Y_Train, pred1)\n",
    "sns.heatmap(Train,annot=True,cbar=True,fmt='d',cmap='YlOrRd',linewidths=1,linecolor='black')\n",
    "plt.ylabel('True Label')\n",
    "plt.xlabel('Predicted Label')\n",
    "plt.title('Project is APPROVED or NOT Confusion Matrix - Train Data')"
   ]
  },
  {
   "cell_type": "markdown",
   "metadata": {
    "colab_type": "text",
    "id": "dWXyykEg40n0"
   },
   "source": [
    "<font color='blue'>**OBSERVATION:**<br>\n",
    "True Negative = 5520; False Negative = 12813; True Positive = 28828; False Positive = 1880<br>Accuracy (Overall, how often is the classifier correct) = 0.70<br>Precision(When it predicts yes, how often is it correct) =0.94<br>Misclassification (Overall, how often is it wrong) =0.30</font>\n"
   ]
  },
  {
   "cell_type": "code",
   "execution_count": 0,
   "metadata": {
    "colab": {
     "base_uri": "https://localhost:8080/",
     "height": 329
    },
    "colab_type": "code",
    "executionInfo": {
     "elapsed": 790489,
     "status": "ok",
     "timestamp": 1574832479653,
     "user": {
      "displayName": "Santhosh Kumar",
      "photoUrl": "https://lh3.googleusercontent.com/a-/AAuE7mCRlaOX8dDmFuSGPHMZtyYyi8ks0uwyxMgvosSa=s64",
      "userId": "02443764688110331515"
     },
     "user_tz": -330
    },
    "id": "IMlVHHFV-aI1",
    "outputId": "c3c17bbf-7491-4b78-92ca-41ebed27cc55",
    "scrolled": true
   },
   "outputs": [
    {
     "name": "stdout",
     "output_type": "stream",
     "text": [
      "CPU times: user 518 ms, sys: 48 ms, total: 566 ms\n",
      "Wall time: 524 ms\n"
     ]
    },
    {
     "data": {
      "image/png": "[encoded data removed]",
      "text/plain": [
       "<Figure size 432x288 with 2 Axes>"
      ]
     },
     "metadata": {
      "tags": []
     },
     "output_type": "display_data"
    }
   ],
   "source": [
    "%%time\n",
    "#https://seaborn.pydata.org/generated/seaborn.heatmap.html\n",
    "#https://getaravind.com/blog/confusion-matrix-seaborn-heatmap/\n",
    "Test = confusion_matrix(Y_Test, pred2)\n",
    "sns.heatmap(Test,annot=True,cbar=True,fmt='d',cmap='YlOrRd',linewidths=1,linecolor='black')\n",
    "plt.ylabel('True Label')\n",
    "plt.xlabel('Predicted Label')\n",
    "plt.title('Project is APPROVED or NOT Confusion Matrix - Test Data')"
   ]
  },
  {
   "cell_type": "markdown",
   "metadata": {
    "colab_type": "text",
    "id": "5bqbS7cL5EGu"
   },
   "source": [
    "<font color='blue'>**OBSERVATION:**<br>True Negative = 3069; False Negative = 10327; True Positive = 20271; False Positive = 2385<br>Accuracy (Overall, how often is the classifier correct) = 0.65<br>Precision(When it predicts yes, how often is it correct) =0.89<br>Misclassification (Overall, how often is it wrong) =0.35</font>"
   ]
  },
  {
   "cell_type": "markdown",
   "metadata": {
    "colab_type": "text",
    "id": "s85gPOAbCyp1"
   },
   "source": [
    "### Applying Logistic Regression on TFIDF,<font color='red'> SET 2</font>"
   ]
  },
  {
   "cell_type": "code",
   "execution_count": 0,
   "metadata": {
    "colab": {
     "base_uri": "https://localhost:8080/",
     "height": 363
    },
    "colab_type": "code",
    "executionInfo": {
     "elapsed": 847440,
     "status": "ok",
     "timestamp": 1574832536634,
     "user": {
      "displayName": "Santhosh Kumar",
      "photoUrl": "https://lh3.googleusercontent.com/a-/AAuE7mCRlaOX8dDmFuSGPHMZtyYyi8ks0uwyxMgvosSa=s64",
      "userId": "02443764688110331515"
     },
     "user_tz": -330
    },
    "id": "acWDtoNYNxt2",
    "outputId": "bee96ee3-ba70-4121-9695-0eb18f09a268"
   },
   "outputs": [
    {
     "name": "stderr",
     "output_type": "stream",
     "text": [
      "100%|██████████| 9/9 [00:57<00:00, 13.26s/it]\n",
      "100%|██████████| 9/9 [00:00<00:00, 32711.21it/s]\n"
     ]
    },
    {
     "data": {
      "image/png": "[encoded data removed]",
      "text/plain": [
       "<Figure size 432x288 with 1 Axes>"
      ]
     },
     "metadata": {
      "tags": []
     },
     "output_type": "display_data"
    },
    {
     "name": "stdout",
     "output_type": "stream",
     "text": [
      "CPU times: user 57.6 s, sys: 218 ms, total: 57.9 s\n",
      "Wall time: 57.9 s\n"
     ]
    }
   ],
   "source": [
    "%%time\n",
    "\n",
    "TFIDF_TR_CSR = TFIDF_Train.tocsr()\n",
    "TFIDF_CV_CSR = TFIDF_CV.tocsr()\n",
    "TFIDF_TS_CSR = TFIDF_Test.tocsr()\n",
    "\n",
    "C_Para = [0.00001, 0.0001, 0.001, 0.01,0.1,1,10,100,1000]\n",
    "L_C_Para= []\n",
    "ACCV = []\n",
    "AUC_TR = []\n",
    "AUC_CV = []\n",
    "\n",
    "for i in tqdm(C_Para):\n",
    "    LR = LogisticRegression(penalty='l2', C=i,class_weight='balanced', n_jobs=-1) ####\n",
    "    LR.fit(TFIDF_Train, Y_Train)\n",
    "    pred = LR.predict(TFIDF_CV)\n",
    "    acc = accuracy_score(Y_CV, pred, normalize=True) * float(100)\n",
    "    ACCV.append(acc)\n",
    "    a_fpr_train, a_tpr_train, thresholds = roc_curve(Y_Train, LR.predict_proba(TFIDF_TR_CSR) [:,1])\n",
    "    AUC_TR.append(auc(a_fpr_train, a_tpr_train))\n",
    "    \n",
    "    a_fpr_cv, a_tpr_cv, thresholds = roc_curve(Y_CV, LR.predict_proba(TFIDF_CV_CSR) [:,1])\n",
    "    AUC_CV.append(auc(a_fpr_cv, a_tpr_cv))\n",
    "\n",
    "\n",
    "for av in tqdm(C_Para):\n",
    "    b = np.log10(av)\n",
    "    L_C_Para.append(b)\n",
    "\n",
    "# Performance of model on Train data and Test data for each hyper parameter.\n",
    "plt.plot(L_C_Para, AUC_TR, label='AUC_Train',color='red',linewidth=2)\n",
    "plt.scatter(L_C_Para, AUC_TR, label='AUC_Train',color='red',linewidth=2)\n",
    "plt.gca()\n",
    "plt.plot(L_C_Para, AUC_CV, label='AUC_CV',color='blue',linewidth=2)\n",
    "plt.scatter(L_C_Para, AUC_CV, label='AUC_CV',color='blue',linewidth=2)\n",
    "plt.gca()\n",
    "plt.legend()\n",
    "plt.xlabel(\"Log C: hyperparameter\")\n",
    "plt.ylabel(\"AUC\")\n",
    "plt.title(\"AUC Values for respective C Values(Hyperparameter Tuning)\")\n",
    "plt.grid()\n",
    "plt.show()"
   ]
  },
  {
   "cell_type": "markdown",
   "metadata": {
    "colab_type": "text",
    "id": "_dPInOIrYKlG"
   },
   "source": [
    "<font color='red'>**OBSERVATION:**</font>\n",
    "<font color='blue'>\n",
    " 1. C value has been choose based on the alpha which maximize the AUC CV score.<br>\n",
    " 2. In this case <font color='green'>**C = 0.1**</font> is having the highest AUC CV score.<br>\n",
    " 3. Hence <font color='green'>**C = 0.1**</font> is choosen as a best C value."
   ]
  },
  {
   "cell_type": "code",
   "execution_count": 0,
   "metadata": {
    "colab": {
     "base_uri": "https://localhost:8080/",
     "height": 51
    },
    "colab_type": "code",
    "executionInfo": {
     "elapsed": 849250,
     "status": "ok",
     "timestamp": 1574832538500,
     "user": {
      "displayName": "Santhosh Kumar",
      "photoUrl": "https://lh3.googleusercontent.com/a-/AAuE7mCRlaOX8dDmFuSGPHMZtyYyi8ks0uwyxMgvosSa=s64",
      "userId": "02443764688110331515"
     },
     "user_tz": -330
    },
    "id": "sZtA8vp3Nxt6",
    "outputId": "50903404-bae9-48f6-ac2f-158443239c7f"
   },
   "outputs": [
    {
     "name": "stdout",
     "output_type": "stream",
     "text": [
      "\n",
      "Test accuracy for C Value = 0.1 is 65.3195384444691%\n"
     ]
    }
   ],
   "source": [
    "LR_OPT=0.1\n",
    "TFIDF_opt =LogisticRegression(penalty='l2', C=LR_OPT, class_weight='balanced', n_jobs=-1)\n",
    "TFIDF_opt.fit(TFIDF_Train, Y_Train)\n",
    "pred = TFIDF_opt.predict(TFIDF_Test)\n",
    "acc = accuracy_score(Y_Test, pred, normalize=True) * float(100)\n",
    "print('\\nTest accuracy for C Value = {0} is {1}%'.format(LR_OPT,acc))\n",
    "\n",
    "a_fpr_train, a_tpr_train, thresholds = roc_curve(Y_Train, TFIDF_opt.predict_proba(TFIDF_TR_CSR) [:,1])\n",
    "a_fpr_Test, a_tpr_Test, thresholds = roc_curve(Y_Test, TFIDF_opt.predict_proba(TFIDF_TS_CSR)[:,1])"
   ]
  },
  {
   "cell_type": "markdown",
   "metadata": {
    "colab_type": "text",
    "id": "fICqPk_kNxt8"
   },
   "source": [
    "# TFIDF ROC PLOT"
   ]
  },
  {
   "cell_type": "code",
   "execution_count": 0,
   "metadata": {
    "colab": {
     "base_uri": "https://localhost:8080/",
     "height": 380
    },
    "colab_type": "code",
    "executionInfo": {
     "elapsed": 851637,
     "status": "ok",
     "timestamp": 1574832540914,
     "user": {
      "displayName": "Santhosh Kumar",
      "photoUrl": "https://lh3.googleusercontent.com/a-/AAuE7mCRlaOX8dDmFuSGPHMZtyYyi8ks0uwyxMgvosSa=s64",
      "userId": "02443764688110331515"
     },
     "user_tz": -330
    },
    "id": "sN6l25PqNxt8",
    "outputId": "c3dc9e32-366d-42d3-e84b-1ebc04de7c47"
   },
   "outputs": [
    {
     "data": {
      "image/png": "[encoded data removed]",
      "text/plain": [
       "<Figure size 432x288 with 1 Axes>"
      ]
     },
     "metadata": {
      "tags": []
     },
     "output_type": "display_data"
    },
    {
     "name": "stdout",
     "output_type": "stream",
     "text": [
      "------------------------------------------------------------------------------------------------------------------------\n",
      "AUC Train (for optimal C Value) = 0.7712090328723575\n",
      "AUC Test (for optimal C Value) = 0.6587219180662647\n",
      "CPU times: user 400 ms, sys: 8.01 ms, total: 408 ms\n",
      "Wall time: 407 ms\n"
     ]
    }
   ],
   "source": [
    "%%time\n",
    "\n",
    "#https://stackoverflow.com/questions/52910061/implementing-roc-curves-for-k-nn-machine-learning-algorithm-using-python-and-sci\n",
    "    \n",
    "plt.plot([0,1],[0,1],'k-', color='blue')\n",
    "plt.plot(a_fpr_train, a_tpr_train, label=\"TFIDF AUC Train (for optimal C Value)\", color='green')\n",
    "plt.plot(a_fpr_Test, a_tpr_Test, label=\"TFIDF AUC Test (for optimal C Value)\", color='orange')\n",
    "plt.legend() \n",
    "plt.ylabel(\"True Positive Rate(TPR)\")\n",
    "plt.xlabel(\"False Positive Rate(FPR)\")\n",
    "plt.title(\"TFIDF ROC PLOTS\")\n",
    "plt.show()\n",
    "print(\"-\"*120)\n",
    "print(\"AUC Train (for optimal C Value) =\", auc(a_fpr_train, a_tpr_train))\n",
    "print(\"AUC Test (for optimal C Value) =\", auc(a_fpr_Test, a_tpr_Test))\n",
    "TFIDF_AOPT=LR_OPT\n",
    "TFIDF_AUC=round(auc(a_fpr_Test, a_tpr_Test)*100)\n",
    "pred3 = TFIDF_opt.predict(TFIDF_Train)\n",
    "pred4 = TFIDF_opt.predict(TFIDF_Test)\n"
   ]
  },
  {
   "cell_type": "markdown",
   "metadata": {
    "colab_type": "text",
    "id": "dwB5F5MvNxt-"
   },
   "source": [
    "# TFIDF CONFUSION MATRIX"
   ]
  },
  {
   "cell_type": "code",
   "execution_count": 0,
   "metadata": {
    "colab": {
     "base_uri": "https://localhost:8080/",
     "height": 329
    },
    "colab_type": "code",
    "executionInfo": {
     "elapsed": 851583,
     "status": "ok",
     "timestamp": 1574832540918,
     "user": {
      "displayName": "Santhosh Kumar",
      "photoUrl": "https://lh3.googleusercontent.com/a-/AAuE7mCRlaOX8dDmFuSGPHMZtyYyi8ks0uwyxMgvosSa=s64",
      "userId": "02443764688110331515"
     },
     "user_tz": -330
    },
    "id": "OFJflc32Nxt_",
    "outputId": "3a3847aa-7ef5-4da9-e26a-3ae5c70901cd"
   },
   "outputs": [
    {
     "name": "stdout",
     "output_type": "stream",
     "text": [
      "CPU times: user 129 ms, sys: 32 ms, total: 161 ms\n",
      "Wall time: 122 ms\n"
     ]
    },
    {
     "data": {
      "image/png": "[encoded data removed]",
      "text/plain": [
       "<Figure size 432x288 with 2 Axes>"
      ]
     },
     "metadata": {
      "tags": []
     },
     "output_type": "display_data"
    }
   ],
   "source": [
    "%%time\n",
    "#https://seaborn.pydata.org/generated/seaborn.heatmap.html\n",
    "#https://getaravind.com/blog/confusion-matrix-seaborn-heatmap/\n",
    "%matplotlib inline\n",
    "from sklearn.metrics import confusion_matrix\n",
    "Train = confusion_matrix(Y_Train, pred3)\n",
    "sns.heatmap(Train,annot=True,cbar=True,fmt='d',cmap='YlOrRd',linewidths=1,linecolor='black')\n",
    "plt.ylabel('True Label')\n",
    "plt.xlabel('Predicted Label')\n",
    "plt.title('Project is APPROVED or NOT Confusion Matrix - Train Data')"
   ]
  },
  {
   "cell_type": "markdown",
   "metadata": {
    "colab_type": "text",
    "id": "0kO_YXtZ5O48"
   },
   "source": [
    "<font color='blue'>**OBSERVATION:**<br>True Negative = 5286; False Negative = 12893; True Positive = 28748; False Positive = 2114<br>Accuracy (Overall, how often is the classifier correct) = 0.69<br>Precision(When it predicts yes, how often is it correct) =0.93<br>Misclassification (Overall, how often is it wrong) =0.31</font>"
   ]
  },
  {
   "cell_type": "code",
   "execution_count": 0,
   "metadata": {
    "colab": {
     "base_uri": "https://localhost:8080/",
     "height": 329
    },
    "colab_type": "code",
    "executionInfo": {
     "elapsed": 851538,
     "status": "ok",
     "timestamp": 1574832540919,
     "user": {
      "displayName": "Santhosh Kumar",
      "photoUrl": "https://lh3.googleusercontent.com/a-/AAuE7mCRlaOX8dDmFuSGPHMZtyYyi8ks0uwyxMgvosSa=s64",
      "userId": "02443764688110331515"
     },
     "user_tz": -330
    },
    "id": "9uP7SpZgNxuA",
    "outputId": "ddde48a3-ca10-465c-e885-11490a4ec682"
   },
   "outputs": [
    {
     "name": "stdout",
     "output_type": "stream",
     "text": [
      "CPU times: user 116 ms, sys: 31 ms, total: 147 ms\n",
      "Wall time: 110 ms\n"
     ]
    },
    {
     "data": {
      "image/png": "[encoded data removed]",
      "text/plain": [
       "<Figure size 432x288 with 2 Axes>"
      ]
     },
     "metadata": {
      "tags": []
     },
     "output_type": "display_data"
    }
   ],
   "source": [
    "%%time\n",
    "#https://seaborn.pydata.org/generated/seaborn.heatmap.html\n",
    "#https://getaravind.com/blog/confusion-matrix-seaborn-heatmap/\n",
    "Test = confusion_matrix(Y_Test, pred4)\n",
    "sns.heatmap(Test,annot=True,cbar=True,fmt='d',cmap='YlOrRd',linewidths=1,linecolor='black')\n",
    "plt.ylabel('True Label')\n",
    "plt.xlabel('Predicted Label')\n",
    "plt.title('Project is APPROVED or NOT Confusion Matrix - Test Data')"
   ]
  },
  {
   "cell_type": "markdown",
   "metadata": {
    "colab_type": "text",
    "id": "J2VzpUcz5YdC"
   },
   "source": [
    "<font color='blue'>**OBSERVATION:**<br>True Negative = 3083; False Negative = 10132; True Positive = 20466; False Positive = 2371<br>Accuracy (Overall, how often is the classifier correct) = 0.65<br>Precision(When it predicts yes, how often is it correct) =0.90<br>Misclassification (Overall, how often is it wrong) =0.35</font>"
   ]
  },
  {
   "cell_type": "markdown",
   "metadata": {
    "colab_type": "text",
    "id": "-EOq8nHDjL2T"
   },
   "source": [
    "### Applying Logistic Regression on AVG W2V,<font color='red'> SET 3</font>"
   ]
  },
  {
   "cell_type": "code",
   "execution_count": 0,
   "metadata": {
    "colab": {
     "base_uri": "https://localhost:8080/",
     "height": 363
    },
    "colab_type": "code",
    "executionInfo": {
     "elapsed": 1628883,
     "status": "ok",
     "timestamp": 1574833318310,
     "user": {
      "displayName": "Santhosh Kumar",
      "photoUrl": "https://lh3.googleusercontent.com/a-/AAuE7mCRlaOX8dDmFuSGPHMZtyYyi8ks0uwyxMgvosSa=s64",
      "userId": "02443764688110331515"
     },
     "user_tz": -330
    },
    "id": "wk3kyO2rjHkA",
    "outputId": "43e3ae4f-7482-4413-9fa4-5570d4a1786c"
   },
   "outputs": [
    {
     "name": "stderr",
     "output_type": "stream",
     "text": [
      "100%|██████████| 9/9 [12:56<00:00, 178.39s/it]\n",
      "100%|██████████| 9/9 [00:00<00:00, 20901.85it/s]\n"
     ]
    },
    {
     "data": {
      "image/png": "[encoded data removed]",
      "text/plain": [
       "<Figure size 432x288 with 1 Axes>"
      ]
     },
     "metadata": {
      "tags": []
     },
     "output_type": "display_data"
    },
    {
     "name": "stdout",
     "output_type": "stream",
     "text": [
      "CPU times: user 12min 52s, sys: 3.39 s, total: 12min 56s\n",
      "Wall time: 12min 57s\n"
     ]
    }
   ],
   "source": [
    "%%time\n",
    "AVG_W2V_TR_CSR = AVG_W2V_Train.tocsr()\n",
    "AVG_W2V_CV_CSR = AVG_W2V_CV.tocsr()\n",
    "AVG_W2V_TS_CSR = AVG_W2V_Test.tocsr()\n",
    "\n",
    "C_Para = [0.00001, 0.0001, 0.001, 0.01,0.1,1,10,100,1000]\n",
    "L_C_Para= []\n",
    "ACCV = []\n",
    "AUC_TR = []\n",
    "AUC_CV = []\n",
    "\n",
    "for i in tqdm(C_Para):\n",
    "    LR = LogisticRegression(penalty='l2', C=i,class_weight='balanced', n_jobs=-1) ####\n",
    "    LR.fit(AVG_W2V_Train, Y_Train)\n",
    "    pred = LR.predict(AVG_W2V_CV)\n",
    "    acc = accuracy_score(Y_CV, pred, normalize=True) * float(100)\n",
    "    ACCV.append(acc)\n",
    "    a_fpr_train, a_tpr_train, thresholds = roc_curve(Y_Train, LR.predict_proba(AVG_W2V_TR_CSR) [:,1])\n",
    "    AUC_TR.append(auc(a_fpr_train, a_tpr_train))\n",
    "    \n",
    "    a_fpr_cv, a_tpr_cv, thresholds = roc_curve(Y_CV, LR.predict_proba(AVG_W2V_CV_CSR) [:,1])\n",
    "    AUC_CV.append(auc(a_fpr_cv, a_tpr_cv))\n",
    "\n",
    "\n",
    "for av in tqdm(C_Para):\n",
    "    b = np.log10(av)\n",
    "    L_C_Para.append(b)\n",
    "\n",
    "# Performance of model on Train data and Test data for each hyper parameter.\n",
    "plt.plot(L_C_Para, AUC_TR, label='AUC_Train',color='red',linewidth=2)\n",
    "plt.scatter(L_C_Para, AUC_TR, label='AUC_Train',color='red',linewidth=2)\n",
    "plt.gca()\n",
    "plt.plot(L_C_Para, AUC_CV, label='AUC_CV',color='blue',linewidth=2)\n",
    "plt.scatter(L_C_Para, AUC_CV, label='AUC_CV',color='blue',linewidth=2)\n",
    "plt.gca()\n",
    "plt.legend()\n",
    "plt.xlabel(\"Log C: hyperparameter\")\n",
    "plt.ylabel(\"AUC\")\n",
    "plt.title(\"AUC Values for respective C Values(Hyperparameter Tuning)\")\n",
    "plt.grid()\n",
    "plt.show()"
   ]
  },
  {
   "cell_type": "markdown",
   "metadata": {
    "colab_type": "text",
    "id": "5zK21Ba2YSKc"
   },
   "source": [
    "<font color='red'>**OBSERVATION:**</font>\n",
    "<font color='blue'>\n",
    " 1. C value has been choose based on the alpha which maximize the AUC CV score.<br>\n",
    " 2. In this case <font color='green'>**C = 1000**</font> is having the highest AUC CV score.<br>\n",
    " 3. Hence <font color='green'>**C = 1000**</font> is choosen as a best C value."
   ]
  },
  {
   "cell_type": "code",
   "execution_count": 0,
   "metadata": {
    "colab": {
     "base_uri": "https://localhost:8080/",
     "height": 51
    },
    "colab_type": "code",
    "executionInfo": {
     "elapsed": 371488,
     "status": "ok",
     "timestamp": 1574834627588,
     "user": {
      "displayName": "Santhosh Kumar",
      "photoUrl": "https://lh3.googleusercontent.com/a-/AAuE7mCRlaOX8dDmFuSGPHMZtyYyi8ks0uwyxMgvosSa=s64",
      "userId": "02443764688110331515"
     },
     "user_tz": -330
    },
    "id": "9LFsd4M2lvwe",
    "outputId": "e13787fb-e09c-4ee0-9b62-66bbd60a0b1c"
   },
   "outputs": [
    {
     "name": "stdout",
     "output_type": "stream",
     "text": [
      "\n",
      "Test accuracy for C Value = 1000 is 66.79241096194386%\n"
     ]
    }
   ],
   "source": [
    "LR_OPT=1000\n",
    "AVG_W2V_opt =LogisticRegression(penalty='l2', C=LR_OPT, class_weight='balanced', n_jobs=-1)\n",
    "AVG_W2V_opt.fit(AVG_W2V_Train, Y_Train)\n",
    "pred = AVG_W2V_opt.predict(AVG_W2V_Test)\n",
    "acc = accuracy_score(Y_Test, pred, normalize=True) * float(100)\n",
    "print('\\nTest accuracy for C Value = {0} is {1}%'.format(LR_OPT,acc))\n",
    "\n",
    "a_fpr_train, a_tpr_train, thresholds = roc_curve(Y_Train, AVG_W2V_opt.predict_proba(AVG_W2V_TR_CSR) [:,1])\n",
    "a_fpr_Test, a_tpr_Test, thresholds = roc_curve(Y_Test, AVG_W2V_opt.predict_proba(AVG_W2V_TS_CSR)[:,1])"
   ]
  },
  {
   "cell_type": "markdown",
   "metadata": {
    "colab_type": "text",
    "id": "pxd_euhPl56Y"
   },
   "source": [
    "# AVG_W2V ROC PLOT"
   ]
  },
  {
   "cell_type": "code",
   "execution_count": 0,
   "metadata": {
    "colab": {
     "base_uri": "https://localhost:8080/",
     "height": 380
    },
    "colab_type": "code",
    "executionInfo": {
     "elapsed": 372628,
     "status": "ok",
     "timestamp": 1574834628837,
     "user": {
      "displayName": "Santhosh Kumar",
      "photoUrl": "https://lh3.googleusercontent.com/a-/AAuE7mCRlaOX8dDmFuSGPHMZtyYyi8ks0uwyxMgvosSa=s64",
      "userId": "02443764688110331515"
     },
     "user_tz": -330
    },
    "id": "Oc8oc81nl-3Q",
    "outputId": "f8c2d9a3-b467-4b05-c382-bd12641fbd5b"
   },
   "outputs": [
    {
     "data": {
      "image/png": "[encoded data removed]",
      "text/plain": [
       "<Figure size 432x288 with 1 Axes>"
      ]
     },
     "metadata": {
      "tags": []
     },
     "output_type": "display_data"
    },
    {
     "name": "stdout",
     "output_type": "stream",
     "text": [
      "------------------------------------------------------------------------------------------------------------------------\n",
      "AUC Train (for optimal C Value) = 0.7410346384183468\n",
      "AUC Test (for optimal C Value) = 0.7026664886241549\n",
      "CPU times: user 904 ms, sys: 9 ms, total: 913 ms\n",
      "Wall time: 924 ms\n"
     ]
    }
   ],
   "source": [
    "%%time\n",
    "\n",
    "#https://stackoverflow.com/questions/52910061/implementing-roc-curves-for-k-nn-machine-learning-algorithm-using-python-and-sci\n",
    "    \n",
    "plt.plot([0,1],[0,1],'k-', color='blue')\n",
    "plt.plot(a_fpr_train, a_tpr_train, label=\"AVG_W2V AUC Train (for optimal C Value)\", color='green')\n",
    "plt.plot(a_fpr_Test, a_tpr_Test, label=\"AVG_W2V AUC Test (for optimal C Value)\", color='orange')\n",
    "plt.legend() \n",
    "plt.ylabel(\"True Positive Rate(TPR)\")\n",
    "plt.xlabel(\"False Positive Rate(FPR)\")\n",
    "plt.title(\"AVG_W2V ROC PLOTS\")\n",
    "plt.show()\n",
    "print(\"-\"*120)\n",
    "print(\"AUC Train (for optimal C Value) =\", auc(a_fpr_train, a_tpr_train))\n",
    "print(\"AUC Test (for optimal C Value) =\", auc(a_fpr_Test, a_tpr_Test))\n",
    "AVG_W2V_AOPT=LR_OPT\n",
    "AVG_W2V_AUC=round(auc(a_fpr_Test, a_tpr_Test)*100)\n",
    "pred5 = AVG_W2V_opt.predict(AVG_W2V_Train)\n",
    "pred6 = AVG_W2V_opt.predict(AVG_W2V_Test)"
   ]
  },
  {
   "cell_type": "markdown",
   "metadata": {
    "colab_type": "text",
    "id": "FH9BfpJTmvXA"
   },
   "source": [
    "# AVG_W2V CONFUSION MATRIX"
   ]
  },
  {
   "cell_type": "code",
   "execution_count": 0,
   "metadata": {
    "colab": {
     "base_uri": "https://localhost:8080/",
     "height": 329
    },
    "colab_type": "code",
    "executionInfo": {
     "elapsed": 372610,
     "status": "ok",
     "timestamp": 1574834628839,
     "user": {
      "displayName": "Santhosh Kumar",
      "photoUrl": "https://lh3.googleusercontent.com/a-/AAuE7mCRlaOX8dDmFuSGPHMZtyYyi8ks0uwyxMgvosSa=s64",
      "userId": "02443764688110331515"
     },
     "user_tz": -330
    },
    "id": "O9Y7l06km5hL",
    "outputId": "e7bbece2-9110-46e9-a6f5-4fa68defd9d3"
   },
   "outputs": [
    {
     "name": "stdout",
     "output_type": "stream",
     "text": [
      "CPU times: user 121 ms, sys: 38 ms, total: 159 ms\n",
      "Wall time: 120 ms\n"
     ]
    },
    {
     "data": {
      "image/png": "[encoded data removed]",
      "text/plain": [
       "<Figure size 432x288 with 2 Axes>"
      ]
     },
     "metadata": {
      "tags": []
     },
     "output_type": "display_data"
    }
   ],
   "source": [
    "%%time\n",
    "#https://seaborn.pydata.org/generated/seaborn.heatmap.html\n",
    "#https://getaravind.com/blog/confusion-matrix-seaborn-heatmap/\n",
    "%matplotlib inline\n",
    "from sklearn.metrics import confusion_matrix\n",
    "Train = confusion_matrix(Y_Train, pred5)\n",
    "sns.heatmap(Train,annot=True,cbar=True,fmt='d',cmap='YlOrRd',linewidths=1,linecolor='black')\n",
    "plt.ylabel('True Label')\n",
    "plt.xlabel('Predicted Label')\n",
    "plt.title('Project is APPROVED or NOT Confusion Matrix - Train Data')\n"
   ]
  },
  {
   "cell_type": "markdown",
   "metadata": {
    "colab_type": "text",
    "id": "vRohNwEw5n20"
   },
   "source": [
    "<font color='blue'>**OBSERVATION:**<br>True Negative = 5069; False Negative = 13570; True Positive = 28071; False Positive = 2331<br>Accuracy (Overall, how often is the classifier correct) = 0.68<br>Precision(When it predicts yes, how often is it correct) =0.92<br>Misclassification (Overall, how often is it wrong) =0.32</font>"
   ]
  },
  {
   "cell_type": "code",
   "execution_count": 0,
   "metadata": {
    "colab": {
     "base_uri": "https://localhost:8080/",
     "height": 329
    },
    "colab_type": "code",
    "executionInfo": {
     "elapsed": 372595,
     "status": "ok",
     "timestamp": 1574834628842,
     "user": {
      "displayName": "Santhosh Kumar",
      "photoUrl": "https://lh3.googleusercontent.com/a-/AAuE7mCRlaOX8dDmFuSGPHMZtyYyi8ks0uwyxMgvosSa=s64",
      "userId": "02443764688110331515"
     },
     "user_tz": -330
    },
    "id": "hNfGBJQUm4-o",
    "outputId": "d19e86ee-76f3-4ed3-d4f1-9cd954e8da17"
   },
   "outputs": [
    {
     "name": "stdout",
     "output_type": "stream",
     "text": [
      "CPU times: user 106 ms, sys: 39 ms, total: 145 ms\n",
      "Wall time: 107 ms\n"
     ]
    },
    {
     "data": {
      "image/png": "[encoded data removed]",
      "text/plain": [
       "<Figure size 432x288 with 2 Axes>"
      ]
     },
     "metadata": {
      "tags": []
     },
     "output_type": "display_data"
    }
   ],
   "source": [
    "%%time\n",
    "#https://seaborn.pydata.org/generated/seaborn.heatmap.html\n",
    "#https://getaravind.com/blog/confusion-matrix-seaborn-heatmap/\n",
    "Test = confusion_matrix(Y_Test, pred6)\n",
    "sns.heatmap(Test,annot=True,cbar=True,fmt='d',cmap='YlOrRd',linewidths=1,linecolor='black')\n",
    "plt.ylabel('True Label')\n",
    "plt.xlabel('Predicted Label')\n",
    "plt.title('Project is APPROVED or NOT Confusion Matrix - Test Data')"
   ]
  },
  {
   "cell_type": "markdown",
   "metadata": {
    "colab_type": "text",
    "id": "V9f3Y9BO5y8G"
   },
   "source": [
    "<font color='blue'>**OBSERVATION:**<br>True Negative = 3437; False Negative = 9955; True Positive = 20643; False Positive = 2017<br>Accuracy (Overall, how often is the classifier correct) = 0.67<br>Precision(When it predicts yes, how often is it correct) =0.91<br>Misclassification (Overall, how often is it wrong) =0.33<br>"
   ]
  },
  {
   "cell_type": "markdown",
   "metadata": {
    "colab_type": "text",
    "id": "nEUJpyL6nOaU"
   },
   "source": [
    "### Applying Logistic Regression on TFIDF W2V,<font color='red'> SET 4</font>"
   ]
  },
  {
   "cell_type": "code",
   "execution_count": 0,
   "metadata": {
    "colab": {
     "base_uri": "https://localhost:8080/",
     "height": 329
    },
    "colab_type": "code",
    "executionInfo": {
     "elapsed": 674535,
     "status": "ok",
     "timestamp": 1574834930800,
     "user": {
      "displayName": "Santhosh Kumar",
      "photoUrl": "https://lh3.googleusercontent.com/a-/AAuE7mCRlaOX8dDmFuSGPHMZtyYyi8ks0uwyxMgvosSa=s64",
      "userId": "02443764688110331515"
     },
     "user_tz": -330
    },
    "id": "R2JtqrdBoEiK",
    "outputId": "4c31eb55-b05c-4d21-8707-f281a9cc7947"
   },
   "outputs": [
    {
     "name": "stderr",
     "output_type": "stream",
     "text": [
      "100%|██████████| 9/9 [05:01<00:00, 69.12s/it]\n",
      "100%|██████████| 9/9 [00:00<00:00, 5518.01it/s]\n"
     ]
    },
    {
     "data": {
      "image/png": "[encoded data removed]",
      "text/plain": [
       "<Figure size 432x288 with 1 Axes>"
      ]
     },
     "metadata": {
      "tags": []
     },
     "output_type": "display_data"
    }
   ],
   "source": [
    "TFIDF_W2V_TR_CSR = TFIDF_W2V_Train.tocsr()\n",
    "TFIDF_W2V_CV_CSR = TFIDF_W2V_CV.tocsr()\n",
    "TFIDF_W2V_TS_CSR = TFIDF_W2V_Test.tocsr()\n",
    "\n",
    "C_Para = [0.00001, 0.0001, 0.001, 0.01,0.1,1,10,100,1000]\n",
    "L_C_Para= []\n",
    "ACCV = []\n",
    "AUC_TR = []\n",
    "AUC_CV = []\n",
    "\n",
    "for i in tqdm(C_Para):\n",
    "    LR = LogisticRegression(penalty='l2', C=i,class_weight='balanced', n_jobs=-1) ####\n",
    "    LR.fit(TFIDF_W2V_Train, Y_Train)\n",
    "    pred = LR.predict(TFIDF_W2V_CV)\n",
    "    acc = accuracy_score(Y_CV, pred, normalize=True) * float(100)\n",
    "    ACCV.append(acc)\n",
    "    a_fpr_train, a_tpr_train, thresholds = roc_curve(Y_Train, LR.predict_proba(TFIDF_W2V_TR_CSR) [:,1])\n",
    "    AUC_TR.append(auc(a_fpr_train, a_tpr_train))\n",
    "    \n",
    "    a_fpr_cv, a_tpr_cv, thresholds = roc_curve(Y_CV, LR.predict_proba(TFIDF_W2V_CV_CSR) [:,1])\n",
    "    AUC_CV.append(auc(a_fpr_cv, a_tpr_cv))\n",
    "\n",
    "\n",
    "for av in tqdm(C_Para):\n",
    "    b = np.log10(av)\n",
    "    L_C_Para.append(b)\n",
    "\n",
    "# Performance of model on Train data and Test data for each hyper parameter.\n",
    "plt.plot(L_C_Para, AUC_TR, label='AUC_Train',color='red',linewidth=2)\n",
    "plt.scatter(L_C_Para, AUC_TR, label='AUC_Train',color='red',linewidth=2)\n",
    "plt.gca()\n",
    "plt.plot(L_C_Para, AUC_CV, label='AUC_CV',color='blue',linewidth=2)\n",
    "plt.scatter(L_C_Para, AUC_CV, label='AUC_CV',color='blue',linewidth=2)\n",
    "plt.gca()\n",
    "plt.legend()\n",
    "plt.xlabel(\"Log C: hyperparameter\")\n",
    "plt.ylabel(\"AUC\")\n",
    "plt.title(\"AUC Values for respective C Values(Hyperparameter Tuning)\")\n",
    "plt.grid()\n",
    "plt.show()"
   ]
  },
  {
   "cell_type": "markdown",
   "metadata": {
    "colab_type": "text",
    "id": "Nsx1pTgKYZHx"
   },
   "source": [
    "<font color='red'>**OBSERVATION:**</font>\n",
    "<font color='blue'>\n",
    " 1. C value has been choose based on the alpha which maximize the AUC CV score.<br>\n",
    " 2. In this case <font color='green'>**C = 100**</font> is having the highest AUC CV score.<br>\n",
    " 3. Hence <font color='green'>**C = 100**</font> is choosen as a best C value."
   ]
  },
  {
   "cell_type": "code",
   "execution_count": 0,
   "metadata": {
    "colab": {
     "base_uri": "https://localhost:8080/",
     "height": 51
    },
    "colab_type": "code",
    "executionInfo": {
     "elapsed": 70955,
     "status": "ok",
     "timestamp": 1574836367973,
     "user": {
      "displayName": "Santhosh Kumar",
      "photoUrl": "https://lh3.googleusercontent.com/a-/AAuE7mCRlaOX8dDmFuSGPHMZtyYyi8ks0uwyxMgvosSa=s64",
      "userId": "02443764688110331515"
     },
     "user_tz": -330
    },
    "id": "z4Y8MyzBoxvP",
    "outputId": "0897824a-36ae-4119-efb5-8df5150469e4"
   },
   "outputs": [
    {
     "name": "stdout",
     "output_type": "stream",
     "text": [
      "\n",
      "Test accuracy for C Value = 100 is 63.707977366026846%\n"
     ]
    }
   ],
   "source": [
    "LR_OPT=100\n",
    "TFIDF_W2V_opt =LogisticRegression(penalty='l2', C=LR_OPT, class_weight='balanced', n_jobs=-1)\n",
    "TFIDF_W2V_opt.fit(TFIDF_W2V_Train, Y_Train)\n",
    "pred = TFIDF_W2V_opt.predict(TFIDF_W2V_Test)\n",
    "acc = accuracy_score(Y_Test, pred, normalize=True) * float(100)\n",
    "print('\\nTest accuracy for C Value = {0} is {1}%'.format(LR_OPT,acc))\n",
    "\n",
    "a_fpr_train, a_tpr_train, thresholds = roc_curve(Y_Train, TFIDF_W2V_opt.predict_proba(TFIDF_W2V_TR_CSR) [:,1])\n",
    "a_fpr_Test, a_tpr_Test, thresholds = roc_curve(Y_Test, TFIDF_W2V_opt.predict_proba(TFIDF_W2V_TS_CSR)[:,1])"
   ]
  },
  {
   "cell_type": "markdown",
   "metadata": {
    "colab_type": "text",
    "id": "2PoArYnWo8o4"
   },
   "source": [
    "# TFIDF_W2V ROC PLOT"
   ]
  },
  {
   "cell_type": "code",
   "execution_count": 0,
   "metadata": {
    "colab": {
     "base_uri": "https://localhost:8080/",
     "height": 380
    },
    "colab_type": "code",
    "executionInfo": {
     "elapsed": 3626,
     "status": "ok",
     "timestamp": 1574836422592,
     "user": {
      "displayName": "Santhosh Kumar",
      "photoUrl": "https://lh3.googleusercontent.com/a-/AAuE7mCRlaOX8dDmFuSGPHMZtyYyi8ks0uwyxMgvosSa=s64",
      "userId": "02443764688110331515"
     },
     "user_tz": -330
    },
    "id": "kbiFcvyvpAk6",
    "outputId": "98efac9f-7c95-49d1-8b41-04a5bf35bed0"
   },
   "outputs": [
    {
     "data": {
      "image/png": "[encoded data removed]",
      "text/plain": [
       "<Figure size 432x288 with 1 Axes>"
      ]
     },
     "metadata": {
      "tags": []
     },
     "output_type": "display_data"
    },
    {
     "name": "stdout",
     "output_type": "stream",
     "text": [
      "------------------------------------------------------------------------------------------------------------------------\n",
      "AUC Train (for optimal C Value) = 0.7252246892193699\n",
      "AUC Test (for optimal C Value) = 0.697504403304352\n",
      "CPU times: user 570 ms, sys: 5.02 ms, total: 575 ms\n",
      "Wall time: 580 ms\n"
     ]
    }
   ],
   "source": [
    "%%time\n",
    "\n",
    "#https://stackoverflow.com/questions/52910061/implementing-roc-curves-for-k-nn-machine-learning-algorithm-using-python-and-sci\n",
    "    \n",
    "plt.plot([0,1],[0,1],'k-', color='blue')\n",
    "plt.plot(a_fpr_train, a_tpr_train, label=\"TFIDF_W2V AUC Train (for optimal C Value)\", color='green')\n",
    "plt.plot(a_fpr_Test, a_tpr_Test, label=\"TFIDF_W2V AUC Test (for optimal C Value)\", color='orange')\n",
    "plt.legend() \n",
    "plt.ylabel(\"True Positive Rate(TPR)\")\n",
    "plt.xlabel(\"False Positive Rate(FPR)\")\n",
    "plt.title(\"TFIDF_W2V ROC PLOTS\")\n",
    "plt.show()\n",
    "print(\"-\"*120)\n",
    "print(\"AUC Train (for optimal C Value) =\", auc(a_fpr_train, a_tpr_train))\n",
    "print(\"AUC Test (for optimal C Value) =\", auc(a_fpr_Test, a_tpr_Test))\n",
    "TFIDF_W2V_AOPT=LR_OPT\n",
    "TFIDF_W2V_AUC=round(auc(a_fpr_Test, a_tpr_Test)*100)\n",
    "pred7 = TFIDF_W2V_opt.predict(TFIDF_W2V_Train)\n",
    "pred8 = TFIDF_W2V_opt.predict(TFIDF_W2V_Test)"
   ]
  },
  {
   "cell_type": "markdown",
   "metadata": {
    "colab_type": "text",
    "id": "kxK2GpBnpO2H"
   },
   "source": [
    "# TFIDF_W2V CONFUSION MATRIX"
   ]
  },
  {
   "cell_type": "code",
   "execution_count": 0,
   "metadata": {
    "colab": {
     "base_uri": "https://localhost:8080/",
     "height": 329
    },
    "colab_type": "code",
    "executionInfo": {
     "elapsed": 3069,
     "status": "ok",
     "timestamp": 1574836430961,
     "user": {
      "displayName": "Santhosh Kumar",
      "photoUrl": "https://lh3.googleusercontent.com/a-/AAuE7mCRlaOX8dDmFuSGPHMZtyYyi8ks0uwyxMgvosSa=s64",
      "userId": "02443764688110331515"
     },
     "user_tz": -330
    },
    "id": "GtC2JdLKpWQj",
    "outputId": "c8253409-bb3a-4a98-9722-ebcdf02d1c99"
   },
   "outputs": [
    {
     "name": "stdout",
     "output_type": "stream",
     "text": [
      "CPU times: user 130 ms, sys: 39 ms, total: 169 ms\n",
      "Wall time: 134 ms\n"
     ]
    },
    {
     "data": {
      "image/png": "[encoded data removed]",
      "text/plain": [
       "<Figure size 432x288 with 2 Axes>"
      ]
     },
     "metadata": {
      "tags": []
     },
     "output_type": "display_data"
    }
   ],
   "source": [
    "%%time\n",
    "#https://seaborn.pydata.org/generated/seaborn.heatmap.html\n",
    "#https://getaravind.com/blog/confusion-matrix-seaborn-heatmap/\n",
    "%matplotlib inline\n",
    "from sklearn.metrics import confusion_matrix\n",
    "Train = confusion_matrix(Y_Train, pred7)\n",
    "sns.heatmap(Train,annot=True,cbar=True,fmt='d',cmap='YlOrRd',linewidths=1,linecolor='black')\n",
    "plt.ylabel('True Label')\n",
    "plt.xlabel('Predicted Label')\n",
    "plt.title('Project is APPROVED or NOT Confusion Matrix - Train Data')"
   ]
  },
  {
   "cell_type": "markdown",
   "metadata": {
    "colab_type": "text",
    "id": "S60192WH59_s"
   },
   "source": [
    "<font color='blue'>**OBSERVATION:**<br>True Negative = 5099; False Negative = 14902; True Positive = 26739; False Positive = 2301<br>Accuracy (Overall, how often is the classifier correct) = 0.65<br>Precision(When it predicts yes, how often is it correct) =0.92<br>Misclassification (Overall, how often is it wrong) =0.35</font>"
   ]
  },
  {
   "cell_type": "code",
   "execution_count": 0,
   "metadata": {
    "colab": {
     "base_uri": "https://localhost:8080/",
     "height": 329
    },
    "colab_type": "code",
    "executionInfo": {
     "elapsed": 2292,
     "status": "ok",
     "timestamp": 1574836435569,
     "user": {
      "displayName": "Santhosh Kumar",
      "photoUrl": "https://lh3.googleusercontent.com/a-/AAuE7mCRlaOX8dDmFuSGPHMZtyYyi8ks0uwyxMgvosSa=s64",
      "userId": "02443764688110331515"
     },
     "user_tz": -330
    },
    "id": "pbkn81aApV8b",
    "outputId": "8ee90802-7e6c-4225-ff7e-f3109a404c90"
   },
   "outputs": [
    {
     "name": "stdout",
     "output_type": "stream",
     "text": [
      "CPU times: user 134 ms, sys: 41 ms, total: 175 ms\n",
      "Wall time: 127 ms\n"
     ]
    },
    {
     "data": {
      "image/png": "[encoded data removed]",
      "text/plain": [
       "<Figure size 432x288 with 2 Axes>"
      ]
     },
     "metadata": {
      "tags": []
     },
     "output_type": "display_data"
    }
   ],
   "source": [
    "%%time\n",
    "#https://seaborn.pydata.org/generated/seaborn.heatmap.html\n",
    "#https://getaravind.com/blog/confusion-matrix-seaborn-heatmap/\n",
    "Test = confusion_matrix(Y_Test, pred8)\n",
    "sns.heatmap(Test,annot=True,cbar=True,fmt='d',cmap='YlOrRd',linewidths=1,linecolor='black')\n",
    "plt.ylabel('True Label')\n",
    "plt.xlabel('Predicted Label')\n",
    "plt.title('Project is APPROVED or NOT Confusion Matrix - Test Data')"
   ]
  },
  {
   "cell_type": "markdown",
   "metadata": {
    "colab_type": "text",
    "id": "dRFX4hDc6Gtw"
   },
   "source": [
    "<font color='blue'>**OBSERVATION:**<br>True Negative = 3668; False Negative = 11308; True Positive = 19290; False Positive = 1786<br>Accuracy (Overall, how often is the classifier correct) = 0.64<br>Precision(When it predicts yes, how often is it correct) =0.92<br>Misclassification (Overall, how often is it wrong) =0.36</font>"
   ]
  },
  {
   "cell_type": "markdown",
   "metadata": {
    "colab_type": "text",
    "id": "MKJm6shkqVSb"
   },
   "source": [
    "### Applying Logistic Regression on below features <font color='red'> SET 5</font>\n",
    "<ul>\n",
    "                <li><strong>school_state</strong> : categorical data</li>\n",
    "                <li><strong>clean_categories</strong> : categorical data</li>\n",
    "                <li><strong>clean_subcategories</strong> : categorical data</li>\n",
    "                <li><strong>project_grade_category</strong> :categorical data</li>\n",
    "                <li><strong>teacher_prefix</strong> : categorical data</li>\n",
    "                <li><strong>quantity</strong> : numerical data</li>\n",
    "                <li><strong>teacher_number_of_previously_posted_projects</strong> : numerical data</li>\n",
    "                <li><strong>price</strong> : numerical data</li>\n",
    "                <li><strong>sentiment score's of each of the essay</strong> : numerical data</li>\n",
    "                <li><strong>number of words in the title</strong> : numerical data</li>\n",
    "                <li><strong>number of words in the combine essays</strong> : numerical data</li>\n",
    "            </ul>"
   ]
  },
  {
   "cell_type": "code",
   "execution_count": 0,
   "metadata": {
    "colab": {
     "base_uri": "https://localhost:8080/",
     "height": 329
    },
    "colab_type": "code",
    "executionInfo": {
     "elapsed": 697659,
     "status": "ok",
     "timestamp": 1574834954031,
     "user": {
      "displayName": "Santhosh Kumar",
      "photoUrl": "https://lh3.googleusercontent.com/a-/AAuE7mCRlaOX8dDmFuSGPHMZtyYyi8ks0uwyxMgvosSa=s64",
      "userId": "02443764688110331515"
     },
     "user_tz": -330
    },
    "id": "DIvr749zq2Jo",
    "outputId": "999b8e76-6d3b-4a82-8271-56ea94f0cfbd"
   },
   "outputs": [
    {
     "name": "stderr",
     "output_type": "stream",
     "text": [
      "100%|██████████| 9/9 [00:11<00:00,  2.47s/it]\n",
      "100%|██████████| 9/9 [00:00<00:00, 46834.66it/s]\n"
     ]
    },
    {
     "data": {
      "image/png": "[encoded data removed]",
      "text/plain": [
       "<Figure size 432x288 with 1 Axes>"
      ]
     },
     "metadata": {
      "tags": []
     },
     "output_type": "display_data"
    }
   ],
   "source": [
    "FiveF_TR_CSR = FiveF_Train.tocsr()\n",
    "FiveF_CV_CSR = FiveF_CV.tocsr()\n",
    "FiveF_TS_CSR = FiveF_Test.tocsr()\n",
    "\n",
    "C_Para = [0.00001, 0.0001, 0.001, 0.01,0.1,1,10,100,1000]\n",
    "L_C_Para= []\n",
    "ACCV = []\n",
    "AUC_TR = []\n",
    "AUC_CV = []\n",
    "\n",
    "for i in tqdm(C_Para):\n",
    "    LR = LogisticRegression(penalty='l2', C=i,class_weight='balanced', n_jobs=-1) ####\n",
    "    LR.fit(FiveF_Train, Y_Train)\n",
    "    pred = LR.predict(FiveF_CV)\n",
    "    acc = accuracy_score(Y_CV, pred, normalize=True) * float(100)\n",
    "    ACCV.append(acc)\n",
    "    a_fpr_train, a_tpr_train, thresholds = roc_curve(Y_Train, LR.predict_proba(FiveF_TR_CSR) [:,1])\n",
    "    AUC_TR.append(auc(a_fpr_train, a_tpr_train))\n",
    "    \n",
    "    a_fpr_cv, a_tpr_cv, thresholds = roc_curve(Y_CV, LR.predict_proba(FiveF_CV_CSR) [:,1])\n",
    "    AUC_CV.append(auc(a_fpr_cv, a_tpr_cv))\n",
    "\n",
    "\n",
    "for av in tqdm(C_Para):\n",
    "    b = np.log10(av)\n",
    "    L_C_Para.append(b)\n",
    "\n",
    "# Performance of model on Train data and Test data for each hyper parameter.\n",
    "plt.plot(L_C_Para, AUC_TR, label='AUC_Train',color='red',linewidth=2)\n",
    "plt.scatter(L_C_Para, AUC_TR, label='AUC_Train',color='red',linewidth=2)\n",
    "plt.gca()\n",
    "plt.plot(L_C_Para, AUC_CV, label='AUC_CV',color='blue',linewidth=2)\n",
    "plt.scatter(L_C_Para, AUC_CV, label='AUC_CV',color='blue',linewidth=2)\n",
    "plt.gca()\n",
    "plt.legend()\n",
    "plt.xlabel(\"Log C: hyperparameter\")\n",
    "plt.ylabel(\"AUC\")\n",
    "plt.title(\"AUC Values for respective C Values(Hyperparameter Tuning)\")\n",
    "plt.grid()\n",
    "plt.show()"
   ]
  },
  {
   "cell_type": "markdown",
   "metadata": {
    "colab_type": "text",
    "id": "o91eX-YWYtmT"
   },
   "source": [
    "<font color='red'>**OBSERVATION:**</font>\n",
    "<font color='blue'>\n",
    " 1. C value has been choose based on the alpha which maximize the AUC CV score.<br>\n",
    " 2. In this case <font color='green'>**C = 1000**</font> is having the highest AUC CV score.<br>\n",
    " 3. Hence <font color='green'>**C = 1000**</font> is choosen as a best C value."
   ]
  },
  {
   "cell_type": "code",
   "execution_count": 0,
   "metadata": {
    "colab": {
     "base_uri": "https://localhost:8080/",
     "height": 51
    },
    "colab_type": "code",
    "executionInfo": {
     "elapsed": 6880,
     "status": "ok",
     "timestamp": 1574836461537,
     "user": {
      "displayName": "Santhosh Kumar",
      "photoUrl": "https://lh3.googleusercontent.com/a-/AAuE7mCRlaOX8dDmFuSGPHMZtyYyi8ks0uwyxMgvosSa=s64",
      "userId": "02443764688110331515"
     },
     "user_tz": -330
    },
    "id": "KIWXGjuWrVo0",
    "outputId": "0a4610c8-4e3f-4a31-caf4-f59c052754d1"
   },
   "outputs": [
    {
     "name": "stdout",
     "output_type": "stream",
     "text": [
      "\n",
      "Test accuracy for C Value = 1000 is 59.192277820925334%\n"
     ]
    }
   ],
   "source": [
    "LR_OPT=1000\n",
    "FiveF_opt =LogisticRegression(penalty='l2', C=LR_OPT, class_weight='balanced', n_jobs=-1)\n",
    "FiveF_opt.fit(FiveF_Train, Y_Train)\n",
    "pred = FiveF_opt.predict(FiveF_Test)\n",
    "acc = accuracy_score(Y_Test, pred, normalize=True) * float(100)\n",
    "print('\\nTest accuracy for C Value = {0} is {1}%'.format(LR_OPT,acc))\n",
    "\n",
    "a_fpr_train, a_tpr_train, thresholds = roc_curve(Y_Train, FiveF_opt.predict_proba(FiveF_TR_CSR) [:,1])\n",
    "a_fpr_Test, a_tpr_Test, thresholds = roc_curve(Y_Test, FiveF_opt.predict_proba(FiveF_TS_CSR)[:,1])"
   ]
  },
  {
   "cell_type": "markdown",
   "metadata": {
    "colab_type": "text",
    "id": "i_lQQ-qOrdg2"
   },
   "source": [
    "# ROC PLOT FOR SELECTED FEATURES"
   ]
  },
  {
   "cell_type": "code",
   "execution_count": 0,
   "metadata": {
    "colab": {
     "base_uri": "https://localhost:8080/",
     "height": 380
    },
    "colab_type": "code",
    "executionInfo": {
     "elapsed": 2247,
     "status": "ok",
     "timestamp": 1574836466420,
     "user": {
      "displayName": "Santhosh Kumar",
      "photoUrl": "https://lh3.googleusercontent.com/a-/AAuE7mCRlaOX8dDmFuSGPHMZtyYyi8ks0uwyxMgvosSa=s64",
      "userId": "02443764688110331515"
     },
     "user_tz": -330
    },
    "id": "InBcjEUerobh",
    "outputId": "2f7362aa-4fec-4a15-d0fc-362fac1cbdd1"
   },
   "outputs": [
    {
     "data": {
      "image/png": "[encoded data removed]",
      "text/plain": [
       "<Figure size 432x288 with 1 Axes>"
      ]
     },
     "metadata": {
      "tags": []
     },
     "output_type": "display_data"
    },
    {
     "name": "stdout",
     "output_type": "stream",
     "text": [
      "------------------------------------------------------------------------------------------------------------------------\n",
      "AUC Train (for optimal C Value) = 0.6059365185170281\n",
      "AUC Test (for optimal C Value) = 0.594040041899913\n",
      "CPU times: user 248 ms, sys: 7.99 ms, total: 256 ms\n",
      "Wall time: 256 ms\n"
     ]
    }
   ],
   "source": [
    "%%time\n",
    "\n",
    "#https://stackoverflow.com/questions/52910061/implementing-roc-curves-for-k-nn-machine-learning-algorithm-using-python-and-sci\n",
    "    \n",
    "plt.plot([0,1],[0,1],'k-', color='blue')\n",
    "plt.plot(a_fpr_train, a_tpr_train, label=\"AUC Train (for optimal C Value)\", color='green')\n",
    "plt.plot(a_fpr_Test, a_tpr_Test, label=\"AUC Test (for optimal C Value)\", color='orange')\n",
    "plt.legend() \n",
    "plt.ylabel(\"True Positive Rate(TPR)\")\n",
    "plt.xlabel(\"False Positive Rate(FPR)\")\n",
    "plt.title(\"ROC PLOTS\")\n",
    "plt.show()\n",
    "print(\"-\"*120)\n",
    "print(\"AUC Train (for optimal C Value) =\", auc(a_fpr_train, a_tpr_train))\n",
    "print(\"AUC Test (for optimal C Value) =\", auc(a_fpr_Test, a_tpr_Test))\n",
    "FiveF_AOPT=LR_OPT\n",
    "FiveF_AUC=round(auc(a_fpr_Test, a_tpr_Test)*100)\n",
    "pred9 = FiveF_opt.predict(FiveF_Train)\n",
    "pred10 = FiveF_opt.predict(FiveF_Test)"
   ]
  },
  {
   "cell_type": "markdown",
   "metadata": {
    "colab_type": "text",
    "id": "O1hqrLTUsAFm"
   },
   "source": [
    "# CONFUSION MATRIX FOR SELECTED FEATURES"
   ]
  },
  {
   "cell_type": "code",
   "execution_count": 0,
   "metadata": {
    "colab": {
     "base_uri": "https://localhost:8080/",
     "height": 329
    },
    "colab_type": "code",
    "executionInfo": {
     "elapsed": 1393,
     "status": "ok",
     "timestamp": 1574836474092,
     "user": {
      "displayName": "Santhosh Kumar",
      "photoUrl": "https://lh3.googleusercontent.com/a-/AAuE7mCRlaOX8dDmFuSGPHMZtyYyi8ks0uwyxMgvosSa=s64",
      "userId": "02443764688110331515"
     },
     "user_tz": -330
    },
    "id": "ysD9bjtYsSbU",
    "outputId": "19fbc882-caec-481d-9569-f98ae5f1696c"
   },
   "outputs": [
    {
     "name": "stdout",
     "output_type": "stream",
     "text": [
      "CPU times: user 134 ms, sys: 42 ms, total: 176 ms\n",
      "Wall time: 136 ms\n"
     ]
    },
    {
     "data": {
      "image/png": "[encoded data removed]",
      "text/plain": [
       "<Figure size 432x288 with 2 Axes>"
      ]
     },
     "metadata": {
      "tags": []
     },
     "output_type": "display_data"
    }
   ],
   "source": [
    "%%time\n",
    "#https://seaborn.pydata.org/generated/seaborn.heatmap.html\n",
    "#https://getaravind.com/blog/confusion-matrix-seaborn-heatmap/\n",
    "%matplotlib inline\n",
    "from sklearn.metrics import confusion_matrix\n",
    "Train = confusion_matrix(Y_Train, pred9)\n",
    "sns.heatmap(Train,annot=True,cbar=True,fmt='d',cmap='YlOrRd',linewidths=1,linecolor='black')\n",
    "plt.ylabel('True Label')\n",
    "plt.xlabel('Predicted Label')\n",
    "plt.title('Project is APPROVED or NOT Confusion Matrix - Train Data')"
   ]
  },
  {
   "cell_type": "markdown",
   "metadata": {
    "colab_type": "text",
    "id": "iu9Kt6e46UI7"
   },
   "source": [
    "<font color='blue'>**OBSERVATION:**<br>True Negative = 4119; False Negative = 16705; True Positive = 24936; False Positive = 3281<br>Accuracy (Overall, how often is the classifier correct) = 0.59<br>Precision(When it predicts yes, how often is it correct) =0.88<br>Misclassification (Overall, how often is it wrong) =0.41</font>"
   ]
  },
  {
   "cell_type": "code",
   "execution_count": 0,
   "metadata": {
    "colab": {
     "base_uri": "https://localhost:8080/",
     "height": 329
    },
    "colab_type": "code",
    "executionInfo": {
     "elapsed": 2005,
     "status": "ok",
     "timestamp": 1574836480266,
     "user": {
      "displayName": "Santhosh Kumar",
      "photoUrl": "https://lh3.googleusercontent.com/a-/AAuE7mCRlaOX8dDmFuSGPHMZtyYyi8ks0uwyxMgvosSa=s64",
      "userId": "02443764688110331515"
     },
     "user_tz": -330
    },
    "id": "HS8MazWUsSP3",
    "outputId": "b2c9e931-16ab-47e4-8966-a407039dbf6f"
   },
   "outputs": [
    {
     "name": "stdout",
     "output_type": "stream",
     "text": [
      "CPU times: user 121 ms, sys: 35 ms, total: 156 ms\n",
      "Wall time: 121 ms\n"
     ]
    },
    {
     "data": {
      "image/png": "[encoded data removed]",
      "text/plain": [
       "<Figure size 432x288 with 2 Axes>"
      ]
     },
     "metadata": {
      "tags": []
     },
     "output_type": "display_data"
    }
   ],
   "source": [
    "%%time\n",
    "#https://seaborn.pydata.org/generated/seaborn.heatmap.html\n",
    "#https://getaravind.com/blog/confusion-matrix-seaborn-heatmap/\n",
    "Test = confusion_matrix(Y_Test, pred10)\n",
    "sns.heatmap(Test,annot=True,cbar=True,fmt='d',cmap='YlOrRd',linewidths=1,linecolor='black')\n",
    "plt.ylabel('True Label')\n",
    "plt.xlabel('Predicted Label')\n",
    "plt.title('Project is APPROVED or NOT Confusion Matrix - Test Data')"
   ]
  },
  {
   "cell_type": "markdown",
   "metadata": {
    "colab_type": "text",
    "id": "RPG39Wdr6bje"
   },
   "source": [
    "<font color='blue'>**OBSERVATION:**<br>True Negative = 2913; False Negative = 12171; True Positive = 18427; False Positive = 2541<br>Accuracy (Overall, how often is the classifier correct) = 0.59<br>Precision(When it predicts yes, how often is it correct) =0.88<br>Misclassification (Overall, how often is it wrong) =0.41</font>"
   ]
  },
  {
   "cell_type": "markdown",
   "metadata": {
    "colab_type": "text",
    "id": "bemispVtCyp-"
   },
   "source": [
    "<h1>3. Conclusions</h1>"
   ]
  },
  {
   "cell_type": "code",
   "execution_count": 0,
   "metadata": {
    "colab": {
     "base_uri": "https://localhost:8080/",
     "height": 170
    },
    "colab_type": "code",
    "executionInfo": {
     "elapsed": 1595,
     "status": "ok",
     "timestamp": 1574836487202,
     "user": {
      "displayName": "Santhosh Kumar",
      "photoUrl": "https://lh3.googleusercontent.com/a-/AAuE7mCRlaOX8dDmFuSGPHMZtyYyi8ks0uwyxMgvosSa=s64",
      "userId": "02443764688110331515"
     },
     "user_tz": -330
    },
    "id": "zRO-VPG2Cyp_",
    "outputId": "ce7159b8-7e13-4baf-ba8b-e2ccc6932db7"
   },
   "outputs": [
    {
     "name": "stdout",
     "output_type": "stream",
     "text": [
      "+------------+---------------------+----------------+------+\n",
      "| Vectorizer |        Model        | HyperParameter | AUC  |\n",
      "+------------+---------------------+----------------+------+\n",
      "|    BOW     | Logistic Regression |      0.01      | 66.0 |\n",
      "|   TFIDF    | Logistic Regression |      0.1       | 66.0 |\n",
      "|  AVG_W2V   | Logistic Regression |      1000      | 70.0 |\n",
      "| TFIDF_W2V  | Logistic Regression |      100       | 70.0 |\n",
      "|   SET 5    | Logistic Regression |      1000      | 59.0 |\n",
      "+------------+---------------------+----------------+------+\n"
     ]
    }
   ],
   "source": [
    "# Please compare all your models using Prettytable library\n",
    "\n",
    "pt = PrettyTable()\n",
    "pt.field_names= (\"Vectorizer\", \"Model\", \"HyperParameter\", \"AUC\")\n",
    "pt.add_row([\"BOW\", \"Logistic Regression\",BOW_AOPT, BOW_AUC])\n",
    "pt.add_row([\"TFIDF\", \"Logistic Regression\", TFIDF_AOPT, TFIDF_AUC])\n",
    "pt.add_row([\"AVG_W2V\", \"Logistic Regression\",AVG_W2V_AOPT, AVG_W2V_AUC])\n",
    "pt.add_row([\"TFIDF_W2V\", \"Logistic Regression\", TFIDF_W2V_AOPT, TFIDF_W2V_AUC])\n",
    "pt.add_row([\"SET 5\", \"Logistic Regression\",FiveF_AOPT, FiveF_AUC])\n",
    "print(pt)"
   ]
  },
  {
   "cell_type": "markdown",
   "metadata": {
    "colab_type": "text",
    "id": "xzsl8M0dNxuW"
   },
   "source": [
    "<font color='darkblue'>**SUMMARY:**</font><br>\n",
    "<font color='blue'>\n",
    "    1. Compare to KNN and Naive Bayes <font color='green'>**\"Logistic Regression\"**</font> is giving better AUC value.<br>\n",
    "    2. But response latency time is <font color='red'>**\"High\"**</font> when compare to Naive Bayes.<br>\n",
    "    3. C value needs to be choose correctly to have better performance else there is a chance for Overfitting or Underfitting the model.<br>\n",
    "    4.<font color='green'>**\"AVG_W2V\"** performing very well</font>in acuuracy and misclassification scores.When compare to other vectorizer such as BOW,TFIDF and TFIDF_W2V.<br>\n",
    "    </font>"
   ]
  }
 ],
 "metadata": {
  "accelerator": "GPU",
  "colab": {
   "collapsed_sections": [],
   "name": "jsanthosheeegmail.com_5.ipynb",
   "provenance": [
    {
     "file_id": "1oLhaJ7dRHXRNqbFeBbSTKWwiMsJKgxtU",
     "timestamp": 1574278383240
    },
    {
     "file_id": "1dIUJ65kIUYfg1T893TqUmIU5Wex5S0QU",
     "timestamp": 1573596609078
    },
    {
     "file_id": "1ARDg-EmHQLwmffjzbxge6m7AO1mAtwU2",
     "timestamp": 1573500740346
    }
   ],
   "toc_visible": true
  },
  "kernelspec": {
   "display_name": "Python 3",
   "language": "python",
   "name": "python3"
  },
  "language_info": {
   "codemirror_mode": {
    "name": "ipython",
    "version": 3
   },
   "file_extension": ".py",
   "mimetype": "text/x-python",
   "name": "python",
   "nbconvert_exporter": "python",
   "pygments_lexer": "ipython3",
   "version": "3.6.5"
  }
 },
 "nbformat": 4,
 "nbformat_minor": 1
}
